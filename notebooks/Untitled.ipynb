{
 "cells": [
  {
   "cell_type": "code",
   "execution_count": 1,
   "metadata": {},
   "outputs": [
    {
     "name": "stderr",
     "output_type": "stream",
     "text": [
      "INFO:root:test\n"
     ]
    }
   ],
   "source": [
    "import numpy as np\n",
    "import pandas as pd\n",
    "from matplotlib import pyplot as plt\n",
    "\n",
    "from scipy.sparse import csr_matrix\n",
    "\n",
    "from tqdm import tqdm\n",
    "from datetime import datetime, timedelta\n",
    "\n",
    "import logging\n",
    "logging.basicConfig(level=logging.INFO)\n",
    "logging.info(\"test\")\n",
    "\n",
    "import sys\n",
    "sys.path.append(\"..\")\n",
    "from src.dataset import *"
   ]
  },
  {
   "cell_type": "code",
   "execution_count": 2,
   "metadata": {},
   "outputs": [],
   "source": [
    "dm = Dataset(train_days=365, test_days=7)"
   ]
  },
  {
   "cell_type": "code",
   "execution_count": 3,
   "metadata": {},
   "outputs": [],
   "source": [
    "train, test = dm.get_train_test(train_days = 30)"
   ]
  },
  {
   "cell_type": "code",
   "execution_count": 4,
   "metadata": {},
   "outputs": [],
   "source": [
    "articles = dm.get_articles()"
   ]
  },
  {
   "cell_type": "code",
   "execution_count": 5,
   "metadata": {},
   "outputs": [],
   "source": [
    "customers = dm.get_customers()"
   ]
  },
  {
   "cell_type": "markdown",
   "metadata": {},
   "source": [
    "## Crop data "
   ]
  },
  {
   "cell_type": "code",
   "execution_count": 6,
   "metadata": {},
   "outputs": [],
   "source": [
    "articles_crop = articles[(articles[\"last_days_ago\"] <= 7) & \n",
    "                         (articles[\"sales_sum\"] >= 100)]"
   ]
  },
  {
   "cell_type": "code",
   "execution_count": 7,
   "metadata": {},
   "outputs": [],
   "source": [
    "train = train[train[\"article_id\"].isin(articles_crop[\"article_id\"].tolist())]\n",
    "test = test[test[\"article_id\"].isin(articles_crop[\"article_id\"].tolist())]"
   ]
  },
  {
   "cell_type": "code",
   "execution_count": 8,
   "metadata": {},
   "outputs": [],
   "source": [
    "pos_train = train[[\"customer_id\", \"article_id\"]]\n",
    "pos_test = test[[\"customer_id\", \"article_id\"]]"
   ]
  },
  {
   "cell_type": "code",
   "execution_count": 9,
   "metadata": {},
   "outputs": [
    {
     "name": "stderr",
     "output_type": "stream",
     "text": [
      "<ipython-input-9-5b71b71ca306>:1: SettingWithCopyWarning: \n",
      "A value is trying to be set on a copy of a slice from a DataFrame.\n",
      "Try using .loc[row_indexer,col_indexer] = value instead\n",
      "\n",
      "See the caveats in the documentation: https://pandas.pydata.org/pandas-docs/stable/user_guide/indexing.html#returning-a-view-versus-a-copy\n",
      "  pos_train[\"rating\"] = 1\n",
      "<ipython-input-9-5b71b71ca306>:2: SettingWithCopyWarning: \n",
      "A value is trying to be set on a copy of a slice from a DataFrame.\n",
      "Try using .loc[row_indexer,col_indexer] = value instead\n",
      "\n",
      "See the caveats in the documentation: https://pandas.pydata.org/pandas-docs/stable/user_guide/indexing.html#returning-a-view-versus-a-copy\n",
      "  pos_test[\"rating\"] = 1\n"
     ]
    }
   ],
   "source": [
    "pos_train[\"rating\"] = 1\n",
    "pos_test[\"rating\"] = 1"
   ]
  },
  {
   "cell_type": "code",
   "execution_count": 10,
   "metadata": {},
   "outputs": [],
   "source": [
    "customer_list = train[\"customer_id\"].unique().tolist()\n",
    "article_list = articles_crop[\"article_id\"].to_list()"
   ]
  },
  {
   "cell_type": "markdown",
   "metadata": {},
   "source": [
    "### Model "
   ]
  },
  {
   "cell_type": "code",
   "execution_count": 11,
   "metadata": {},
   "outputs": [],
   "source": [
    "def get_neg_train(train, N):\n",
    "    pos_cust_article = set(train[\"customer_id\"].str.cat(train[\"article_id\"], sep=\"_\").to_list())\n",
    "    \n",
    "    neg_customers = []\n",
    "    neg_articles = []\n",
    "\n",
    "    cust_len = len(customer_list)\n",
    "    art_len = len(article_list)\n",
    "\n",
    "    for _ in tqdm(range(N)):\n",
    "\n",
    "        customer = customer_list[np.random.randint(0, cust_len)]\n",
    "        article = article_list[np.random.randint(0, art_len)]\n",
    "\n",
    "        if f\"{customer}_{article}\" not in pos_cust_article:\n",
    "            neg_customers.append(customer)\n",
    "            neg_articles.append(article)\n",
    "    \n",
    "    neg_train = pd.DataFrame({\"customer_id\": neg_customers, \"article_id\": neg_articles})\n",
    "    neg_train[\"rating\"] = 0\n",
    "    return neg_train"
   ]
  },
  {
   "cell_type": "code",
   "execution_count": 12,
   "metadata": {},
   "outputs": [
    {
     "name": "stderr",
     "output_type": "stream",
     "text": [
      "100%|██████████| 3966624/3966624 [00:10<00:00, 383380.82it/s]\n",
      "100%|██████████| 723792/723792 [00:01<00:00, 395847.15it/s]\n"
     ]
    }
   ],
   "source": [
    "neg_train = get_neg_train(pos_train, N=pos_train.shape[0] * 4)\n",
    "neg_test = get_neg_train(pos_test, N=pos_test.shape[0] * 4)"
   ]
  },
  {
   "cell_type": "code",
   "execution_count": 13,
   "metadata": {},
   "outputs": [],
   "source": [
    "train_full = pd.concat([pos_train, neg_train])\n",
    "test_full = pd.concat([pos_test, neg_test])"
   ]
  },
  {
   "cell_type": "code",
   "execution_count": 14,
   "metadata": {},
   "outputs": [],
   "source": [
    "train_full = (\n",
    "    train_full.merge(customers, on=\"customer_id\", how=\"inner\")\n",
    "            .merge(articles, on=\"article_id\", how=\"inner\", suffixes=[\"_customer\", \"_article\"])\n",
    ")\n",
    "\n",
    "test_full = (\n",
    "    test_full.merge(customers, on=\"customer_id\", how=\"inner\")\n",
    "            .merge(articles, on=\"article_id\", how=\"inner\", suffixes=[\"_customer\", \"_article\"])\n",
    ")"
   ]
  },
  {
   "cell_type": "code",
   "execution_count": 15,
   "metadata": {},
   "outputs": [],
   "source": [
    "train_full = train_full.drop([\"detail_desc\", \"customer_id\", \"article_id\"], axis=1)\n",
    "# customer_article_test_df = test_full[[\"customer_id\", \"article_id\"]]\n",
    "test_ids = test_full[[\"customer_id\", \"article_id\"]]\n",
    "test_full = test_full.drop([\"detail_desc\", \"customer_id\", \"article_id\"], axis=1)"
   ]
  },
  {
   "cell_type": "markdown",
   "metadata": {},
   "source": [
    "### Model "
   ]
  },
  {
   "cell_type": "code",
   "execution_count": 16,
   "metadata": {},
   "outputs": [],
   "source": [
    "from sklearn.metrics import auc, roc_auc_score, roc_curve\n",
    "from sklearn.model_selection import train_test_split\n",
    "from sklearn.preprocessing import StandardScaler\n",
    "\n",
    "from catboost import Pool, CatBoostClassifier, cv\n",
    "from catboost.utils import get_roc_curve, create_cd\n",
    "from catboost.eval.catboost_evaluation import CatboostEvaluation"
   ]
  },
  {
   "cell_type": "code",
   "execution_count": 17,
   "metadata": {},
   "outputs": [
    {
     "data": {
      "text/plain": [
       "['club_member_status',\n",
       " 'fashion_news_frequency',\n",
       " 'postal_code',\n",
       " 'age_group',\n",
       " 'common_group',\n",
       " 'sex',\n",
       " 'price_group',\n",
       " 'product_type_name',\n",
       " 'product_group_name',\n",
       " 'graphical_appearance_name',\n",
       " 'colour_group_name',\n",
       " 'perceived_colour_value_name',\n",
       " 'perceived_colour_master_name',\n",
       " 'index_name',\n",
       " 'index_group_name',\n",
       " 'garment_group_name',\n",
       " 'product_code_name',\n",
       " 'department_no_name',\n",
       " 'section_no_name']"
      ]
     },
     "execution_count": 17,
     "metadata": {},
     "output_type": "execute_result"
    }
   ],
   "source": [
    "cat_features = [name for name, dtype in zip(train_full.dtypes.index,\n",
    "                                            train_full.dtypes.to_list()) \n",
    "                if dtype == \"object\"]\n",
    "cat_features"
   ]
  },
  {
   "cell_type": "code",
   "execution_count": 18,
   "metadata": {},
   "outputs": [],
   "source": [
    "X_train = train_full.drop([\"rating\"], axis=1)\n",
    "y_train = train_full[\"rating\"]\n",
    "X_test = test_full.drop([\"rating\"], axis=1)\n",
    "y_test = test_full[\"rating\"]"
   ]
  },
  {
   "cell_type": "code",
   "execution_count": 19,
   "metadata": {},
   "outputs": [
    {
     "name": "stdout",
     "output_type": "stream",
     "text": [
      "0:\tlearn: 0.8091927\ttest: 0.8191183\tbest: 0.8191183 (0)\ttotal: 410ms\tremaining: 6m 49s\n",
      "10:\tlearn: 0.8182204\ttest: 0.8278583\tbest: 0.8278583 (10)\ttotal: 4.56s\tremaining: 6m 50s\n",
      "20:\tlearn: 0.8203228\ttest: 0.8301050\tbest: 0.8301050 (20)\ttotal: 8.71s\tremaining: 6m 45s\n",
      "30:\tlearn: 0.8233300\ttest: 0.8346887\tbest: 0.8347144 (29)\ttotal: 12.7s\tremaining: 6m 37s\n",
      "40:\tlearn: 0.8257394\ttest: 0.8367092\tbest: 0.8367092 (40)\ttotal: 16.8s\tremaining: 6m 32s\n",
      "50:\tlearn: 0.8279839\ttest: 0.8375804\tbest: 0.8377335 (49)\ttotal: 20.8s\tremaining: 6m 26s\n",
      "60:\tlearn: 0.8296018\ttest: 0.8384773\tbest: 0.8384773 (60)\ttotal: 24.8s\tremaining: 6m 21s\n",
      "70:\tlearn: 0.8318939\ttest: 0.8386209\tbest: 0.8391624 (64)\ttotal: 28.8s\tremaining: 6m 17s\n",
      "80:\tlearn: 0.8344502\ttest: 0.8395787\tbest: 0.8395787 (80)\ttotal: 32.9s\tremaining: 6m 13s\n",
      "90:\tlearn: 0.8360047\ttest: 0.8401227\tbest: 0.8403054 (86)\ttotal: 37s\tremaining: 6m 9s\n",
      "100:\tlearn: 0.8370702\ttest: 0.8401288\tbest: 0.8404239 (98)\ttotal: 41.1s\tremaining: 6m 5s\n",
      "110:\tlearn: 0.8380751\ttest: 0.8404009\tbest: 0.8404239 (98)\ttotal: 45.1s\tremaining: 6m 1s\n",
      "120:\tlearn: 0.8393393\ttest: 0.8406053\tbest: 0.8409648 (115)\ttotal: 49.3s\tremaining: 5m 57s\n",
      "130:\tlearn: 0.8406212\ttest: 0.8404334\tbest: 0.8409648 (115)\ttotal: 53.3s\tremaining: 5m 53s\n",
      "140:\tlearn: 0.8419855\ttest: 0.8396900\tbest: 0.8409648 (115)\ttotal: 57.4s\tremaining: 5m 49s\n",
      "150:\tlearn: 0.8431749\ttest: 0.8392847\tbest: 0.8409648 (115)\ttotal: 1m 1s\tremaining: 5m 45s\n",
      "160:\tlearn: 0.8441389\ttest: 0.8390709\tbest: 0.8409648 (115)\ttotal: 1m 5s\tremaining: 5m 41s\n",
      "170:\tlearn: 0.8452379\ttest: 0.8385743\tbest: 0.8409648 (115)\ttotal: 1m 9s\tremaining: 5m 37s\n",
      "180:\tlearn: 0.8462416\ttest: 0.8383774\tbest: 0.8409648 (115)\ttotal: 1m 13s\tremaining: 5m 32s\n",
      "190:\tlearn: 0.8475397\ttest: 0.8377713\tbest: 0.8409648 (115)\ttotal: 1m 17s\tremaining: 5m 28s\n",
      "200:\tlearn: 0.8485617\ttest: 0.8370777\tbest: 0.8409648 (115)\ttotal: 1m 21s\tremaining: 5m 23s\n",
      "210:\tlearn: 0.8497351\ttest: 0.8367188\tbest: 0.8409648 (115)\ttotal: 1m 25s\tremaining: 5m 20s\n",
      "bestTest = 0.8409647942\n",
      "bestIteration = 115\n",
      "Shrink model to first 116 iterations.\n"
     ]
    },
    {
     "data": {
      "text/plain": [
       "<catboost.core.CatBoostClassifier at 0x7fc05cc7b880>"
      ]
     },
     "execution_count": 19,
     "metadata": {},
     "output_type": "execute_result"
    }
   ],
   "source": [
    "SEED = 1\n",
    "params = {\n",
    "    'iterations': 1000,\n",
    "    'learning_rate': 0.01,\n",
    "#     \"l2_leaf_reg\": 3, \n",
    "#     \"random_strength\": 1,\n",
    "#     \"bagging_temperature\": 1,\n",
    "#     \"max_depth\": 12,\n",
    "#     \"one_hot_max_size\": 2, \n",
    "#     \"rsm\": 1,\n",
    "#     \"boosting_type\": \"Ordered\",\n",
    "#     \"leaf_estimation_method\": \"Newton\",\n",
    "    \"early_stopping_rounds\": 100,\n",
    "    'loss_function': \"Logloss\",\n",
    "    'custom_metric': [\"AUC\", \"Logloss\", \"Accuracy\", \"Precision\", \"Recall\"],\n",
    "    'use_best_model': True,\n",
    "    \"eval_metric\": \"AUC\",\n",
    "    \"random_seed\": SEED,\n",
    "    'task_type': 'GPU'\n",
    "    }\n",
    "\n",
    "clf = CatBoostClassifier(**params, \n",
    "                         cat_features=cat_features, \n",
    "                         verbose=10)\n",
    "\n",
    "clf.fit(X_train, y_train, \n",
    "        eval_set=(X_test, y_test))"
   ]
  },
  {
   "cell_type": "code",
   "execution_count": 20,
   "metadata": {},
   "outputs": [
    {
     "name": "stdout",
     "output_type": "stream",
     "text": [
      "27.37211 first_days_ago_article\n",
      "23.56083 sales_sum_article\n",
      "18.32526 last_days_ago_article\n",
      "9.21969 mean_article_count_on_date\n",
      "4.70955 sales_channel_2_flg_sum_customer\n",
      "3.07467 sales_channel_1_ratio_article\n",
      "2.59476 sales_channel_1_ratio_customer\n",
      "2.35827 price_mean_customer\n",
      "2.09349 sales_sum_customer\n",
      "1.6104 sales_channel_1_flg_sum_article\n",
      "1.56765 sales_channel_2_flg_sum_article\n",
      "1.23049 price_mean_article\n",
      "0.89073 price_std_article\n",
      "0.71573 product_type_name\n",
      "0.28708 last_days_ago_customer\n",
      "0.14976 price_group\n",
      "0.11491 price_max_customer\n",
      "0.07354 Ladieswear_count\n",
      "0.05107 department_no_name\n"
     ]
    }
   ],
   "source": [
    "for name, imp in sorted(zip(clf.feature_names_, clf.feature_importances_), key=lambda x: -x[1]):\n",
    "    if imp != 0:\n",
    "        print(round(imp, 5), name)"
   ]
  },
  {
   "cell_type": "code",
   "execution_count": 21,
   "metadata": {},
   "outputs": [],
   "source": [
    "test_ids[\"pred\"] = clf.predict_proba(X_test)[:, 1]"
   ]
  },
  {
   "cell_type": "code",
   "execution_count": 22,
   "metadata": {},
   "outputs": [],
   "source": [
    "article_top_list = test_ids.groupby(\"article_id\")[\"pred\"].mean().sort_values()[-50:].index.tolist()"
   ]
  },
  {
   "cell_type": "code",
   "execution_count": 23,
   "metadata": {},
   "outputs": [],
   "source": [
    "article_top = articles_crop[articles_crop[\"article_id\"].isin(article_top_list)]"
   ]
  },
  {
   "cell_type": "code",
   "execution_count": 24,
   "metadata": {},
   "outputs": [
    {
     "name": "stderr",
     "output_type": "stream",
     "text": [
      "<ipython-input-24-3374d45a14d6>:2: SettingWithCopyWarning: \n",
      "A value is trying to be set on a copy of a slice from a DataFrame.\n",
      "Try using .loc[row_indexer,col_indexer] = value instead\n",
      "\n",
      "See the caveats in the documentation: https://pandas.pydata.org/pandas-docs/stable/user_guide/indexing.html#returning-a-view-versus-a-copy\n",
      "  article_top[\"1\"] = 1\n"
     ]
    }
   ],
   "source": [
    "customers[\"1\"] = 1\n",
    "article_top[\"1\"] = 1"
   ]
  },
  {
   "cell_type": "code",
   "execution_count": 25,
   "metadata": {},
   "outputs": [
    {
     "data": {
      "text/plain": [
       "248"
      ]
     },
     "execution_count": 25,
     "metadata": {},
     "output_type": "execute_result"
    }
   ],
   "source": [
    "del train, test, test_full, train_full\n",
    "del articles, articles_crop\n",
    "del dm\n",
    "del X_test, X_train\n",
    "del pos_test, pos_train, neg_test, neg_train\n",
    "\n",
    "import gc\n",
    "gc.collect()"
   ]
  },
  {
   "cell_type": "code",
   "execution_count": 26,
   "metadata": {},
   "outputs": [
    {
     "name": "stdout",
     "output_type": "stream",
     "text": [
      "0\n",
      "100000\n",
      "200000\n",
      "300000\n",
      "400000\n",
      "500000\n",
      "600000\n",
      "700000\n",
      "800000\n",
      "900000\n",
      "1000000\n",
      "1100000\n",
      "1200000\n"
     ]
    }
   ],
   "source": [
    "batch_size = 100000\n",
    "i = 0\n",
    "submition = None\n",
    "while i + batch_size <= customers.shape[0]:\n",
    "    print(i)\n",
    "    scoring_list = (\n",
    "        customers.iloc[i:i + batch_size]\n",
    "                .merge(article_top, on=\"1\", how=\"inner\", suffixes=[\"_customer\", \"_article\"])\n",
    "    )\n",
    "    scoring_subm = scoring_list[[\"customer_id\", \"article_id\"]]\n",
    "    scoring_list = scoring_list.drop([\"detail_desc\", \"customer_id\", \"article_id\", \"1\"], axis=1)\n",
    "    \n",
    "    scoring_subm[\"pred\"] = clf.predict_proba(scoring_list)[:, 1]\n",
    "    submition = pd.concat([submition, scoring_subm]) if submition is not None else scoring_subm\n",
    "    \n",
    "    i += batch_size"
   ]
  },
  {
   "cell_type": "code",
   "execution_count": 27,
   "metadata": {},
   "outputs": [],
   "source": [
    "tqdm.pandas()"
   ]
  },
  {
   "cell_type": "code",
   "execution_count": 31,
   "metadata": {},
   "outputs": [
    {
     "data": {
      "text/html": [
       "<div>\n",
       "<style scoped>\n",
       "    .dataframe tbody tr th:only-of-type {\n",
       "        vertical-align: middle;\n",
       "    }\n",
       "\n",
       "    .dataframe tbody tr th {\n",
       "        vertical-align: top;\n",
       "    }\n",
       "\n",
       "    .dataframe thead th {\n",
       "        text-align: right;\n",
       "    }\n",
       "</style>\n",
       "<table border=\"1\" class=\"dataframe\">\n",
       "  <thead>\n",
       "    <tr style=\"text-align: right;\">\n",
       "      <th></th>\n",
       "      <th>customer_id</th>\n",
       "      <th>article_id</th>\n",
       "      <th>pred</th>\n",
       "    </tr>\n",
       "  </thead>\n",
       "  <tbody>\n",
       "    <tr>\n",
       "      <th>44</th>\n",
       "      <td>00000dbacae5abe5e23885899a1fa44253a17956c6d1c3...</td>\n",
       "      <td>0918292001</td>\n",
       "      <td>0.720921</td>\n",
       "    </tr>\n",
       "    <tr>\n",
       "      <th>54</th>\n",
       "      <td>0000423b00ade91418cceaf3b26c6af3dd342b51fd051e...</td>\n",
       "      <td>0751471043</td>\n",
       "      <td>0.738263</td>\n",
       "    </tr>\n",
       "    <tr>\n",
       "      <th>79</th>\n",
       "      <td>0000423b00ade91418cceaf3b26c6af3dd342b51fd051e...</td>\n",
       "      <td>0896152002</td>\n",
       "      <td>0.736266</td>\n",
       "    </tr>\n",
       "    <tr>\n",
       "      <th>92</th>\n",
       "      <td>0000423b00ade91418cceaf3b26c6af3dd342b51fd051e...</td>\n",
       "      <td>0915529003</td>\n",
       "      <td>0.704610</td>\n",
       "    </tr>\n",
       "    <tr>\n",
       "      <th>93</th>\n",
       "      <td>0000423b00ade91418cceaf3b26c6af3dd342b51fd051e...</td>\n",
       "      <td>0916468003</td>\n",
       "      <td>0.740883</td>\n",
       "    </tr>\n",
       "    <tr>\n",
       "      <th>...</th>\n",
       "      <td>...</td>\n",
       "      <td>...</td>\n",
       "      <td>...</td>\n",
       "    </tr>\n",
       "    <tr>\n",
       "      <th>4999692</th>\n",
       "      <td>f2978674110d49ab0090ea22b309dccf1058b009da98f5...</td>\n",
       "      <td>0915529003</td>\n",
       "      <td>0.729514</td>\n",
       "    </tr>\n",
       "    <tr>\n",
       "      <th>4999693</th>\n",
       "      <td>f2978674110d49ab0090ea22b309dccf1058b009da98f5...</td>\n",
       "      <td>0916468003</td>\n",
       "      <td>0.761574</td>\n",
       "    </tr>\n",
       "    <tr>\n",
       "      <th>4999694</th>\n",
       "      <td>f2978674110d49ab0090ea22b309dccf1058b009da98f5...</td>\n",
       "      <td>0918292001</td>\n",
       "      <td>0.778050</td>\n",
       "    </tr>\n",
       "    <tr>\n",
       "      <th>4999695</th>\n",
       "      <td>f2978674110d49ab0090ea22b309dccf1058b009da98f5...</td>\n",
       "      <td>0918292004</td>\n",
       "      <td>0.712623</td>\n",
       "    </tr>\n",
       "    <tr>\n",
       "      <th>4999944</th>\n",
       "      <td>f297f77af5c4725bf9b6e9ae17beccf41f7a8e3c1dcb96...</td>\n",
       "      <td>0918292001</td>\n",
       "      <td>0.705918</td>\n",
       "    </tr>\n",
       "  </tbody>\n",
       "</table>\n",
       "<p>4211572 rows × 3 columns</p>\n",
       "</div>"
      ],
      "text/plain": [
       "                                               customer_id  article_id  \\\n",
       "44       00000dbacae5abe5e23885899a1fa44253a17956c6d1c3...  0918292001   \n",
       "54       0000423b00ade91418cceaf3b26c6af3dd342b51fd051e...  0751471043   \n",
       "79       0000423b00ade91418cceaf3b26c6af3dd342b51fd051e...  0896152002   \n",
       "92       0000423b00ade91418cceaf3b26c6af3dd342b51fd051e...  0915529003   \n",
       "93       0000423b00ade91418cceaf3b26c6af3dd342b51fd051e...  0916468003   \n",
       "...                                                    ...         ...   \n",
       "4999692  f2978674110d49ab0090ea22b309dccf1058b009da98f5...  0915529003   \n",
       "4999693  f2978674110d49ab0090ea22b309dccf1058b009da98f5...  0916468003   \n",
       "4999694  f2978674110d49ab0090ea22b309dccf1058b009da98f5...  0918292001   \n",
       "4999695  f2978674110d49ab0090ea22b309dccf1058b009da98f5...  0918292004   \n",
       "4999944  f297f77af5c4725bf9b6e9ae17beccf41f7a8e3c1dcb96...  0918292001   \n",
       "\n",
       "             pred  \n",
       "44       0.720921  \n",
       "54       0.738263  \n",
       "79       0.736266  \n",
       "92       0.704610  \n",
       "93       0.740883  \n",
       "...           ...  \n",
       "4999692  0.729514  \n",
       "4999693  0.761574  \n",
       "4999694  0.778050  \n",
       "4999695  0.712623  \n",
       "4999944  0.705918  \n",
       "\n",
       "[4211572 rows x 3 columns]"
      ]
     },
     "execution_count": 31,
     "metadata": {},
     "output_type": "execute_result"
    }
   ],
   "source": [
    "submition[submition[\"pred\"] > 0.7]"
   ]
  },
  {
   "cell_type": "code",
   "execution_count": null,
   "metadata": {},
   "outputs": [
    {
     "name": "stderr",
     "output_type": "stream",
     "text": [
      "100%|██████████| 182472/182472 [00:28<00:00, 12020.91it/s]"
     ]
    }
   ],
   "source": [
    "subm = (\n",
    "        submition[submition[\"pred\"] > 0.75]\n",
    "        .groupby(\"customer_id\")[[\"article_id\", \"pred\"]]\n",
    "        .progress_apply(lambda x: x.sort_values(\"pred\", ascending=False).head(12))\n",
    "        .reset_index().drop([\"level_1\", \"pred\"], axis=1)\n",
    "        .groupby(\"customer_id\")[\"article_id\"].progress_apply(lambda x: \" \".join(x))\n",
    "        .reset_index()\n",
    ")\n",
    "subm"
   ]
  },
  {
   "cell_type": "code",
   "execution_count": null,
   "metadata": {},
   "outputs": [],
   "source": []
  },
  {
   "cell_type": "code",
   "execution_count": null,
   "metadata": {},
   "outputs": [],
   "source": [
    "subm.to_csv(\"../output/35.model_neg_samp.csv\", index=False, header=True)"
   ]
  }
 ],
 "metadata": {
  "kernelspec": {
   "display_name": "Python 3",
   "language": "python",
   "name": "python3"
  },
  "language_info": {
   "codemirror_mode": {
    "name": "ipython",
    "version": 3
   },
   "file_extension": ".py",
   "mimetype": "text/x-python",
   "name": "python",
   "nbconvert_exporter": "python",
   "pygments_lexer": "ipython3",
   "version": "3.8.10"
  }
 },
 "nbformat": 4,
 "nbformat_minor": 4
}
