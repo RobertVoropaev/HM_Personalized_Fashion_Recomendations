{
 "cells": [
  {
   "cell_type": "code",
   "execution_count": 1,
   "metadata": {},
   "outputs": [
    {
     "name": "stdout",
     "output_type": "stream",
     "text": [
      "INFO: Pandarallel will run on 8 workers.\n",
      "INFO: Pandarallel will use standard multiprocessing data transfer (pipe) to transfer data between the main process and workers.\n"
     ]
    }
   ],
   "source": [
    "from math import sqrt\n",
    "import pandas as pd\n",
    "import numpy as np\n",
    "\n",
    "from pathlib import Path\n",
    "from collections import defaultdict\n",
    "import pickle\n",
    "import gc\n",
    "\n",
    "from tqdm import tqdm\n",
    "from pandarallel import pandarallel\n",
    "\n",
    "from scipy.sparse import csr_matrix, coo_matrix\n",
    "import implicit\n",
    "import catboost\n",
    "\n",
    "import sys\n",
    "sys.path.append(\"..\")\n",
    "from src.utils import *\n",
    "from src.dataset import *\n",
    "from src.trending import *\n",
    "from src.level_1 import get_general_count_popular\n",
    "\n",
    "from sklearn.metrics import auc, roc_auc_score, roc_curve\n",
    "from sklearn.model_selection import train_test_split\n",
    "from sklearn.preprocessing import StandardScaler\n",
    "\n",
    "from catboost import Pool, CatBoostClassifier, cv\n",
    "from catboost.utils import get_roc_curve, create_cd\n",
    "from catboost.eval.catboost_evaluation import CatboostEvaluation\n",
    "\n",
    "pd.set_option('display.max_colwidth', 255)\n",
    "tqdm.pandas()\n",
    "pandarallel.initialize(progress_bar=True, nb_workers=8, use_memory_fs=False)"
   ]
  },
  {
   "cell_type": "markdown",
   "metadata": {},
   "source": [
    "# Отбор кандидатов "
   ]
  },
  {
   "cell_type": "code",
   "execution_count": 2,
   "metadata": {},
   "outputs": [
    {
     "name": "stdout",
     "output_type": "stream",
     "text": [
      "Dataset created\n"
     ]
    },
    {
     "data": {
      "application/vnd.jupyter.widget-view+json": {
       "model_id": "d6e8e9e187534a7686647c6920df53aa",
       "version_major": 2,
       "version_minor": 0
      },
      "text/plain": [
       "VBox(children=(HBox(children=(IntProgress(value=0, description='0.00%', max=3943502), Label(value='0 / 3943502…"
      ]
     },
     "metadata": {},
     "output_type": "display_data"
    },
    {
     "name": "stderr",
     "output_type": "stream",
     "text": [
      "/home/rv/projects/HM_Personalized_Fashion_Recomendations/notebooks/../src/trending.py:25: SettingWithCopyWarning: \n",
      "A value is trying to be set on a copy of a slice from a DataFrame.\n",
      "Try using .loc[row_indexer,col_indexer] = value instead\n",
      "\n",
      "See the caveats in the documentation: https://pandas.pydata.org/pandas-docs/stable/user_guide/indexing.html#returning-a-view-versus-a-copy\n",
      "  df['ldbw'] = df['t_dat'].parallel_apply(lambda d: last_ts - (last_ts - d).floor('7D'))\n"
     ]
    },
    {
     "data": {
      "application/vnd.jupyter.widget-view+json": {
       "model_id": "69bd003835334a8bbbe8924ef7f7e71a",
       "version_major": 2,
       "version_minor": 0
      },
      "text/plain": [
       "VBox(children=(HBox(children=(IntProgress(value=0, description='0.00%', max=3943502), Label(value='0 / 3943502…"
      ]
     },
     "metadata": {},
     "output_type": "display_data"
    },
    {
     "name": "stderr",
     "output_type": "stream",
     "text": [
      "100%|██████████| 27101148/27101148 [00:19<00:00, 1409196.33it/s]\n"
     ]
    },
    {
     "name": "stdout",
     "output_type": "stream",
     "text": [
      "Get purchase dict\n"
     ]
    },
    {
     "data": {
      "application/vnd.jupyter.widget-view+json": {
       "model_id": "f65aad87174c4b548a07a9b7ef4c8b0f",
       "version_major": 2,
       "version_minor": 0
      },
      "text/plain": [
       "  0%|          | 0/5 [00:00<?, ?it/s]"
      ]
     },
     "metadata": {},
     "output_type": "display_data"
    },
    {
     "name": "stderr",
     "output_type": "stream",
     "text": [
      "100%|██████████| 105542/105542 [00:35<00:00, 2945.38it/s]\n"
     ]
    },
    {
     "name": "stdout",
     "output_type": "stream",
     "text": [
      "Get similar articles\n"
     ]
    },
    {
     "name": "stderr",
     "output_type": "stream",
     "text": [
      "100%|██████████| 5/5 [00:02<00:00,  2.09it/s]\n"
     ]
    },
    {
     "name": "stdout",
     "output_type": "stream",
     "text": [
      "Get group popular dict\n",
      "Get popular dict\n",
      "Get pairs\n"
     ]
    }
   ],
   "source": [
    "SEED = 1\n",
    "N = 12\n",
    "TEST_ON = 1\n",
    "\n",
    "min_w1_count_for_actual_article = 20\n",
    "similar_count_for_article = 5\n",
    "popular_count = 50\n",
    "\n",
    "cv_iteration = 0\n",
    "\n",
    "dataset = Dataset(skip_days=7 * cv_iteration, test_days=7 * TEST_ON)\n",
    "train, test = dataset.get_train_and_test()\n",
    "articles = dataset.get_articles()\n",
    "customers = dataset.get_customers()\n",
    "print(\"Dataset created\")\n",
    "\n",
    "train = add_quotient(train=train)\n",
    "purchase_dict = get_purchase_dict(df=train)\n",
    "\n",
    "cust_list = []\n",
    "art_list = []\n",
    "purch_score_list = []\n",
    "for cust_id in purchase_dict:\n",
    "    for art_id in purchase_dict[cust_id]:\n",
    "        cust_list.append(cust_id)\n",
    "        art_list.append(art_id)\n",
    "        purch_score_list.append(int(purchase_dict[cust_id][art_id]))\n",
    "        \n",
    "purch_data = pd.DataFrame({\"customer_id\": cust_list, \n",
    "                           \"article_id\": art_list, \n",
    "                           \"purchase_score\": purch_score_list}, \n",
    "                          dtype=np.uint32)\n",
    "\n",
    "del cust_list, art_list, purch_score_list, purchase_dict\n",
    "gc.collect()\n",
    "\n",
    "print(\"Get purchase dict\")\n",
    "\n",
    "similar_article_dict = get_similar_items(\n",
    "    train=train, \n",
    "    articles=articles, \n",
    "    customers=customers,\n",
    "    min_w1_count_for_actual_article = min_w1_count_for_actual_article, \n",
    "    similar_num_for_article = similar_count_for_article\n",
    ")\n",
    "\n",
    "art_parent_list = []\n",
    "art_child_list = []\n",
    "art_child_score = []\n",
    "for art_parent in similar_article_dict:\n",
    "    for art_info in similar_article_dict[art_parent]:\n",
    "        if art_info[1] != 0:\n",
    "            art_parent_list.append(art_parent)\n",
    "            art_child_list.append(art_info[0])\n",
    "            art_child_score.append(int(art_info[1]))\n",
    "        \n",
    "similar_data = pd.DataFrame({\"article_id_parent\": art_parent_list, \n",
    "                             \"article_id_child\": art_child_list, \n",
    "                             \"similarity\": art_child_score}, dtype=np.uint32)\n",
    "\n",
    "similar_purch_data = (\n",
    "    purch_data.merge(similar_data.rename({\"article_id_parent\": \"article_id\"}, axis=1), \n",
    "                     on=\"article_id\", how=\"inner\")\n",
    "        .drop([\"article_id\"], axis=1)\n",
    "        .rename({\"article_id_child\": \"article_id\", \n",
    "                 \"purchase_score\": \"similar_parent_purchase_score\"}, axis=1)\n",
    ")\n",
    "del similar_article_dict, art_parent_list, art_child_list, art_child_score, similar_data\n",
    "gc.collect()\n",
    "\n",
    "print(\"Get similar articles\")\n",
    "\n",
    "group_popular_dict = get_group_popular_dict(df=train, customers=customers, N=popular_count)\n",
    "\n",
    "age_list = []\n",
    "art_list = []\n",
    "rank_list = []\n",
    "for age_group in group_popular_dict:\n",
    "    for i, art_id in enumerate(group_popular_dict[age_group]):\n",
    "        age_list.append(age_group)\n",
    "        art_list.append(art_id)\n",
    "        rank_list.append(i)\n",
    "        \n",
    "popular_data = pd.DataFrame({\"age_group\": age_list, \n",
    "                             \"article_id\": art_list, \n",
    "                             \"popular_rank\": rank_list})\n",
    "popular_data = popular_data.astype({\"article_id\": np.uint32, \"popular_rank\": np.uint8})\n",
    "\n",
    "popular_cust_data = (\n",
    "    customers[[\"customer_id\", \"age_group\"]]\n",
    "        .merge(popular_data, on=\"age_group\", how=\"inner\")\n",
    "        .drop([\"age_group\"], axis=1)\n",
    ")\n",
    "\n",
    "del group_popular_dict, age_list, art_list, rank_list, popular_data\n",
    "gc.collect()\n",
    "\n",
    "print(\"Get group popular dict\")\n",
    "\n",
    "general_popular = get_general_count_popular(train, customers, popular_count)\n",
    "print(\"Get popular dict\")\n",
    "\n",
    "pairs = np.load('../input/pairs_cudf.npy', allow_pickle=True).item()\n",
    "\n",
    "art_parent_list = []\n",
    "art_child_list = []\n",
    "for art_parent in pairs:\n",
    "    art_parent_list.append(dataset.articles_id2num[\"0\" + str(art_parent)])\n",
    "    art_child_list.append(dataset.articles_id2num[\"0\" + str(pairs[art_parent])])\n",
    "        \n",
    "pairs_data = pd.DataFrame({\"article_id_parent\": art_parent_list, \n",
    "                             \"article_id_child\": art_child_list}, dtype=np.uint32)\n",
    "\n",
    "pairs_purch_data = (\n",
    "    purch_data.merge(pairs_data.rename({\"article_id_parent\": \"article_id\"}, axis=1), \n",
    "                     on=\"article_id\", how=\"inner\")\n",
    "        .drop([\"article_id\"], axis=1)\n",
    "        .rename({\"article_id_child\": \"article_id\", \n",
    "                 \"purchase_score\": \"pairs_parent_purchase_score\"}, axis=1)\n",
    ")\n",
    "\n",
    "del pairs, art_parent_list, art_child_list, pairs_data\n",
    "gc.collect()\n",
    "\n",
    "print(\"Get pairs\")"
   ]
  },
  {
   "cell_type": "code",
   "execution_count": null,
   "metadata": {},
   "outputs": [
    {
     "name": "stdout",
     "output_type": "stream",
     "text": [
      "1\n",
      "1\n",
      "1\n"
     ]
    }
   ],
   "source": [
    "train_data = purch_data.merge(similar_purch_data, on=[\"customer_id\", \"article_id\"], how=\"outer\")\n",
    "del purch_data, similar_purch_data\n",
    "gc.collect()\n",
    "print(\"1\")\n",
    "\n",
    "train_data = train_data.merge(popular_cust_data, on=[\"customer_id\", \"article_id\"], how=\"outer\")\n",
    "del popular_cust_data\n",
    "gc.collect()\n",
    "print(\"1\")\n",
    "\n",
    "train_data = train_data.merge(pairs_purch_data, on=[\"customer_id\", \"article_id\"], how=\"outer\")\n",
    "del pairs_purch_data\n",
    "gc.collect()\n",
    "print(\"1\")\n",
    "\n",
    "train_data = train_data.merge(general_popular, on=[\"customer_id\", \"article_id\"], how=\"outer\")\n",
    "del general_popular\n",
    "gc.collect()\n",
    "print(\"1\")\n",
    "\n",
    "train_data = train_data.fillna(-9999).astype(np.int32)\n",
    "\n",
    "test_data = test[[\"customer_id\", \"article_id\"]]\n",
    "test_data[\"target\"] = 1\n",
    "\n",
    "train_data = (\n",
    "    train_data.merge(test_data, on=[\"customer_id\", \"article_id\"], how=\"left\")\n",
    "        .fillna({\"target\": 0.0})\n",
    ")\n",
    "\n",
    "print(\"Train data is done\")"
   ]
  },
  {
   "cell_type": "markdown",
   "metadata": {},
   "source": [
    "## Сохранение и загрузка "
   ]
  },
  {
   "cell_type": "markdown",
   "metadata": {},
   "source": [
    "## Подготовка данных "
   ]
  },
  {
   "cell_type": "code",
   "execution_count": 4,
   "metadata": {},
   "outputs": [
    {
     "data": {
      "text/plain": [
       "(0.00039770682368718216, 0.3222490855599619)"
      ]
     },
     "execution_count": 4,
     "metadata": {},
     "output_type": "execute_result"
    }
   ],
   "source": [
    "train_data.target.mean(), train_data.target.sum() / test.shape[0]"
   ]
  },
  {
   "cell_type": "code",
   "execution_count": 5,
   "metadata": {},
   "outputs": [
    {
     "data": {
      "text/plain": [
       "(0.0003625857974308287, 0.4111547120190087)"
      ]
     },
     "execution_count": 5,
     "metadata": {},
     "output_type": "execute_result"
    }
   ],
   "source": [
    "train_data.target.mean(), train_data.target.sum() / test.shape[0]"
   ]
  },
  {
   "cell_type": "code",
   "execution_count": 5,
   "metadata": {},
   "outputs": [
    {
     "data": {
      "text/plain": [
       "(0.0003909527814606927, 0.4010927506439572)"
      ]
     },
     "execution_count": 5,
     "metadata": {},
     "output_type": "execute_result"
    }
   ],
   "source": [
    "train_data.target.mean(), train_data.target.sum() / test.shape[0]"
   ]
  },
  {
   "cell_type": "code",
   "execution_count": 4,
   "metadata": {},
   "outputs": [
    {
     "data": {
      "text/plain": [
       "(0.00035390453865012417, 0.4122408046240081)"
      ]
     },
     "execution_count": 4,
     "metadata": {},
     "output_type": "execute_result"
    }
   ],
   "source": [
    "train_data.target.mean(), train_data.target.sum() / test.shape[0]"
   ]
  },
  {
   "cell_type": "code",
   "execution_count": 5,
   "metadata": {},
   "outputs": [
    {
     "data": {
      "text/plain": [
       "(0.0003909609031228094, 0.40110107319265453)"
      ]
     },
     "execution_count": 5,
     "metadata": {},
     "output_type": "execute_result"
    }
   ],
   "source": [
    "train_data.target.mean(), train_data.target.sum() / test.shape[0]"
   ]
  },
  {
   "cell_type": "code",
   "execution_count": 4,
   "metadata": {},
   "outputs": [
    {
     "data": {
      "text/plain": [
       "(0.0003578507187709223, 0.43945970013857044)"
      ]
     },
     "execution_count": 4,
     "metadata": {},
     "output_type": "execute_result"
    }
   ],
   "source": [
    "train_data.target.mean(), train_data.target.sum() / test.shape[0]"
   ]
  },
  {
   "cell_type": "code",
   "execution_count": 6,
   "metadata": {},
   "outputs": [
    {
     "data": {
      "text/plain": [
       "(272501021, 8)"
      ]
     },
     "execution_count": 6,
     "metadata": {},
     "output_type": "execute_result"
    }
   ],
   "source": [
    "train_data.shape"
   ]
  },
  {
   "cell_type": "code",
   "execution_count": 6,
   "metadata": {},
   "outputs": [
    {
     "data": {
      "text/plain": [
       "(246543840, 8)"
      ]
     },
     "execution_count": 6,
     "metadata": {},
     "output_type": "execute_result"
    }
   ],
   "source": [
    "train_data.shape"
   ]
  },
  {
   "cell_type": "code",
   "execution_count": 5,
   "metadata": {},
   "outputs": [
    {
     "data": {
      "text/plain": [
       "(279922943, 8)"
      ]
     },
     "execution_count": 5,
     "metadata": {},
     "output_type": "execute_result"
    }
   ],
   "source": [
    "train_data.shape"
   ]
  },
  {
   "cell_type": "code",
   "execution_count": 6,
   "metadata": {},
   "outputs": [
    {
     "data": {
      "text/plain": [
       "(246543834, 8)"
      ]
     },
     "execution_count": 6,
     "metadata": {},
     "output_type": "execute_result"
    }
   ],
   "source": [
    "train_data.shape"
   ]
  },
  {
   "cell_type": "code",
   "execution_count": 5,
   "metadata": {},
   "outputs": [
    {
     "data": {
      "text/plain": [
       "(295114679, 10)"
      ]
     },
     "execution_count": 5,
     "metadata": {},
     "output_type": "execute_result"
    }
   ],
   "source": [
    "train_data.shape"
   ]
  },
  {
   "cell_type": "code",
   "execution_count": 6,
   "metadata": {},
   "outputs": [
    {
     "data": {
      "text/html": [
       "<div>\n",
       "<style scoped>\n",
       "    .dataframe tbody tr th:only-of-type {\n",
       "        vertical-align: middle;\n",
       "    }\n",
       "\n",
       "    .dataframe tbody tr th {\n",
       "        vertical-align: top;\n",
       "    }\n",
       "\n",
       "    .dataframe thead th {\n",
       "        text-align: right;\n",
       "    }\n",
       "</style>\n",
       "<table border=\"1\" class=\"dataframe\">\n",
       "  <thead>\n",
       "    <tr style=\"text-align: right;\">\n",
       "      <th></th>\n",
       "      <th>customer_id</th>\n",
       "      <th>article_id</th>\n",
       "      <th>purchase_score</th>\n",
       "      <th>similar_parent_purchase_score</th>\n",
       "      <th>similarity</th>\n",
       "      <th>popular_rank</th>\n",
       "      <th>pairs_parent_purchase_score</th>\n",
       "      <th>general_popular_count</th>\n",
       "      <th>general_popular_count_rank</th>\n",
       "      <th>target</th>\n",
       "    </tr>\n",
       "  </thead>\n",
       "  <tbody>\n",
       "    <tr>\n",
       "      <th>21796082</th>\n",
       "      <td>957784</td>\n",
       "      <td>50151</td>\n",
       "      <td>0</td>\n",
       "      <td>-9999</td>\n",
       "      <td>-9999</td>\n",
       "      <td>-9999</td>\n",
       "      <td>-9999</td>\n",
       "      <td>-9999</td>\n",
       "      <td>-9999</td>\n",
       "      <td>0.0</td>\n",
       "    </tr>\n",
       "    <tr>\n",
       "      <th>2556321</th>\n",
       "      <td>111997</td>\n",
       "      <td>12790</td>\n",
       "      <td>0</td>\n",
       "      <td>-9999</td>\n",
       "      <td>-9999</td>\n",
       "      <td>-9999</td>\n",
       "      <td>-9999</td>\n",
       "      <td>-9999</td>\n",
       "      <td>-9999</td>\n",
       "      <td>0.0</td>\n",
       "    </tr>\n",
       "    <tr>\n",
       "      <th>200500968</th>\n",
       "      <td>307891</td>\n",
       "      <td>9773</td>\n",
       "      <td>-9999</td>\n",
       "      <td>-9999</td>\n",
       "      <td>-9999</td>\n",
       "      <td>44</td>\n",
       "      <td>-9999</td>\n",
       "      <td>-9999</td>\n",
       "      <td>-9999</td>\n",
       "      <td>0.0</td>\n",
       "    </tr>\n",
       "    <tr>\n",
       "      <th>213526450</th>\n",
       "      <td>1316443</td>\n",
       "      <td>67625</td>\n",
       "      <td>-9999</td>\n",
       "      <td>-9999</td>\n",
       "      <td>-9999</td>\n",
       "      <td>37</td>\n",
       "      <td>-9999</td>\n",
       "      <td>-9999</td>\n",
       "      <td>-9999</td>\n",
       "      <td>0.0</td>\n",
       "    </tr>\n",
       "    <tr>\n",
       "      <th>159179183</th>\n",
       "      <td>848934</td>\n",
       "      <td>67736</td>\n",
       "      <td>-9999</td>\n",
       "      <td>0</td>\n",
       "      <td>14</td>\n",
       "      <td>-9999</td>\n",
       "      <td>-9999</td>\n",
       "      <td>-9999</td>\n",
       "      <td>-9999</td>\n",
       "      <td>0.0</td>\n",
       "    </tr>\n",
       "    <tr>\n",
       "      <th>...</th>\n",
       "      <td>...</td>\n",
       "      <td>...</td>\n",
       "      <td>...</td>\n",
       "      <td>...</td>\n",
       "      <td>...</td>\n",
       "      <td>...</td>\n",
       "      <td>...</td>\n",
       "      <td>...</td>\n",
       "      <td>...</td>\n",
       "      <td>...</td>\n",
       "    </tr>\n",
       "    <tr>\n",
       "      <th>295104445</th>\n",
       "      <td>1371691</td>\n",
       "      <td>101192</td>\n",
       "      <td>-9999</td>\n",
       "      <td>-9999</td>\n",
       "      <td>-9999</td>\n",
       "      <td>-9999</td>\n",
       "      <td>-9999</td>\n",
       "      <td>371</td>\n",
       "      <td>39</td>\n",
       "      <td>1.0</td>\n",
       "    </tr>\n",
       "    <tr>\n",
       "      <th>295104446</th>\n",
       "      <td>1371691</td>\n",
       "      <td>101192</td>\n",
       "      <td>-9999</td>\n",
       "      <td>-9999</td>\n",
       "      <td>-9999</td>\n",
       "      <td>-9999</td>\n",
       "      <td>-9999</td>\n",
       "      <td>371</td>\n",
       "      <td>39</td>\n",
       "      <td>1.0</td>\n",
       "    </tr>\n",
       "    <tr>\n",
       "      <th>295105343</th>\n",
       "      <td>1371717</td>\n",
       "      <td>104072</td>\n",
       "      <td>-9999</td>\n",
       "      <td>-9999</td>\n",
       "      <td>-9999</td>\n",
       "      <td>-9999</td>\n",
       "      <td>-9999</td>\n",
       "      <td>819</td>\n",
       "      <td>2</td>\n",
       "      <td>1.0</td>\n",
       "    </tr>\n",
       "    <tr>\n",
       "      <th>295105348</th>\n",
       "      <td>1371717</td>\n",
       "      <td>103793</td>\n",
       "      <td>-9999</td>\n",
       "      <td>-9999</td>\n",
       "      <td>-9999</td>\n",
       "      <td>-9999</td>\n",
       "      <td>-9999</td>\n",
       "      <td>519</td>\n",
       "      <td>14</td>\n",
       "      <td>1.0</td>\n",
       "    </tr>\n",
       "    <tr>\n",
       "      <th>295108126</th>\n",
       "      <td>1371796</td>\n",
       "      <td>104553</td>\n",
       "      <td>-9999</td>\n",
       "      <td>-9999</td>\n",
       "      <td>-9999</td>\n",
       "      <td>-9999</td>\n",
       "      <td>-9999</td>\n",
       "      <td>718</td>\n",
       "      <td>3</td>\n",
       "      <td>1.0</td>\n",
       "    </tr>\n",
       "  </tbody>\n",
       "</table>\n",
       "<p>29617074 rows × 10 columns</p>\n",
       "</div>"
      ],
      "text/plain": [
       "           customer_id  article_id  purchase_score  \\\n",
       "21796082        957784       50151               0   \n",
       "2556321         111997       12790               0   \n",
       "200500968       307891        9773           -9999   \n",
       "213526450      1316443       67625           -9999   \n",
       "159179183       848934       67736           -9999   \n",
       "...                ...         ...             ...   \n",
       "295104445      1371691      101192           -9999   \n",
       "295104446      1371691      101192           -9999   \n",
       "295105343      1371717      104072           -9999   \n",
       "295105348      1371717      103793           -9999   \n",
       "295108126      1371796      104553           -9999   \n",
       "\n",
       "           similar_parent_purchase_score  similarity  popular_rank  \\\n",
       "21796082                           -9999       -9999         -9999   \n",
       "2556321                            -9999       -9999         -9999   \n",
       "200500968                          -9999       -9999            44   \n",
       "213526450                          -9999       -9999            37   \n",
       "159179183                              0          14         -9999   \n",
       "...                                  ...         ...           ...   \n",
       "295104445                          -9999       -9999         -9999   \n",
       "295104446                          -9999       -9999         -9999   \n",
       "295105343                          -9999       -9999         -9999   \n",
       "295105348                          -9999       -9999         -9999   \n",
       "295108126                          -9999       -9999         -9999   \n",
       "\n",
       "           pairs_parent_purchase_score  general_popular_count  \\\n",
       "21796082                         -9999                  -9999   \n",
       "2556321                          -9999                  -9999   \n",
       "200500968                        -9999                  -9999   \n",
       "213526450                        -9999                  -9999   \n",
       "159179183                        -9999                  -9999   \n",
       "...                                ...                    ...   \n",
       "295104445                        -9999                    371   \n",
       "295104446                        -9999                    371   \n",
       "295105343                        -9999                    819   \n",
       "295105348                        -9999                    519   \n",
       "295108126                        -9999                    718   \n",
       "\n",
       "           general_popular_count_rank  target  \n",
       "21796082                        -9999     0.0  \n",
       "2556321                         -9999     0.0  \n",
       "200500968                       -9999     0.0  \n",
       "213526450                       -9999     0.0  \n",
       "159179183                       -9999     0.0  \n",
       "...                               ...     ...  \n",
       "295104445                          39     1.0  \n",
       "295104446                          39     1.0  \n",
       "295105343                           2     1.0  \n",
       "295105348                          14     1.0  \n",
       "295108126                           3     1.0  \n",
       "\n",
       "[29617074 rows x 10 columns]"
      ]
     },
     "execution_count": 6,
     "metadata": {},
     "output_type": "execute_result"
    }
   ],
   "source": [
    "train_neg = train_data[train_data[\"target\"] == 0].sample(train_data.shape[0] // 10)\n",
    "train_pos = train_data[train_data[\"target\"] == 1]\n",
    "train_data = pd.concat([train_neg, train_pos])\n",
    "train_data"
   ]
  },
  {
   "cell_type": "code",
   "execution_count": 7,
   "metadata": {},
   "outputs": [],
   "source": [
    "train_data.to_csv(\"../input/train_data.csv\", index=False)\n",
    "# train_data = pd.read_csv(\"../input/train_data.csv\", index_col=False)"
   ]
  },
  {
   "cell_type": "markdown",
   "metadata": {},
   "source": [
    "# Предсказание с переранжированием "
   ]
  },
  {
   "cell_type": "code",
   "execution_count": 2,
   "metadata": {},
   "outputs": [
    {
     "name": "stdout",
     "output_type": "stream",
     "text": [
      "Dataset created\n"
     ]
    },
    {
     "data": {
      "application/vnd.jupyter.widget-view+json": {
       "model_id": "30b7cd758371444b9536d70cb8ce5dde",
       "version_major": 2,
       "version_minor": 0
      },
      "text/plain": [
       "VBox(children=(HBox(children=(IntProgress(value=0, description='0.00%', max=3973541), Label(value='0 / 3973541…"
      ]
     },
     "metadata": {},
     "output_type": "display_data"
    },
    {
     "name": "stderr",
     "output_type": "stream",
     "text": [
      "/home/rv/projects/HM_Personalized_Fashion_Recomendations/notebooks/../src/trending.py:25: SettingWithCopyWarning: \n",
      "A value is trying to be set on a copy of a slice from a DataFrame.\n",
      "Try using .loc[row_indexer,col_indexer] = value instead\n",
      "\n",
      "See the caveats in the documentation: https://pandas.pydata.org/pandas-docs/stable/user_guide/indexing.html#returning-a-view-versus-a-copy\n",
      "  df['ldbw'] = df['t_dat'].parallel_apply(lambda d: last_ts - (last_ts - d).floor('7D'))\n"
     ]
    },
    {
     "data": {
      "application/vnd.jupyter.widget-view+json": {
       "model_id": "32edf010368546f7a92892612dd4645d",
       "version_major": 2,
       "version_minor": 0
      },
      "text/plain": [
       "VBox(children=(HBox(children=(IntProgress(value=0, description='0.00%', max=3973541), Label(value='0 / 3973541…"
      ]
     },
     "metadata": {},
     "output_type": "display_data"
    },
    {
     "name": "stderr",
     "output_type": "stream",
     "text": [
      "100%|██████████| 27306439/27306439 [00:17<00:00, 1557306.83it/s]\n"
     ]
    },
    {
     "name": "stdout",
     "output_type": "stream",
     "text": [
      "Get purchase dict\n"
     ]
    },
    {
     "data": {
      "application/vnd.jupyter.widget-view+json": {
       "model_id": "f5a5dc67aa88403a933afe839f799829",
       "version_major": 2,
       "version_minor": 0
      },
      "text/plain": [
       "  0%|          | 0/5 [00:00<?, ?it/s]"
      ]
     },
     "metadata": {},
     "output_type": "display_data"
    },
    {
     "name": "stderr",
     "output_type": "stream",
     "text": [
      "100%|██████████| 105542/105542 [01:00<00:00, 1753.60it/s]\n"
     ]
    },
    {
     "name": "stdout",
     "output_type": "stream",
     "text": [
      "Get similar articles\n"
     ]
    },
    {
     "name": "stderr",
     "output_type": "stream",
     "text": [
      "100%|██████████| 5/5 [00:06<00:00,  1.31s/it]\n"
     ]
    },
    {
     "name": "stdout",
     "output_type": "stream",
     "text": [
      "Get group popular dict\n",
      "Get popular dict\n",
      "Get pairs\n"
     ]
    }
   ],
   "source": [
    "SEED = 1\n",
    "N = 12\n",
    "TEST_ON = 0\n",
    "\n",
    "min_w1_count_for_actual_article = 20\n",
    "similar_count_for_article = 5\n",
    "popular_count = 50\n",
    "\n",
    "cv_iteration = 0\n",
    "\n",
    "dataset = Dataset(skip_days=7 * cv_iteration, test_days=7 * TEST_ON)\n",
    "train, test = dataset.get_train_and_test()\n",
    "articles = dataset.get_articles()\n",
    "customers = dataset.get_customers()\n",
    "print(\"Dataset created\")\n",
    "\n",
    "train = add_quotient(train=train)\n",
    "purchase_dict = get_purchase_dict(df=train)\n",
    "\n",
    "cust_list = []\n",
    "art_list = []\n",
    "purch_score_list = []\n",
    "for cust_id in purchase_dict:\n",
    "    for art_id in purchase_dict[cust_id]:\n",
    "        cust_list.append(cust_id)\n",
    "        art_list.append(art_id)\n",
    "        purch_score_list.append(int(purchase_dict[cust_id][art_id]))\n",
    "        \n",
    "purch_data = pd.DataFrame({\"customer_id\": cust_list, \n",
    "                           \"article_id\": art_list, \n",
    "                           \"purchase_score\": purch_score_list}, \n",
    "                          dtype=np.uint32)\n",
    "\n",
    "del cust_list, art_list, purch_score_list, purchase_dict\n",
    "gc.collect()\n",
    "\n",
    "print(\"Get purchase dict\")\n",
    "\n",
    "similar_article_dict = get_similar_items(\n",
    "    train=train, \n",
    "    articles=articles, \n",
    "    customers=customers,\n",
    "    min_w1_count_for_actual_article = min_w1_count_for_actual_article, \n",
    "    similar_num_for_article = similar_count_for_article\n",
    ")\n",
    "\n",
    "art_parent_list = []\n",
    "art_child_list = []\n",
    "art_child_score = []\n",
    "for art_parent in similar_article_dict:\n",
    "    for art_info in similar_article_dict[art_parent]:\n",
    "        if art_info[1] != 0:\n",
    "            art_parent_list.append(art_parent)\n",
    "            art_child_list.append(art_info[0])\n",
    "            art_child_score.append(int(art_info[1]))\n",
    "        \n",
    "similar_data = pd.DataFrame({\"article_id_parent\": art_parent_list, \n",
    "                             \"article_id_child\": art_child_list, \n",
    "                             \"similarity\": art_child_score}, dtype=np.uint32)\n",
    "\n",
    "similar_purch_data = (\n",
    "    purch_data.merge(similar_data.rename({\"article_id_parent\": \"article_id\"}, axis=1), \n",
    "                     on=\"article_id\", how=\"inner\")\n",
    "        .drop([\"article_id\"], axis=1)\n",
    "        .rename({\"article_id_child\": \"article_id\", \n",
    "                 \"purchase_score\": \"similar_parent_purchase_score\"}, axis=1)\n",
    ")\n",
    "del similar_article_dict, art_parent_list, art_child_list, art_child_score, similar_data\n",
    "gc.collect()\n",
    "\n",
    "print(\"Get similar articles\")\n",
    "\n",
    "group_popular_dict = get_group_popular_dict(df=train, customers=customers, N=popular_count)\n",
    "\n",
    "age_list = []\n",
    "art_list = []\n",
    "rank_list = []\n",
    "for age_group in group_popular_dict:\n",
    "    for i, art_id in enumerate(group_popular_dict[age_group]):\n",
    "        age_list.append(age_group)\n",
    "        art_list.append(art_id)\n",
    "        rank_list.append(i)\n",
    "        \n",
    "popular_data = pd.DataFrame({\"age_group\": age_list, \n",
    "                             \"article_id\": art_list, \n",
    "                             \"popular_rank\": rank_list})\n",
    "popular_data = popular_data.astype({\"article_id\": np.uint32, \"popular_rank\": np.uint8})\n",
    "\n",
    "popular_cust_data = (\n",
    "    customers[[\"customer_id\", \"age_group\"]]\n",
    "        .merge(popular_data, on=\"age_group\", how=\"inner\")\n",
    "        .drop([\"age_group\"], axis=1)\n",
    ")\n",
    "\n",
    "del group_popular_dict, age_list, art_list, rank_list, popular_data\n",
    "gc.collect()\n",
    "\n",
    "print(\"Get group popular dict\")\n",
    "\n",
    "general_popular = get_general_count_popular(train, customers, popular_count)\n",
    "print(\"Get popular dict\")\n",
    "\n",
    "pairs = np.load('../input/pairs_cudf.npy', allow_pickle=True).item()\n",
    "\n",
    "art_parent_list = []\n",
    "art_child_list = []\n",
    "for art_parent in pairs:\n",
    "    art_parent_list.append(dataset.articles_id2num[\"0\" + str(art_parent)])\n",
    "    art_child_list.append(dataset.articles_id2num[\"0\" + str(pairs[art_parent])])\n",
    "        \n",
    "pairs_data = pd.DataFrame({\"article_id_parent\": art_parent_list, \n",
    "                             \"article_id_child\": art_child_list}, dtype=np.uint32)\n",
    "\n",
    "pairs_purch_data = (\n",
    "    purch_data.merge(pairs_data.rename({\"article_id_parent\": \"article_id\"}, axis=1), \n",
    "                     on=\"article_id\", how=\"inner\")\n",
    "        .drop([\"article_id\"], axis=1)\n",
    "        .rename({\"article_id_child\": \"article_id\", \n",
    "                 \"purchase_score\": \"pairs_parent_purchase_score\"}, axis=1)\n",
    ")\n",
    "\n",
    "del pairs, art_parent_list, art_child_list, pairs_data\n",
    "gc.collect()\n",
    "\n",
    "print(\"Get pairs\")"
   ]
  },
  {
   "cell_type": "code",
   "execution_count": 3,
   "metadata": {},
   "outputs": [
    {
     "data": {
      "text/plain": [
       "0"
      ]
     },
     "execution_count": 3,
     "metadata": {},
     "output_type": "execute_result"
    }
   ],
   "source": [
    "del train, test, customers, articles, dataset\n",
    "gc.collect()"
   ]
  },
  {
   "cell_type": "code",
   "execution_count": 4,
   "metadata": {},
   "outputs": [
    {
     "name": "stdout",
     "output_type": "stream",
     "text": [
      "1\n",
      "1\n",
      "1\n",
      "1\n"
     ]
    }
   ],
   "source": [
    "train_data = purch_data.merge(similar_purch_data, on=[\"customer_id\", \"article_id\"], how=\"outer\")\n",
    "del purch_data, similar_purch_data\n",
    "gc.collect()\n",
    "print(\"1\")\n",
    "\n",
    "train_data = train_data.merge(popular_cust_data, on=[\"customer_id\", \"article_id\"], how=\"outer\")\n",
    "del popular_cust_data\n",
    "gc.collect()\n",
    "print(\"1\")\n",
    "\n",
    "train_data = train_data.merge(pairs_purch_data, on=[\"customer_id\", \"article_id\"], how=\"outer\")\n",
    "del pairs_purch_data\n",
    "gc.collect()\n",
    "print(\"1\")\n",
    "\n",
    "train_data = train_data.merge(general_popular, on=[\"customer_id\", \"article_id\"], how=\"outer\")\n",
    "del general_popular\n",
    "gc.collect()\n",
    "print(\"1\")\n",
    "\n",
    "train_data = train_data.fillna(-9999).astype(np.int32)"
   ]
  },
  {
   "cell_type": "code",
   "execution_count": 6,
   "metadata": {},
   "outputs": [
    {
     "data": {
      "text/html": [
       "<div>\n",
       "<style scoped>\n",
       "    .dataframe tbody tr th:only-of-type {\n",
       "        vertical-align: middle;\n",
       "    }\n",
       "\n",
       "    .dataframe tbody tr th {\n",
       "        vertical-align: top;\n",
       "    }\n",
       "\n",
       "    .dataframe thead th {\n",
       "        text-align: right;\n",
       "    }\n",
       "</style>\n",
       "<table border=\"1\" class=\"dataframe\">\n",
       "  <thead>\n",
       "    <tr style=\"text-align: right;\">\n",
       "      <th></th>\n",
       "      <th>customer_id</th>\n",
       "      <th>article_id</th>\n",
       "      <th>purchase_score</th>\n",
       "      <th>similar_parent_purchase_score</th>\n",
       "      <th>similarity</th>\n",
       "      <th>popular_rank</th>\n",
       "      <th>pairs_parent_purchase_score</th>\n",
       "      <th>general_popular_count</th>\n",
       "      <th>general_popular_count_rank</th>\n",
       "    </tr>\n",
       "  </thead>\n",
       "  <tbody>\n",
       "    <tr>\n",
       "      <th>0</th>\n",
       "      <td>0</td>\n",
       "      <td>99</td>\n",
       "      <td>0</td>\n",
       "      <td>-9999</td>\n",
       "      <td>-9999</td>\n",
       "      <td>-9999</td>\n",
       "      <td>-9999</td>\n",
       "      <td>-9999</td>\n",
       "      <td>-9999</td>\n",
       "    </tr>\n",
       "    <tr>\n",
       "      <th>1</th>\n",
       "      <td>0</td>\n",
       "      <td>16003</td>\n",
       "      <td>294</td>\n",
       "      <td>294</td>\n",
       "      <td>204</td>\n",
       "      <td>9</td>\n",
       "      <td>13753</td>\n",
       "      <td>-9999</td>\n",
       "      <td>-9999</td>\n",
       "    </tr>\n",
       "    <tr>\n",
       "      <th>2</th>\n",
       "      <td>0</td>\n",
       "      <td>16003</td>\n",
       "      <td>294</td>\n",
       "      <td>294</td>\n",
       "      <td>204</td>\n",
       "      <td>9</td>\n",
       "      <td>0</td>\n",
       "      <td>-9999</td>\n",
       "      <td>-9999</td>\n",
       "    </tr>\n",
       "    <tr>\n",
       "      <th>3</th>\n",
       "      <td>0</td>\n",
       "      <td>16023</td>\n",
       "      <td>13753</td>\n",
       "      <td>13753</td>\n",
       "      <td>116</td>\n",
       "      <td>-9999</td>\n",
       "      <td>-9999</td>\n",
       "      <td>-9999</td>\n",
       "      <td>-9999</td>\n",
       "    </tr>\n",
       "    <tr>\n",
       "      <th>4</th>\n",
       "      <td>0</td>\n",
       "      <td>16023</td>\n",
       "      <td>13753</td>\n",
       "      <td>0</td>\n",
       "      <td>69</td>\n",
       "      <td>-9999</td>\n",
       "      <td>-9999</td>\n",
       "      <td>-9999</td>\n",
       "      <td>-9999</td>\n",
       "    </tr>\n",
       "    <tr>\n",
       "      <th>...</th>\n",
       "      <td>...</td>\n",
       "      <td>...</td>\n",
       "      <td>...</td>\n",
       "      <td>...</td>\n",
       "      <td>...</td>\n",
       "      <td>...</td>\n",
       "      <td>...</td>\n",
       "      <td>...</td>\n",
       "      <td>...</td>\n",
       "    </tr>\n",
       "    <tr>\n",
       "      <th>299276561</th>\n",
       "      <td>1371979</td>\n",
       "      <td>77254</td>\n",
       "      <td>-9999</td>\n",
       "      <td>-9999</td>\n",
       "      <td>-9999</td>\n",
       "      <td>-9999</td>\n",
       "      <td>-9999</td>\n",
       "      <td>327</td>\n",
       "      <td>44</td>\n",
       "    </tr>\n",
       "    <tr>\n",
       "      <th>299276562</th>\n",
       "      <td>1371979</td>\n",
       "      <td>99023</td>\n",
       "      <td>-9999</td>\n",
       "      <td>-9999</td>\n",
       "      <td>-9999</td>\n",
       "      <td>-9999</td>\n",
       "      <td>-9999</td>\n",
       "      <td>326</td>\n",
       "      <td>45</td>\n",
       "    </tr>\n",
       "    <tr>\n",
       "      <th>299276563</th>\n",
       "      <td>1371979</td>\n",
       "      <td>102762</td>\n",
       "      <td>-9999</td>\n",
       "      <td>-9999</td>\n",
       "      <td>-9999</td>\n",
       "      <td>-9999</td>\n",
       "      <td>-9999</td>\n",
       "      <td>320</td>\n",
       "      <td>47</td>\n",
       "    </tr>\n",
       "    <tr>\n",
       "      <th>299276564</th>\n",
       "      <td>1371979</td>\n",
       "      <td>97255</td>\n",
       "      <td>-9999</td>\n",
       "      <td>-9999</td>\n",
       "      <td>-9999</td>\n",
       "      <td>-9999</td>\n",
       "      <td>-9999</td>\n",
       "      <td>317</td>\n",
       "      <td>48</td>\n",
       "    </tr>\n",
       "    <tr>\n",
       "      <th>299276565</th>\n",
       "      <td>1371979</td>\n",
       "      <td>87467</td>\n",
       "      <td>-9999</td>\n",
       "      <td>-9999</td>\n",
       "      <td>-9999</td>\n",
       "      <td>-9999</td>\n",
       "      <td>-9999</td>\n",
       "      <td>312</td>\n",
       "      <td>49</td>\n",
       "    </tr>\n",
       "  </tbody>\n",
       "</table>\n",
       "<p>299276566 rows × 9 columns</p>\n",
       "</div>"
      ],
      "text/plain": [
       "           customer_id  article_id  purchase_score  \\\n",
       "0                    0          99               0   \n",
       "1                    0       16003             294   \n",
       "2                    0       16003             294   \n",
       "3                    0       16023           13753   \n",
       "4                    0       16023           13753   \n",
       "...                ...         ...             ...   \n",
       "299276561      1371979       77254           -9999   \n",
       "299276562      1371979       99023           -9999   \n",
       "299276563      1371979      102762           -9999   \n",
       "299276564      1371979       97255           -9999   \n",
       "299276565      1371979       87467           -9999   \n",
       "\n",
       "           similar_parent_purchase_score  similarity  popular_rank  \\\n",
       "0                                  -9999       -9999         -9999   \n",
       "1                                    294         204             9   \n",
       "2                                    294         204             9   \n",
       "3                                  13753         116         -9999   \n",
       "4                                      0          69         -9999   \n",
       "...                                  ...         ...           ...   \n",
       "299276561                          -9999       -9999         -9999   \n",
       "299276562                          -9999       -9999         -9999   \n",
       "299276563                          -9999       -9999         -9999   \n",
       "299276564                          -9999       -9999         -9999   \n",
       "299276565                          -9999       -9999         -9999   \n",
       "\n",
       "           pairs_parent_purchase_score  general_popular_count  \\\n",
       "0                                -9999                  -9999   \n",
       "1                                13753                  -9999   \n",
       "2                                    0                  -9999   \n",
       "3                                -9999                  -9999   \n",
       "4                                -9999                  -9999   \n",
       "...                                ...                    ...   \n",
       "299276561                        -9999                    327   \n",
       "299276562                        -9999                    326   \n",
       "299276563                        -9999                    320   \n",
       "299276564                        -9999                    317   \n",
       "299276565                        -9999                    312   \n",
       "\n",
       "           general_popular_count_rank  \n",
       "0                               -9999  \n",
       "1                               -9999  \n",
       "2                               -9999  \n",
       "3                               -9999  \n",
       "4                               -9999  \n",
       "...                               ...  \n",
       "299276561                          44  \n",
       "299276562                          45  \n",
       "299276563                          47  \n",
       "299276564                          48  \n",
       "299276565                          49  \n",
       "\n",
       "[299276566 rows x 9 columns]"
      ]
     },
     "execution_count": 6,
     "metadata": {},
     "output_type": "execute_result"
    }
   ],
   "source": [
    "train_data"
   ]
  },
  {
   "cell_type": "code",
   "execution_count": 7,
   "metadata": {},
   "outputs": [],
   "source": [
    "train_data.to_csv(\"../input/test_data.csv\", index=False)"
   ]
  },
  {
   "cell_type": "code",
   "execution_count": null,
   "metadata": {},
   "outputs": [],
   "source": []
  }
 ],
 "metadata": {
  "kernelspec": {
   "display_name": "Python 3",
   "language": "python",
   "name": "python3"
  },
  "language_info": {
   "codemirror_mode": {
    "name": "ipython",
    "version": 3
   },
   "file_extension": ".py",
   "mimetype": "text/x-python",
   "name": "python",
   "nbconvert_exporter": "python",
   "pygments_lexer": "ipython3",
   "version": "3.8.10"
  }
 },
 "nbformat": 4,
 "nbformat_minor": 4
}
