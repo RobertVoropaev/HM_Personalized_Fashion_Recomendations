{
 "cells": [
  {
   "cell_type": "markdown",
   "metadata": {},
   "source": [
    "# H&M Personalized Fashion Recommendations: 1. Data preparation"
   ]
  },
  {
   "cell_type": "code",
   "execution_count": 1,
   "metadata": {},
   "outputs": [],
   "source": [
    "import numpy as np\n",
    "import pandas as pd"
   ]
  },
  {
   "cell_type": "markdown",
   "metadata": {},
   "source": [
    "## 1. Data download "
   ]
  },
  {
   "cell_type": "code",
   "execution_count": 9,
   "metadata": {},
   "outputs": [],
   "source": [
    "articles = pd.read_csv(\"../input/articles.csv\", dtype={\"article_id\": str})\n",
    "customers = pd.read_csv(\"../input/customers.csv\")\n",
    "transactions = pd.read_csv(\"../input/transactions.csv\", dtype={\"article_id\": str})"
   ]
  },
  {
   "cell_type": "markdown",
   "metadata": {},
   "source": [
    "## 2. Articles "
   ]
  },
  {
   "cell_type": "code",
   "execution_count": 10,
   "metadata": {},
   "outputs": [
    {
     "name": "stdout",
     "output_type": "stream",
     "text": [
      "(105542, 25)\n"
     ]
    },
    {
     "data": {
      "text/html": [
       "<div>\n",
       "<style scoped>\n",
       "    .dataframe tbody tr th:only-of-type {\n",
       "        vertical-align: middle;\n",
       "    }\n",
       "\n",
       "    .dataframe tbody tr th {\n",
       "        vertical-align: top;\n",
       "    }\n",
       "\n",
       "    .dataframe thead th {\n",
       "        text-align: right;\n",
       "    }\n",
       "</style>\n",
       "<table border=\"1\" class=\"dataframe\">\n",
       "  <thead>\n",
       "    <tr style=\"text-align: right;\">\n",
       "      <th></th>\n",
       "      <th>article_id</th>\n",
       "      <th>product_code</th>\n",
       "      <th>prod_name</th>\n",
       "      <th>product_type_no</th>\n",
       "      <th>product_type_name</th>\n",
       "      <th>product_group_name</th>\n",
       "      <th>graphical_appearance_no</th>\n",
       "      <th>graphical_appearance_name</th>\n",
       "      <th>colour_group_code</th>\n",
       "      <th>colour_group_name</th>\n",
       "      <th>...</th>\n",
       "      <th>department_name</th>\n",
       "      <th>index_code</th>\n",
       "      <th>index_name</th>\n",
       "      <th>index_group_no</th>\n",
       "      <th>index_group_name</th>\n",
       "      <th>section_no</th>\n",
       "      <th>section_name</th>\n",
       "      <th>garment_group_no</th>\n",
       "      <th>garment_group_name</th>\n",
       "      <th>detail_desc</th>\n",
       "    </tr>\n",
       "  </thead>\n",
       "  <tbody>\n",
       "    <tr>\n",
       "      <th>0</th>\n",
       "      <td>0108775015</td>\n",
       "      <td>108775</td>\n",
       "      <td>Strap top</td>\n",
       "      <td>253</td>\n",
       "      <td>Vest top</td>\n",
       "      <td>Garment Upper body</td>\n",
       "      <td>1010016</td>\n",
       "      <td>Solid</td>\n",
       "      <td>9</td>\n",
       "      <td>Black</td>\n",
       "      <td>...</td>\n",
       "      <td>Jersey Basic</td>\n",
       "      <td>A</td>\n",
       "      <td>Ladieswear</td>\n",
       "      <td>1</td>\n",
       "      <td>Ladieswear</td>\n",
       "      <td>16</td>\n",
       "      <td>Womens Everyday Basics</td>\n",
       "      <td>1002</td>\n",
       "      <td>Jersey Basic</td>\n",
       "      <td>Jersey top with narrow shoulder straps.</td>\n",
       "    </tr>\n",
       "    <tr>\n",
       "      <th>1</th>\n",
       "      <td>0108775044</td>\n",
       "      <td>108775</td>\n",
       "      <td>Strap top</td>\n",
       "      <td>253</td>\n",
       "      <td>Vest top</td>\n",
       "      <td>Garment Upper body</td>\n",
       "      <td>1010016</td>\n",
       "      <td>Solid</td>\n",
       "      <td>10</td>\n",
       "      <td>White</td>\n",
       "      <td>...</td>\n",
       "      <td>Jersey Basic</td>\n",
       "      <td>A</td>\n",
       "      <td>Ladieswear</td>\n",
       "      <td>1</td>\n",
       "      <td>Ladieswear</td>\n",
       "      <td>16</td>\n",
       "      <td>Womens Everyday Basics</td>\n",
       "      <td>1002</td>\n",
       "      <td>Jersey Basic</td>\n",
       "      <td>Jersey top with narrow shoulder straps.</td>\n",
       "    </tr>\n",
       "    <tr>\n",
       "      <th>2</th>\n",
       "      <td>0108775051</td>\n",
       "      <td>108775</td>\n",
       "      <td>Strap top (1)</td>\n",
       "      <td>253</td>\n",
       "      <td>Vest top</td>\n",
       "      <td>Garment Upper body</td>\n",
       "      <td>1010017</td>\n",
       "      <td>Stripe</td>\n",
       "      <td>11</td>\n",
       "      <td>Off White</td>\n",
       "      <td>...</td>\n",
       "      <td>Jersey Basic</td>\n",
       "      <td>A</td>\n",
       "      <td>Ladieswear</td>\n",
       "      <td>1</td>\n",
       "      <td>Ladieswear</td>\n",
       "      <td>16</td>\n",
       "      <td>Womens Everyday Basics</td>\n",
       "      <td>1002</td>\n",
       "      <td>Jersey Basic</td>\n",
       "      <td>Jersey top with narrow shoulder straps.</td>\n",
       "    </tr>\n",
       "  </tbody>\n",
       "</table>\n",
       "<p>3 rows × 25 columns</p>\n",
       "</div>"
      ],
      "text/plain": [
       "   article_id  product_code      prod_name  product_type_no product_type_name  \\\n",
       "0  0108775015        108775      Strap top              253          Vest top   \n",
       "1  0108775044        108775      Strap top              253          Vest top   \n",
       "2  0108775051        108775  Strap top (1)              253          Vest top   \n",
       "\n",
       "   product_group_name  graphical_appearance_no graphical_appearance_name  \\\n",
       "0  Garment Upper body                  1010016                     Solid   \n",
       "1  Garment Upper body                  1010016                     Solid   \n",
       "2  Garment Upper body                  1010017                    Stripe   \n",
       "\n",
       "   colour_group_code colour_group_name  ...  department_name index_code  \\\n",
       "0                  9             Black  ...     Jersey Basic          A   \n",
       "1                 10             White  ...     Jersey Basic          A   \n",
       "2                 11         Off White  ...     Jersey Basic          A   \n",
       "\n",
       "   index_name index_group_no  index_group_name section_no  \\\n",
       "0  Ladieswear              1        Ladieswear         16   \n",
       "1  Ladieswear              1        Ladieswear         16   \n",
       "2  Ladieswear              1        Ladieswear         16   \n",
       "\n",
       "             section_name garment_group_no  garment_group_name  \\\n",
       "0  Womens Everyday Basics             1002        Jersey Basic   \n",
       "1  Womens Everyday Basics             1002        Jersey Basic   \n",
       "2  Womens Everyday Basics             1002        Jersey Basic   \n",
       "\n",
       "                               detail_desc  \n",
       "0  Jersey top with narrow shoulder straps.  \n",
       "1  Jersey top with narrow shoulder straps.  \n",
       "2  Jersey top with narrow shoulder straps.  \n",
       "\n",
       "[3 rows x 25 columns]"
      ]
     },
     "execution_count": 10,
     "metadata": {},
     "output_type": "execute_result"
    }
   ],
   "source": [
    "print(articles.shape)\n",
    "articles.head(3)"
   ]
  },
  {
   "cell_type": "code",
   "execution_count": 28,
   "metadata": {},
   "outputs": [
    {
     "data": {
      "text/plain": [
       "Index(['article_id', 'product_code', 'prod_name', 'product_type_no',\n",
       "       'product_type_name', 'product_group_name', 'graphical_appearance_no',\n",
       "       'graphical_appearance_name', 'colour_group_code', 'colour_group_name',\n",
       "       'perceived_colour_value_id', 'perceived_colour_value_name',\n",
       "       'perceived_colour_master_id', 'perceived_colour_master_name',\n",
       "       'department_no', 'department_name', 'index_code', 'index_name',\n",
       "       'index_group_no', 'index_group_name', 'section_no', 'section_name',\n",
       "       'garment_group_no', 'garment_group_name', 'detail_desc'],\n",
       "      dtype='object')"
      ]
     },
     "execution_count": 28,
     "metadata": {},
     "output_type": "execute_result"
    }
   ],
   "source": [
    "articles.columns"
   ]
  },
  {
   "cell_type": "code",
   "execution_count": 11,
   "metadata": {},
   "outputs": [],
   "source": [
    "articles[\"product_code_name\"] = articles[[\"product_code\", \"prod_name\"]].astype(str).agg(\": \".join, axis=1)\n",
    "articles[\"department_no_name\"] = articles[[\"department_no\", \"department_name\"]].astype(str).agg(\": \".join, axis=1)\n",
    "articles[\"section_no_name\"] = articles[[\"section_no\", \"section_name\"]].astype(str).agg(\": \".join, axis=1)\n",
    "\n",
    "articles = articles.drop([\n",
    "    \"product_code\", \"prod_name\", \"product_type_no\", \"graphical_appearance_no\", \n",
    "    \"colour_group_code\", \"perceived_colour_value_id\", \"perceived_colour_master_id\", \n",
    "    \"department_no\", \"department_name\", \"index_code\", \"index_group_no\", \"section_no\", \n",
    "    \"section_name\", \"garment_group_no\"], \n",
    "    axis=1\n",
    ")"
   ]
  },
  {
   "cell_type": "code",
   "execution_count": 12,
   "metadata": {},
   "outputs": [],
   "source": [
    "def crop_by_top_values(series, min_value_count):\n",
    "\n",
    "    series_value_counts = series.value_counts()\n",
    "    value_list = series_value_counts[series_value_counts > min_value_count].index\n",
    "\n",
    "    new_series = series.apply(lambda x: x if x in value_list else \"Other\")\n",
    "    return new_series\n",
    "\n",
    "articles[\"product_code_name\"] = crop_by_top_values(articles[\"product_code_name\"], min_value_count = 20)"
   ]
  },
  {
   "cell_type": "code",
   "execution_count": 13,
   "metadata": {},
   "outputs": [
    {
     "name": "stdout",
     "output_type": "stream",
     "text": [
      "article_id 105542\n",
      "product_type_name 131\n",
      "product_group_name 19\n",
      "graphical_appearance_name 30\n",
      "colour_group_name 50\n",
      "perceived_colour_value_name 8\n",
      "perceived_colour_master_name 20\n",
      "index_name 10\n",
      "index_group_name 5\n",
      "garment_group_name 21\n",
      "detail_desc 43405\n",
      "product_code_name 71\n",
      "department_no_name 299\n",
      "section_no_name 57\n"
     ]
    }
   ],
   "source": [
    "for col in articles.columns:\n",
    "    print(col, articles[col].unique().shape[0])"
   ]
  },
  {
   "cell_type": "markdown",
   "metadata": {},
   "source": [
    "## 3. Customers "
   ]
  },
  {
   "cell_type": "code",
   "execution_count": 14,
   "metadata": {},
   "outputs": [
    {
     "name": "stdout",
     "output_type": "stream",
     "text": [
      "(1371980, 7)\n"
     ]
    },
    {
     "data": {
      "text/html": [
       "<div>\n",
       "<style scoped>\n",
       "    .dataframe tbody tr th:only-of-type {\n",
       "        vertical-align: middle;\n",
       "    }\n",
       "\n",
       "    .dataframe tbody tr th {\n",
       "        vertical-align: top;\n",
       "    }\n",
       "\n",
       "    .dataframe thead th {\n",
       "        text-align: right;\n",
       "    }\n",
       "</style>\n",
       "<table border=\"1\" class=\"dataframe\">\n",
       "  <thead>\n",
       "    <tr style=\"text-align: right;\">\n",
       "      <th></th>\n",
       "      <th>customer_id</th>\n",
       "      <th>FN</th>\n",
       "      <th>Active</th>\n",
       "      <th>club_member_status</th>\n",
       "      <th>fashion_news_frequency</th>\n",
       "      <th>age</th>\n",
       "      <th>postal_code</th>\n",
       "    </tr>\n",
       "  </thead>\n",
       "  <tbody>\n",
       "    <tr>\n",
       "      <th>0</th>\n",
       "      <td>00000dbacae5abe5e23885899a1fa44253a17956c6d1c3...</td>\n",
       "      <td>NaN</td>\n",
       "      <td>NaN</td>\n",
       "      <td>ACTIVE</td>\n",
       "      <td>NONE</td>\n",
       "      <td>49.0</td>\n",
       "      <td>52043ee2162cf5aa7ee79974281641c6f11a68d276429a...</td>\n",
       "    </tr>\n",
       "    <tr>\n",
       "      <th>1</th>\n",
       "      <td>0000423b00ade91418cceaf3b26c6af3dd342b51fd051e...</td>\n",
       "      <td>NaN</td>\n",
       "      <td>NaN</td>\n",
       "      <td>ACTIVE</td>\n",
       "      <td>NONE</td>\n",
       "      <td>25.0</td>\n",
       "      <td>2973abc54daa8a5f8ccfe9362140c63247c5eee03f1d93...</td>\n",
       "    </tr>\n",
       "    <tr>\n",
       "      <th>2</th>\n",
       "      <td>000058a12d5b43e67d225668fa1f8d618c13dc232df0ca...</td>\n",
       "      <td>NaN</td>\n",
       "      <td>NaN</td>\n",
       "      <td>ACTIVE</td>\n",
       "      <td>NONE</td>\n",
       "      <td>24.0</td>\n",
       "      <td>64f17e6a330a85798e4998f62d0930d14db8db1c054af6...</td>\n",
       "    </tr>\n",
       "  </tbody>\n",
       "</table>\n",
       "</div>"
      ],
      "text/plain": [
       "                                         customer_id  FN  Active  \\\n",
       "0  00000dbacae5abe5e23885899a1fa44253a17956c6d1c3... NaN     NaN   \n",
       "1  0000423b00ade91418cceaf3b26c6af3dd342b51fd051e... NaN     NaN   \n",
       "2  000058a12d5b43e67d225668fa1f8d618c13dc232df0ca... NaN     NaN   \n",
       "\n",
       "  club_member_status fashion_news_frequency   age  \\\n",
       "0             ACTIVE                   NONE  49.0   \n",
       "1             ACTIVE                   NONE  25.0   \n",
       "2             ACTIVE                   NONE  24.0   \n",
       "\n",
       "                                         postal_code  \n",
       "0  52043ee2162cf5aa7ee79974281641c6f11a68d276429a...  \n",
       "1  2973abc54daa8a5f8ccfe9362140c63247c5eee03f1d93...  \n",
       "2  64f17e6a330a85798e4998f62d0930d14db8db1c054af6...  "
      ]
     },
     "execution_count": 14,
     "metadata": {},
     "output_type": "execute_result"
    }
   ],
   "source": [
    "print(customers.shape)\n",
    "customers.head(3)"
   ]
  },
  {
   "cell_type": "code",
   "execution_count": 15,
   "metadata": {},
   "outputs": [
    {
     "name": "stdout",
     "output_type": "stream",
     "text": [
      "customer_id 1371980\n",
      "FN 2\n",
      "Active 2\n",
      "club_member_status 4\n",
      "fashion_news_frequency 5\n",
      "age 85\n",
      "postal_code 352899\n"
     ]
    }
   ],
   "source": [
    "for col in customers.columns:\n",
    "    print(col, customers[col].unique().shape[0])"
   ]
  },
  {
   "cell_type": "code",
   "execution_count": 16,
   "metadata": {},
   "outputs": [],
   "source": [
    "customers = customers.fillna({\"FN\": 0.0, \"Active\": 0.0, \n",
    "                              \"club_member_status\": \"Other\", \n",
    "                              \"fashion_news_frequency\": \"None\", \n",
    "                              \"age\": -9999})"
   ]
  },
  {
   "cell_type": "code",
   "execution_count": 17,
   "metadata": {},
   "outputs": [],
   "source": [
    "customers[\"postal_code\"] = crop_by_top_values(customers[\"postal_code\"], min_value_count=30)"
   ]
  },
  {
   "cell_type": "markdown",
   "metadata": {},
   "source": [
    "## 4. Transactions "
   ]
  },
  {
   "cell_type": "code",
   "execution_count": 18,
   "metadata": {},
   "outputs": [
    {
     "name": "stdout",
     "output_type": "stream",
     "text": [
      "(31788324, 5)\n"
     ]
    },
    {
     "data": {
      "text/html": [
       "<div>\n",
       "<style scoped>\n",
       "    .dataframe tbody tr th:only-of-type {\n",
       "        vertical-align: middle;\n",
       "    }\n",
       "\n",
       "    .dataframe tbody tr th {\n",
       "        vertical-align: top;\n",
       "    }\n",
       "\n",
       "    .dataframe thead th {\n",
       "        text-align: right;\n",
       "    }\n",
       "</style>\n",
       "<table border=\"1\" class=\"dataframe\">\n",
       "  <thead>\n",
       "    <tr style=\"text-align: right;\">\n",
       "      <th></th>\n",
       "      <th>t_dat</th>\n",
       "      <th>customer_id</th>\n",
       "      <th>article_id</th>\n",
       "      <th>price</th>\n",
       "      <th>sales_channel_id</th>\n",
       "    </tr>\n",
       "  </thead>\n",
       "  <tbody>\n",
       "    <tr>\n",
       "      <th>0</th>\n",
       "      <td>2018-09-20</td>\n",
       "      <td>000058a12d5b43e67d225668fa1f8d618c13dc232df0ca...</td>\n",
       "      <td>0663713001</td>\n",
       "      <td>0.050831</td>\n",
       "      <td>2</td>\n",
       "    </tr>\n",
       "    <tr>\n",
       "      <th>1</th>\n",
       "      <td>2018-09-20</td>\n",
       "      <td>000058a12d5b43e67d225668fa1f8d618c13dc232df0ca...</td>\n",
       "      <td>0541518023</td>\n",
       "      <td>0.030492</td>\n",
       "      <td>2</td>\n",
       "    </tr>\n",
       "    <tr>\n",
       "      <th>2</th>\n",
       "      <td>2018-09-20</td>\n",
       "      <td>00007d2de826758b65a93dd24ce629ed66842531df6699...</td>\n",
       "      <td>0505221004</td>\n",
       "      <td>0.015237</td>\n",
       "      <td>2</td>\n",
       "    </tr>\n",
       "  </tbody>\n",
       "</table>\n",
       "</div>"
      ],
      "text/plain": [
       "        t_dat                                        customer_id  article_id  \\\n",
       "0  2018-09-20  000058a12d5b43e67d225668fa1f8d618c13dc232df0ca...  0663713001   \n",
       "1  2018-09-20  000058a12d5b43e67d225668fa1f8d618c13dc232df0ca...  0541518023   \n",
       "2  2018-09-20  00007d2de826758b65a93dd24ce629ed66842531df6699...  0505221004   \n",
       "\n",
       "      price  sales_channel_id  \n",
       "0  0.050831                 2  \n",
       "1  0.030492                 2  \n",
       "2  0.015237                 2  "
      ]
     },
     "execution_count": 18,
     "metadata": {},
     "output_type": "execute_result"
    }
   ],
   "source": [
    "print(transactions.shape)\n",
    "transactions.head(3)"
   ]
  },
  {
   "cell_type": "code",
   "execution_count": 19,
   "metadata": {},
   "outputs": [],
   "source": [
    "transactions[\"sales_channel_1\"] = (transactions[\"sales_channel_id\"] == 1).astype(int)\n",
    "transactions[\"sales_channel_2\"] = (transactions[\"sales_channel_id\"] == 2).astype(int)"
   ]
  },
  {
   "cell_type": "markdown",
   "metadata": {},
   "source": [
    "### Additional user information "
   ]
  },
  {
   "cell_type": "code",
   "execution_count": 20,
   "metadata": {},
   "outputs": [
    {
     "data": {
      "text/html": [
       "<div>\n",
       "<style scoped>\n",
       "    .dataframe tbody tr th:only-of-type {\n",
       "        vertical-align: middle;\n",
       "    }\n",
       "\n",
       "    .dataframe tbody tr th {\n",
       "        vertical-align: top;\n",
       "    }\n",
       "\n",
       "    .dataframe thead th {\n",
       "        text-align: right;\n",
       "    }\n",
       "</style>\n",
       "<table border=\"1\" class=\"dataframe\">\n",
       "  <thead>\n",
       "    <tr style=\"text-align: right;\">\n",
       "      <th></th>\n",
       "      <th>price_min</th>\n",
       "      <th>price_max</th>\n",
       "      <th>price_mean</th>\n",
       "      <th>price_std</th>\n",
       "      <th>sales_channel_1_sum</th>\n",
       "      <th>sales_channel_2_sum</th>\n",
       "    </tr>\n",
       "    <tr>\n",
       "      <th>customer_id</th>\n",
       "      <th></th>\n",
       "      <th></th>\n",
       "      <th></th>\n",
       "      <th></th>\n",
       "      <th></th>\n",
       "      <th></th>\n",
       "    </tr>\n",
       "  </thead>\n",
       "  <tbody>\n",
       "    <tr>\n",
       "      <th>00000dbacae5abe5e23885899a1fa44253a17956c6d1c3d25f88aa139fdfc657</th>\n",
       "      <td>0.010153</td>\n",
       "      <td>0.054220</td>\n",
       "      <td>0.030904</td>\n",
       "      <td>0.015718</td>\n",
       "      <td>9</td>\n",
       "      <td>12</td>\n",
       "    </tr>\n",
       "    <tr>\n",
       "      <th>0000423b00ade91418cceaf3b26c6af3dd342b51fd051eec9c12fb36984420fa</th>\n",
       "      <td>0.006763</td>\n",
       "      <td>0.084729</td>\n",
       "      <td>0.030255</td>\n",
       "      <td>0.016957</td>\n",
       "      <td>5</td>\n",
       "      <td>81</td>\n",
       "    </tr>\n",
       "    <tr>\n",
       "      <th>000058a12d5b43e67d225668fa1f8d618c13dc232df0cad8ffe7ad4a1091e318</th>\n",
       "      <td>0.013542</td>\n",
       "      <td>0.067780</td>\n",
       "      <td>0.039154</td>\n",
       "      <td>0.016858</td>\n",
       "      <td>0</td>\n",
       "      <td>18</td>\n",
       "    </tr>\n",
       "    <tr>\n",
       "      <th>00005ca1c9ed5f5146b52ac8639a40ca9d57aeff4d1bd2c5feb1ca5dff07c43e</th>\n",
       "      <td>0.030492</td>\n",
       "      <td>0.030492</td>\n",
       "      <td>0.030492</td>\n",
       "      <td>0.000000</td>\n",
       "      <td>0</td>\n",
       "      <td>2</td>\n",
       "    </tr>\n",
       "    <tr>\n",
       "      <th>00006413d8573cd20ed7128e53b7b13819fe5cfc2d801fe7fc0f26dd8d65a85a</th>\n",
       "      <td>0.016932</td>\n",
       "      <td>0.059305</td>\n",
       "      <td>0.036130</td>\n",
       "      <td>0.012638</td>\n",
       "      <td>2</td>\n",
       "      <td>11</td>\n",
       "    </tr>\n",
       "    <tr>\n",
       "      <th>...</th>\n",
       "      <td>...</td>\n",
       "      <td>...</td>\n",
       "      <td>...</td>\n",
       "      <td>...</td>\n",
       "      <td>...</td>\n",
       "      <td>...</td>\n",
       "    </tr>\n",
       "    <tr>\n",
       "      <th>ffffbbf78b6eaac697a8a5dfbfd2bfa8113ee5b403e4747568cac33e8c541831</th>\n",
       "      <td>0.005068</td>\n",
       "      <td>0.067780</td>\n",
       "      <td>0.025340</td>\n",
       "      <td>0.011733</td>\n",
       "      <td>13</td>\n",
       "      <td>38</td>\n",
       "    </tr>\n",
       "    <tr>\n",
       "      <th>ffffcd5046a6143d29a04fb8c424ce494a76e5cdf4fab53481233731b5c4f8b7</th>\n",
       "      <td>0.005068</td>\n",
       "      <td>0.076254</td>\n",
       "      <td>0.021516</td>\n",
       "      <td>0.013751</td>\n",
       "      <td>28</td>\n",
       "      <td>56</td>\n",
       "    </tr>\n",
       "    <tr>\n",
       "      <th>ffffcf35913a0bee60e8741cb2b4e78b8a98ee5ff2e6a1778d0116cffd259264</th>\n",
       "      <td>0.004559</td>\n",
       "      <td>0.042356</td>\n",
       "      <td>0.017532</td>\n",
       "      <td>0.009565</td>\n",
       "      <td>11</td>\n",
       "      <td>34</td>\n",
       "    </tr>\n",
       "    <tr>\n",
       "      <th>ffffd7744cebcf3aca44ae7049d2a94b87074c3d4ffe38b2236865d949d4df6a</th>\n",
       "      <td>0.013542</td>\n",
       "      <td>0.050831</td>\n",
       "      <td>0.029886</td>\n",
       "      <td>0.015244</td>\n",
       "      <td>1</td>\n",
       "      <td>6</td>\n",
       "    </tr>\n",
       "    <tr>\n",
       "      <th>ffffd9ac14e89946416d80e791d064701994755c3ab686a1eaf3458c36f52241</th>\n",
       "      <td>0.084729</td>\n",
       "      <td>0.084729</td>\n",
       "      <td>0.084729</td>\n",
       "      <td>NaN</td>\n",
       "      <td>0</td>\n",
       "      <td>1</td>\n",
       "    </tr>\n",
       "  </tbody>\n",
       "</table>\n",
       "<p>1362281 rows × 6 columns</p>\n",
       "</div>"
      ],
      "text/plain": [
       "                                                    price_min  price_max  \\\n",
       "customer_id                                                                \n",
       "00000dbacae5abe5e23885899a1fa44253a17956c6d1c3d...   0.010153   0.054220   \n",
       "0000423b00ade91418cceaf3b26c6af3dd342b51fd051ee...   0.006763   0.084729   \n",
       "000058a12d5b43e67d225668fa1f8d618c13dc232df0cad...   0.013542   0.067780   \n",
       "00005ca1c9ed5f5146b52ac8639a40ca9d57aeff4d1bd2c...   0.030492   0.030492   \n",
       "00006413d8573cd20ed7128e53b7b13819fe5cfc2d801fe...   0.016932   0.059305   \n",
       "...                                                       ...        ...   \n",
       "ffffbbf78b6eaac697a8a5dfbfd2bfa8113ee5b403e4747...   0.005068   0.067780   \n",
       "ffffcd5046a6143d29a04fb8c424ce494a76e5cdf4fab53...   0.005068   0.076254   \n",
       "ffffcf35913a0bee60e8741cb2b4e78b8a98ee5ff2e6a17...   0.004559   0.042356   \n",
       "ffffd7744cebcf3aca44ae7049d2a94b87074c3d4ffe38b...   0.013542   0.050831   \n",
       "ffffd9ac14e89946416d80e791d064701994755c3ab686a...   0.084729   0.084729   \n",
       "\n",
       "                                                    price_mean  price_std  \\\n",
       "customer_id                                                                 \n",
       "00000dbacae5abe5e23885899a1fa44253a17956c6d1c3d...    0.030904   0.015718   \n",
       "0000423b00ade91418cceaf3b26c6af3dd342b51fd051ee...    0.030255   0.016957   \n",
       "000058a12d5b43e67d225668fa1f8d618c13dc232df0cad...    0.039154   0.016858   \n",
       "00005ca1c9ed5f5146b52ac8639a40ca9d57aeff4d1bd2c...    0.030492   0.000000   \n",
       "00006413d8573cd20ed7128e53b7b13819fe5cfc2d801fe...    0.036130   0.012638   \n",
       "...                                                        ...        ...   \n",
       "ffffbbf78b6eaac697a8a5dfbfd2bfa8113ee5b403e4747...    0.025340   0.011733   \n",
       "ffffcd5046a6143d29a04fb8c424ce494a76e5cdf4fab53...    0.021516   0.013751   \n",
       "ffffcf35913a0bee60e8741cb2b4e78b8a98ee5ff2e6a17...    0.017532   0.009565   \n",
       "ffffd7744cebcf3aca44ae7049d2a94b87074c3d4ffe38b...    0.029886   0.015244   \n",
       "ffffd9ac14e89946416d80e791d064701994755c3ab686a...    0.084729        NaN   \n",
       "\n",
       "                                                    sales_channel_1_sum  \\\n",
       "customer_id                                                               \n",
       "00000dbacae5abe5e23885899a1fa44253a17956c6d1c3d...                    9   \n",
       "0000423b00ade91418cceaf3b26c6af3dd342b51fd051ee...                    5   \n",
       "000058a12d5b43e67d225668fa1f8d618c13dc232df0cad...                    0   \n",
       "00005ca1c9ed5f5146b52ac8639a40ca9d57aeff4d1bd2c...                    0   \n",
       "00006413d8573cd20ed7128e53b7b13819fe5cfc2d801fe...                    2   \n",
       "...                                                                 ...   \n",
       "ffffbbf78b6eaac697a8a5dfbfd2bfa8113ee5b403e4747...                   13   \n",
       "ffffcd5046a6143d29a04fb8c424ce494a76e5cdf4fab53...                   28   \n",
       "ffffcf35913a0bee60e8741cb2b4e78b8a98ee5ff2e6a17...                   11   \n",
       "ffffd7744cebcf3aca44ae7049d2a94b87074c3d4ffe38b...                    1   \n",
       "ffffd9ac14e89946416d80e791d064701994755c3ab686a...                    0   \n",
       "\n",
       "                                                    sales_channel_2_sum  \n",
       "customer_id                                                              \n",
       "00000dbacae5abe5e23885899a1fa44253a17956c6d1c3d...                   12  \n",
       "0000423b00ade91418cceaf3b26c6af3dd342b51fd051ee...                   81  \n",
       "000058a12d5b43e67d225668fa1f8d618c13dc232df0cad...                   18  \n",
       "00005ca1c9ed5f5146b52ac8639a40ca9d57aeff4d1bd2c...                    2  \n",
       "00006413d8573cd20ed7128e53b7b13819fe5cfc2d801fe...                   11  \n",
       "...                                                                 ...  \n",
       "ffffbbf78b6eaac697a8a5dfbfd2bfa8113ee5b403e4747...                   38  \n",
       "ffffcd5046a6143d29a04fb8c424ce494a76e5cdf4fab53...                   56  \n",
       "ffffcf35913a0bee60e8741cb2b4e78b8a98ee5ff2e6a17...                   34  \n",
       "ffffd7744cebcf3aca44ae7049d2a94b87074c3d4ffe38b...                    6  \n",
       "ffffd9ac14e89946416d80e791d064701994755c3ab686a...                    1  \n",
       "\n",
       "[1362281 rows x 6 columns]"
      ]
     },
     "execution_count": 20,
     "metadata": {},
     "output_type": "execute_result"
    }
   ],
   "source": [
    "customer_agg = (\n",
    "    transactions.groupby([\"customer_id\"])\n",
    "                .agg({\"price\": [\"min\", \"max\", \"mean\", \"std\"],\n",
    "                      \"sales_channel_1\": [\"sum\"], \n",
    "                      \"sales_channel_2\": [\"sum\"]})\n",
    ")\n",
    "\n",
    "customer_agg.columns = customer_agg.columns.map(lambda x: \"_\".join(x))\n",
    "customer_agg"
   ]
  },
  {
   "cell_type": "code",
   "execution_count": 21,
   "metadata": {},
   "outputs": [],
   "source": [
    "customers = customers.merge(customer_agg, on=\"customer_id\", how=\"left\")\n",
    "customers = customers.fillna(0.0)"
   ]
  },
  {
   "cell_type": "markdown",
   "metadata": {},
   "source": [
    "### Additional user information "
   ]
  },
  {
   "cell_type": "code",
   "execution_count": 22,
   "metadata": {},
   "outputs": [
    {
     "data": {
      "text/html": [
       "<div>\n",
       "<style scoped>\n",
       "    .dataframe tbody tr th:only-of-type {\n",
       "        vertical-align: middle;\n",
       "    }\n",
       "\n",
       "    .dataframe tbody tr th {\n",
       "        vertical-align: top;\n",
       "    }\n",
       "\n",
       "    .dataframe thead th {\n",
       "        text-align: right;\n",
       "    }\n",
       "</style>\n",
       "<table border=\"1\" class=\"dataframe\">\n",
       "  <thead>\n",
       "    <tr style=\"text-align: right;\">\n",
       "      <th></th>\n",
       "      <th>price_min</th>\n",
       "      <th>price_max</th>\n",
       "      <th>price_mean</th>\n",
       "      <th>price_std</th>\n",
       "      <th>sales_channel_1_sum</th>\n",
       "      <th>sales_channel_2_sum</th>\n",
       "    </tr>\n",
       "    <tr>\n",
       "      <th>article_id</th>\n",
       "      <th></th>\n",
       "      <th></th>\n",
       "      <th></th>\n",
       "      <th></th>\n",
       "      <th></th>\n",
       "      <th></th>\n",
       "    </tr>\n",
       "  </thead>\n",
       "  <tbody>\n",
       "    <tr>\n",
       "      <th>0108775015</th>\n",
       "      <td>0.001339</td>\n",
       "      <td>0.009153</td>\n",
       "      <td>0.008142</td>\n",
       "      <td>0.000652</td>\n",
       "      <td>2485</td>\n",
       "      <td>8356</td>\n",
       "    </tr>\n",
       "    <tr>\n",
       "      <th>0108775044</th>\n",
       "      <td>0.001424</td>\n",
       "      <td>0.008508</td>\n",
       "      <td>0.008114</td>\n",
       "      <td>0.000735</td>\n",
       "      <td>2101</td>\n",
       "      <td>5149</td>\n",
       "    </tr>\n",
       "    <tr>\n",
       "      <th>0108775051</th>\n",
       "      <td>0.003237</td>\n",
       "      <td>0.008458</td>\n",
       "      <td>0.004980</td>\n",
       "      <td>0.000544</td>\n",
       "      <td>1</td>\n",
       "      <td>214</td>\n",
       "    </tr>\n",
       "    <tr>\n",
       "      <th>0110065001</th>\n",
       "      <td>0.002525</td>\n",
       "      <td>0.025407</td>\n",
       "      <td>0.020219</td>\n",
       "      <td>0.006844</td>\n",
       "      <td>652</td>\n",
       "      <td>392</td>\n",
       "    </tr>\n",
       "    <tr>\n",
       "      <th>0110065002</th>\n",
       "      <td>0.004542</td>\n",
       "      <td>0.025407</td>\n",
       "      <td>0.018205</td>\n",
       "      <td>0.006004</td>\n",
       "      <td>186</td>\n",
       "      <td>353</td>\n",
       "    </tr>\n",
       "    <tr>\n",
       "      <th>...</th>\n",
       "      <td>...</td>\n",
       "      <td>...</td>\n",
       "      <td>...</td>\n",
       "      <td>...</td>\n",
       "      <td>...</td>\n",
       "      <td>...</td>\n",
       "    </tr>\n",
       "    <tr>\n",
       "      <th>0952267001</th>\n",
       "      <td>0.010153</td>\n",
       "      <td>0.016932</td>\n",
       "      <td>0.014982</td>\n",
       "      <td>0.002385</td>\n",
       "      <td>25</td>\n",
       "      <td>16</td>\n",
       "    </tr>\n",
       "    <tr>\n",
       "      <th>0952938001</th>\n",
       "      <td>0.040661</td>\n",
       "      <td>0.050831</td>\n",
       "      <td>0.048006</td>\n",
       "      <td>0.004300</td>\n",
       "      <td>0</td>\n",
       "      <td>9</td>\n",
       "    </tr>\n",
       "    <tr>\n",
       "      <th>0953450001</th>\n",
       "      <td>0.015305</td>\n",
       "      <td>0.016932</td>\n",
       "      <td>0.016836</td>\n",
       "      <td>0.000395</td>\n",
       "      <td>0</td>\n",
       "      <td>17</td>\n",
       "    </tr>\n",
       "    <tr>\n",
       "      <th>0953763001</th>\n",
       "      <td>0.021169</td>\n",
       "      <td>0.022017</td>\n",
       "      <td>0.021908</td>\n",
       "      <td>0.000251</td>\n",
       "      <td>0</td>\n",
       "      <td>35</td>\n",
       "    </tr>\n",
       "    <tr>\n",
       "      <th>0956217002</th>\n",
       "      <td>0.057407</td>\n",
       "      <td>0.059305</td>\n",
       "      <td>0.059152</td>\n",
       "      <td>0.000493</td>\n",
       "      <td>0</td>\n",
       "      <td>21</td>\n",
       "    </tr>\n",
       "  </tbody>\n",
       "</table>\n",
       "<p>104547 rows × 6 columns</p>\n",
       "</div>"
      ],
      "text/plain": [
       "            price_min  price_max  price_mean  price_std  sales_channel_1_sum  \\\n",
       "article_id                                                                     \n",
       "0108775015   0.001339   0.009153    0.008142   0.000652                 2485   \n",
       "0108775044   0.001424   0.008508    0.008114   0.000735                 2101   \n",
       "0108775051   0.003237   0.008458    0.004980   0.000544                    1   \n",
       "0110065001   0.002525   0.025407    0.020219   0.006844                  652   \n",
       "0110065002   0.004542   0.025407    0.018205   0.006004                  186   \n",
       "...               ...        ...         ...        ...                  ...   \n",
       "0952267001   0.010153   0.016932    0.014982   0.002385                   25   \n",
       "0952938001   0.040661   0.050831    0.048006   0.004300                    0   \n",
       "0953450001   0.015305   0.016932    0.016836   0.000395                    0   \n",
       "0953763001   0.021169   0.022017    0.021908   0.000251                    0   \n",
       "0956217002   0.057407   0.059305    0.059152   0.000493                    0   \n",
       "\n",
       "            sales_channel_2_sum  \n",
       "article_id                       \n",
       "0108775015                 8356  \n",
       "0108775044                 5149  \n",
       "0108775051                  214  \n",
       "0110065001                  392  \n",
       "0110065002                  353  \n",
       "...                         ...  \n",
       "0952267001                   16  \n",
       "0952938001                    9  \n",
       "0953450001                   17  \n",
       "0953763001                   35  \n",
       "0956217002                   21  \n",
       "\n",
       "[104547 rows x 6 columns]"
      ]
     },
     "execution_count": 22,
     "metadata": {},
     "output_type": "execute_result"
    }
   ],
   "source": [
    "articles_agg = (\n",
    "    transactions.groupby([\"article_id\"])\n",
    "                .agg({\"price\": [\"min\", \"max\", \"mean\", \"std\"],\n",
    "                      \"sales_channel_1\": [\"sum\"], \n",
    "                      \"sales_channel_2\": [\"sum\"]})\n",
    ")\n",
    "\n",
    "articles_agg.columns = articles_agg.columns.map(lambda x: \"_\".join(x))\n",
    "articles_agg"
   ]
  },
  {
   "cell_type": "code",
   "execution_count": 23,
   "metadata": {},
   "outputs": [],
   "source": [
    "articles = articles.merge(articles_agg, on=\"article_id\", how=\"left\")\n",
    "articles = articles.fillna(0.0)"
   ]
  },
  {
   "cell_type": "markdown",
   "metadata": {},
   "source": [
    "## 5. Index transformation "
   ]
  },
  {
   "cell_type": "code",
   "execution_count": null,
   "metadata": {},
   "outputs": [],
   "source": [
    "# customers = (\n",
    "#     customers.reset_index()\n",
    "#             .rename({\"customer_id\": \"customer_id_raw\", \n",
    "#                      \"index\": \"customer_id\"}, axis=1)\n",
    "# )\n",
    "\n",
    "# articles = (\n",
    "#     articles.reset_index()\n",
    "#             .rename({\"article_id\": \"article_id_raw\",\n",
    "#                      \"index\": \"article_id\"}, axis=1)\n",
    "# )"
   ]
  },
  {
   "cell_type": "code",
   "execution_count": null,
   "metadata": {},
   "outputs": [],
   "source": [
    "# transactions = (\n",
    "#     transactions.rename({\"customer_id\": \"customer_id_raw\",\n",
    "#                          \"article_id\": \"article_id_raw\"}, axis=1)\n",
    "#         .merge(customers[[\"customer_id\", \"customer_id_raw\"]], on=\"customer_id_raw\", how=\"inner\")\n",
    "#         .merge(articles[[\"article_id\", \"article_id_raw\"]], on=\"article_id_raw\", how=\"inner\")\n",
    "# )\n",
    "# transactions"
   ]
  },
  {
   "cell_type": "markdown",
   "metadata": {},
   "source": [
    "## 6. Train test split"
   ]
  },
  {
   "cell_type": "code",
   "execution_count": 24,
   "metadata": {},
   "outputs": [],
   "source": [
    "transactions = transactions[[\"t_dat\", \"customer_id\", \"article_id\"]]"
   ]
  },
  {
   "cell_type": "code",
   "execution_count": 25,
   "metadata": {},
   "outputs": [
    {
     "data": {
      "text/plain": [
       "('2018-09-20', '2020-09-22')"
      ]
     },
     "execution_count": 25,
     "metadata": {},
     "output_type": "execute_result"
    }
   ],
   "source": [
    "transactions[\"t_dat\"].min(), transactions[\"t_dat\"].max()"
   ]
  },
  {
   "cell_type": "code",
   "execution_count": 26,
   "metadata": {},
   "outputs": [],
   "source": [
    "split_date = \"2020-09-15\"\n",
    "transactions_train = transactions[transactions[\"t_dat\"] < split_date] \n",
    "transactions_test = transactions[transactions[\"t_dat\"] >= split_date]"
   ]
  },
  {
   "cell_type": "code",
   "execution_count": 27,
   "metadata": {},
   "outputs": [
    {
     "name": "stdout",
     "output_type": "stream",
     "text": [
      "Test shape:  266364\n",
      "Test size:  0.008379303042211348\n"
     ]
    }
   ],
   "source": [
    "print(\"Test shape: \", transactions_test.shape[0])\n",
    "print(\"Test size: \", transactions_test.shape[0] / transactions.shape[0])"
   ]
  },
  {
   "cell_type": "markdown",
   "metadata": {},
   "source": [
    "## 6. Data save "
   ]
  },
  {
   "cell_type": "code",
   "execution_count": 28,
   "metadata": {},
   "outputs": [],
   "source": [
    "articles.to_csv(\"../input/articles_proc.csv\", header=True, index=False)\n",
    "customers.to_csv(\"../input/customers_proc.csv\", header=True, index=False)\n",
    "transactions_train.to_csv(\"../input/transactions_train.csv\", header=True, index=False)\n",
    "transactions_test.to_csv(\"../input/transactions_test.csv\", header=True, index=False)\n",
    "transactions.to_csv(\"../input/transactions_full.csv\", header=True, index=False)"
   ]
  }
 ],
 "metadata": {
  "kernelspec": {
   "display_name": "Python 3",
   "language": "python",
   "name": "python3"
  },
  "language_info": {
   "codemirror_mode": {
    "name": "ipython",
    "version": 3
   },
   "file_extension": ".py",
   "mimetype": "text/x-python",
   "name": "python",
   "nbconvert_exporter": "python",
   "pygments_lexer": "ipython3",
   "version": "3.8.10"
  }
 },
 "nbformat": 4,
 "nbformat_minor": 4
}
