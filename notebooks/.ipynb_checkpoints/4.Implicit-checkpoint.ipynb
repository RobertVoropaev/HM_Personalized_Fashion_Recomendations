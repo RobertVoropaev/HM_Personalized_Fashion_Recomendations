{
 "cells": [
  {
   "cell_type": "markdown",
   "metadata": {},
   "source": [
    "# H&M Personalized Fashion Recommendations: 3. Implicit "
   ]
  },
  {
   "cell_type": "code",
   "execution_count": 6,
   "metadata": {},
   "outputs": [
    {
     "name": "stderr",
     "output_type": "stream",
     "text": [
      "INFO:root:test\n"
     ]
    }
   ],
   "source": [
    "import numpy as np\n",
    "import pandas as pd\n",
    "from datetime import datetime, timedelta\n",
    "import seaborn as sns\n",
    "\n",
    "from scipy.sparse import csr_matrix\n",
    "\n",
    "import implicit\n",
    "\n",
    "from tqdm.notebook import tqdm\n",
    "\n",
    "import logging\n",
    "logging.basicConfig(level=logging.INFO)\n",
    "logging.info(\"test\")\n",
    "\n",
    "import sys\n",
    "sys.path.append(\"..\")\n",
    "from src.utils import *"
   ]
  },
  {
   "cell_type": "markdown",
   "metadata": {},
   "source": [
    "## 1. Download data "
   ]
  },
  {
   "cell_type": "code",
   "execution_count": 2,
   "metadata": {},
   "outputs": [],
   "source": [
    "articles = pd.read_csv(\"../input/articles_proc.csv\", dtype={\"article_id\": str})\n",
    "customers = pd.read_csv(\"../input/customers_proc.csv\")\n",
    "transactions_full = pd.read_csv(\"../input/transactions_full.csv\", dtype={\"article_id\": str})\n",
    "transactions_train = pd.read_csv(\"../input/transactions_train.csv\", dtype={\"article_id\": str})\n",
    "transactions_test = pd.read_csv(\"../input/transactions_test.csv\", dtype={\"article_id\": str})\n",
    "\n",
    "transactions_full[\"rating\"] = 1\n",
    "transactions_train[\"rating\"] = 1\n",
    "transactions_test[\"rating\"] = 1\n",
    "\n",
    "test_min_date = \"2020-09-15\"\n",
    "k = 12\n",
    "full_data_shape = (customers.shape[0], articles.shape[0])"
   ]
  },
  {
   "cell_type": "markdown",
   "metadata": {},
   "source": [
    "## 2. Get true articles "
   ]
  },
  {
   "cell_type": "code",
   "execution_count": 62,
   "metadata": {},
   "outputs": [],
   "source": [
    "true_articles = get_true_articles(transactions_test)\n",
    "test_customer_num_set = set(map(lambda x: customers_id2num[x], true_articles.index.to_list()))"
   ]
  },
  {
   "cell_type": "markdown",
   "metadata": {},
   "source": [
    "## 3. Get active articles "
   ]
  },
  {
   "cell_type": "code",
   "execution_count": 70,
   "metadata": {},
   "outputs": [
    {
     "data": {
      "text/plain": [
       "20425"
      ]
     },
     "execution_count": 70,
     "metadata": {},
     "output_type": "execute_result"
    }
   ],
   "source": [
    "active_articles_num_set = set(\n",
    "    map(lambda x: articles_id2num[x], \n",
    "        articles[articles[\"last_days_ago\"] <= 7][\"article_id\"].to_list()\n",
    "       )\n",
    ")\n",
    "len(active_articles_num_set)"
   ]
  },
  {
   "cell_type": "markdown",
   "metadata": {},
   "source": [
    "## 4. Make dataset "
   ]
  },
  {
   "cell_type": "code",
   "execution_count": 12,
   "metadata": {},
   "outputs": [
    {
     "ename": "NameError",
     "evalue": "name 'datetime' is not defined",
     "output_type": "error",
     "traceback": [
      "\u001b[0;31m---------------------------------------------------------------------------\u001b[0m",
      "\u001b[0;31mNameError\u001b[0m                                 Traceback (most recent call last)",
      "\u001b[0;32m<ipython-input-12-46bc9e7b132e>\u001b[0m in \u001b[0;36m<module>\u001b[0;34m\u001b[0m\n\u001b[1;32m     35\u001b[0m dm = DatasetMaker(\n\u001b[1;32m     36\u001b[0m     \u001b[0mtrain_data\u001b[0m\u001b[0;34m=\u001b[0m\u001b[0mtransactions_train\u001b[0m\u001b[0;34m,\u001b[0m\u001b[0;34m\u001b[0m\u001b[0;34m\u001b[0m\u001b[0m\n\u001b[0;32m---> 37\u001b[0;31m     \u001b[0mmin_date\u001b[0m\u001b[0;34m=\u001b[0m\u001b[0msubtract_days\u001b[0m\u001b[0;34m(\u001b[0m\u001b[0mtest_min_date\u001b[0m\u001b[0;34m,\u001b[0m \u001b[0mdays\u001b[0m\u001b[0;34m=\u001b[0m\u001b[0;36m30\u001b[0m\u001b[0;34m*\u001b[0m\u001b[0;36m2\u001b[0m\u001b[0;34m)\u001b[0m\u001b[0;34m,\u001b[0m\u001b[0;34m\u001b[0m\u001b[0;34m\u001b[0m\u001b[0m\n\u001b[0m\u001b[1;32m     38\u001b[0m     \u001b[0mmax_date\u001b[0m\u001b[0;34m=\u001b[0m\u001b[0mtest_min_date\u001b[0m\u001b[0;34m\u001b[0m\u001b[0;34m\u001b[0m\u001b[0m\n\u001b[1;32m     39\u001b[0m )\n",
      "\u001b[0;32m~/projects/HM_Personalized_Fashion_Recomendations/notebooks/../src/utils.py\u001b[0m in \u001b[0;36msubtract_days\u001b[0;34m(date, days)\u001b[0m\n\u001b[1;32m     34\u001b[0m \u001b[0;31m### Dates ###\u001b[0m\u001b[0;34m\u001b[0m\u001b[0;34m\u001b[0m\u001b[0;34m\u001b[0m\u001b[0m\n\u001b[1;32m     35\u001b[0m \u001b[0;34m\u001b[0m\u001b[0m\n\u001b[0;32m---> 36\u001b[0;31m \u001b[0;32mdef\u001b[0m \u001b[0msubtract_days\u001b[0m\u001b[0;34m(\u001b[0m\u001b[0mdate\u001b[0m\u001b[0;34m,\u001b[0m \u001b[0mdays\u001b[0m\u001b[0;34m)\u001b[0m\u001b[0;34m:\u001b[0m\u001b[0;34m\u001b[0m\u001b[0;34m\u001b[0m\u001b[0m\n\u001b[0m\u001b[1;32m     37\u001b[0m     \u001b[0mformat_date\u001b[0m \u001b[0;34m=\u001b[0m \u001b[0;34m\"%Y-%m-%d\"\u001b[0m\u001b[0;34m\u001b[0m\u001b[0;34m\u001b[0m\u001b[0m\n\u001b[1;32m     38\u001b[0m     \u001b[0mnew_dt\u001b[0m \u001b[0;34m=\u001b[0m \u001b[0mdatetime\u001b[0m\u001b[0;34m.\u001b[0m\u001b[0mstrptime\u001b[0m\u001b[0;34m(\u001b[0m\u001b[0mdate\u001b[0m\u001b[0;34m,\u001b[0m \u001b[0mformat_date\u001b[0m\u001b[0;34m)\u001b[0m \u001b[0;34m-\u001b[0m \u001b[0mtimedelta\u001b[0m\u001b[0;34m(\u001b[0m\u001b[0mdays\u001b[0m\u001b[0;34m=\u001b[0m\u001b[0mdays\u001b[0m\u001b[0;34m)\u001b[0m\u001b[0;34m\u001b[0m\u001b[0;34m\u001b[0m\u001b[0m\n",
      "\u001b[0;31mNameError\u001b[0m: name 'datetime' is not defined"
     ]
    }
   ],
   "source": [
    "class DatasetMaker:\n",
    "    def __init__(self, \n",
    "                 train_data,  \n",
    "                 min_date: str = None, \n",
    "                 max_date: str = None):\n",
    "        if (min_date is not None) and (max_date is not None):\n",
    "            self.train_data = train_data[train_data[\"t_dat\"].between(min_date, max_date)]\n",
    "        elif min_date is not None:\n",
    "            self.train_datatrain_data = train_data[train_data[\"t_dat\"] >= min_date]\n",
    "        elif max_date is not None:\n",
    "            self.train_data = train_data[train_data[\"t_dat\"] < max_date]\n",
    "        else:\n",
    "            self.train_data = train_data\n",
    "        \n",
    "        self.articles_id2num = {id_: num for num, id_ in enumerate(self.train_data[\"article_id\"].unique())}\n",
    "        self.articles_num2id = {num: id_ for id_, num in articles_id2num.items()}\n",
    "\n",
    "        self.customers_id2num = {id_: num for num, id_ in enumerate(self.train_data[\"customer_id\"].unique())}\n",
    "        self.customers_num2id = {num: id_ for id_, num in customers_id2num.items()}\n",
    "        \n",
    "    def get_csr_matrix(self):\n",
    "        train_csr = csr_matrix(\n",
    "            (\n",
    "                self.train_data[\"rating\"], \n",
    "                (\n",
    "                    self.train_data[\"customer_id\"].map(customers_id2num), \n",
    "                    self.train_data[\"article_id\"].map(articles_id2num)\n",
    "                )\n",
    "            ),\n",
    "            shape=(max(self.customers_num2id.keys()) + 1, max(self.articles_num2id.keys()) + 1),\n",
    "            dtype=np.uint8\n",
    "        )\n",
    "        return train_csr\n",
    "    \n",
    "dm = DatasetMaker(\n",
    "    train_data=transactions_train,\n",
    "    min_date=subtract_days(test_min_date, days=30*2), \n",
    "    max_date=test_min_date\n",
    ")"
   ]
  },
  {
   "cell_type": "code",
   "execution_count": 71,
   "metadata": {},
   "outputs": [
    {
     "data": {
      "text/plain": [
       "(1371980, 105542)"
      ]
     },
     "execution_count": 71,
     "metadata": {},
     "output_type": "execute_result"
    }
   ],
   "source": [
    "def get_train(train_data, data_shape, l_date: str = None, r_date: str = None):\n",
    "    if (l_date is not None) and (r_date is not None):\n",
    "        train_data = train_data[train_data[\"t_dat\"].between(l_date, r_date)]\n",
    "    elif l_date is not None:\n",
    "        train_data = train_data[train_data[\"t_dat\"] >= l_date]\n",
    "    elif r_date is not None:\n",
    "        train_data = train_data[train_data[\"t_dat\"] < r_date]\n",
    "    \n",
    "    articles_id2num = {id_: num for num, id_ in enumerate(train_data[\"article_id\"].unique())}\n",
    "    articles_num2id = {num: id_ for id_, num in articles_id2num.items()}\n",
    "\n",
    "    customers_id2num = {id_: num for num, id_ in enumerate(train_data[\"customer_id\"].unique())}\n",
    "    customers_num2id = {num: id_ for id_, num in customers_id2num.items()}\n",
    "    \n",
    "    train_csr = csr_matrix(\n",
    "        (\n",
    "            train_data[\"rating\"], \n",
    "            (\n",
    "                train_data[\"customer_id\"].map(customers_id2num), \n",
    "                train_data[\"article_id\"].map(articles_id2num)\n",
    "            )\n",
    "        ),\n",
    "        shape=(max(customers_num2id.keys()) + 1, max(articles_num2id.keys()) + 1),\n",
    "        dtype=np.uint8)\n",
    "    return train_csr, (articles_id2num, articles_num2id), (customers_id2num, customers_num2id)\n",
    "\n",
    "train, (articles_id2num, articles_num2id), (customers_id2num, customers_num2id) = get_train(\n",
    "    train_data=transactions_train, \n",
    "    data_shape=data_shape,\n",
    "    l_date=subtract_days(test_min_date, days=30*2), \n",
    "    r_date=test_min_date\n",
    ")\n",
    "train.shape"
   ]
  },
  {
   "cell_type": "markdown",
   "metadata": {},
   "source": [
    "## 5. Model fiting "
   ]
  },
  {
   "cell_type": "code",
   "execution_count": 73,
   "metadata": {},
   "outputs": [
    {
     "data": {
      "application/vnd.jupyter.widget-view+json": {
       "model_id": "e08a072b4d664abcb6628a6dcf360633",
       "version_major": 2,
       "version_minor": 0
      },
      "text/plain": [
       "HBox(children=(FloatProgress(value=0.0), HTML(value='')))"
      ]
     },
     "metadata": {},
     "output_type": "display_data"
    },
    {
     "name": "stderr",
     "output_type": "stream",
     "text": [
      "INFO:implicit:Final training loss -0.0008\n"
     ]
    },
    {
     "name": "stdout",
     "output_type": "stream",
     "text": [
      "\n"
     ]
    }
   ],
   "source": [
    "als = implicit.als.AlternatingLeastSquares(factors=100, \n",
    "                                           iterations=100,\n",
    "                                           regularization=0.01,\n",
    "                                           use_gpu=True,  \n",
    "                                           calculate_training_loss=True, \n",
    "                                           use_native=False)\n",
    "als.fit(train, show_progress=True)"
   ]
  },
  {
   "cell_type": "markdown",
   "metadata": {},
   "source": [
    "## 6. Prediction "
   ]
  },
  {
   "cell_type": "code",
   "execution_count": 75,
   "metadata": {
    "scrolled": true
   },
   "outputs": [
    {
     "data": {
      "application/vnd.jupyter.widget-view+json": {
       "model_id": "f50fd5477e38449dbf9298ff716c98e0",
       "version_major": 2,
       "version_minor": 0
      },
      "text/plain": [
       "HBox(children=(FloatProgress(value=0.0, max=75481.0), HTML(value='')))"
      ]
     },
     "metadata": {},
     "output_type": "display_data"
    },
    {
     "ename": "KeyboardInterrupt",
     "evalue": "",
     "output_type": "error",
     "traceback": [
      "\u001b[0;31m---------------------------------------------------------------------------\u001b[0m",
      "\u001b[0;31mKeyboardInterrupt\u001b[0m                         Traceback (most recent call last)",
      "\u001b[0;32m<ipython-input-75-6d3a1e190417>\u001b[0m in \u001b[0;36m<module>\u001b[0;34m\u001b[0m\n\u001b[1;32m     28\u001b[0m     \u001b[0;32mreturn\u001b[0m \u001b[0mpredict_df\u001b[0m\u001b[0;34m\u001b[0m\u001b[0;34m\u001b[0m\u001b[0m\n\u001b[1;32m     29\u001b[0m \u001b[0;34m\u001b[0m\u001b[0m\n\u001b[0;32m---> 30\u001b[0;31m predict_df = get_predict(\n\u001b[0m\u001b[1;32m     31\u001b[0m     \u001b[0mmodel\u001b[0m\u001b[0;34m=\u001b[0m\u001b[0mals\u001b[0m\u001b[0;34m,\u001b[0m\u001b[0;34m\u001b[0m\u001b[0;34m\u001b[0m\u001b[0m\n\u001b[1;32m     32\u001b[0m     \u001b[0muser_items\u001b[0m\u001b[0;34m=\u001b[0m\u001b[0mtrain\u001b[0m\u001b[0;34m,\u001b[0m\u001b[0;34m\u001b[0m\u001b[0;34m\u001b[0m\u001b[0m\n",
      "\u001b[0;32m<ipython-input-75-6d3a1e190417>\u001b[0m in \u001b[0;36mget_predict\u001b[0;34m(model, user_items, users, items, disable_tqdm)\u001b[0m\n\u001b[1;32m      7\u001b[0m     \u001b[0mpred_articles_list\u001b[0m \u001b[0;34m=\u001b[0m \u001b[0;34m[\u001b[0m\u001b[0;34m]\u001b[0m\u001b[0;34m\u001b[0m\u001b[0;34m\u001b[0m\u001b[0m\n\u001b[1;32m      8\u001b[0m     \u001b[0;32mfor\u001b[0m \u001b[0mcustomer_num\u001b[0m \u001b[0;32min\u001b[0m \u001b[0mtqdm\u001b[0m\u001b[0;34m(\u001b[0m\u001b[0musers\u001b[0m\u001b[0;34m,\u001b[0m \u001b[0mdisable\u001b[0m\u001b[0;34m=\u001b[0m\u001b[0;32mFalse\u001b[0m\u001b[0;34m)\u001b[0m\u001b[0;34m:\u001b[0m\u001b[0;34m\u001b[0m\u001b[0;34m\u001b[0m\u001b[0m\n\u001b[0;32m----> 9\u001b[0;31m         article_list, score_list = model.recommend(\n\u001b[0m\u001b[1;32m     10\u001b[0m             \u001b[0mcustomer_num\u001b[0m\u001b[0;34m,\u001b[0m\u001b[0;34m\u001b[0m\u001b[0;34m\u001b[0m\u001b[0m\n\u001b[1;32m     11\u001b[0m             \u001b[0muser_items\u001b[0m\u001b[0;34m[\u001b[0m\u001b[0mcustomer_num\u001b[0m\u001b[0;34m]\u001b[0m\u001b[0;34m,\u001b[0m\u001b[0;34m\u001b[0m\u001b[0;34m\u001b[0m\u001b[0m\n",
      "\u001b[0;32m~/.local/lib/python3.8/site-packages/implicit/gpu/matrix_factorization_base.py\u001b[0m in \u001b[0;36mrecommend\u001b[0;34m(self, userid, user_items, N, filter_already_liked_items, filter_items, recalculate_user, items)\u001b[0m\n\u001b[1;32m     60\u001b[0m                 \u001b[0;32mraise\u001b[0m \u001b[0mValueError\u001b[0m\u001b[0;34m(\u001b[0m\u001b[0;34m\"Can't set both items and filter_items in recommend call\"\u001b[0m\u001b[0;34m)\u001b[0m\u001b[0;34m\u001b[0m\u001b[0;34m\u001b[0m\u001b[0m\n\u001b[1;32m     61\u001b[0m \u001b[0;34m\u001b[0m\u001b[0m\n\u001b[0;32m---> 62\u001b[0;31m             \u001b[0mitems\u001b[0m \u001b[0;34m=\u001b[0m \u001b[0mnp\u001b[0m\u001b[0;34m.\u001b[0m\u001b[0marray\u001b[0m\u001b[0;34m(\u001b[0m\u001b[0mitems\u001b[0m\u001b[0;34m)\u001b[0m\u001b[0;34m\u001b[0m\u001b[0;34m\u001b[0m\u001b[0m\n\u001b[0m\u001b[1;32m     63\u001b[0m             \u001b[0mitems\u001b[0m\u001b[0;34m.\u001b[0m\u001b[0msort\u001b[0m\u001b[0;34m(\u001b[0m\u001b[0;34m)\u001b[0m\u001b[0;34m\u001b[0m\u001b[0;34m\u001b[0m\u001b[0m\n\u001b[1;32m     64\u001b[0m             \u001b[0mitem_factors\u001b[0m \u001b[0;34m=\u001b[0m \u001b[0mitem_factors\u001b[0m\u001b[0;34m[\u001b[0m\u001b[0mitems\u001b[0m\u001b[0;34m]\u001b[0m\u001b[0;34m\u001b[0m\u001b[0;34m\u001b[0m\u001b[0m\n",
      "\u001b[0;31mKeyboardInterrupt\u001b[0m: "
     ]
    }
   ],
   "source": [
    "def get_predict(model, \n",
    "                user_items, \n",
    "                users, \n",
    "                items, \n",
    "                disable_tqdm=False):\n",
    "    pred_customer_list = []\n",
    "    pred_articles_list = []\n",
    "    for customer_num in tqdm(users, disable=disable_tqdm):\n",
    "        article_list, score_list = model.recommend(\n",
    "            customer_num, \n",
    "            user_items[customer_num], \n",
    "            N=k,                                \n",
    "            items=list(items)\n",
    "        )\n",
    "        \n",
    "        pred_customer_list.append(customers_num2id[customer_num])\n",
    "        pred_articles_list.append(\" \".join(list(map(lambda x: articles_num2id[x], article_list))))\n",
    "\n",
    "    predict_df = (\n",
    "        pd.DataFrame(\n",
    "            data={\"customer_id\": pred_customer_list, \n",
    "                  \"prediction\": pred_articles_list\n",
    "                 }\n",
    "        )\n",
    "            .merge(pd.DataFrame(true_articles).reset_index(), on=\"customer_id\", how=\"inner\")\n",
    "            .rename({\"article_id\": \"actual\"}, axis=1)\n",
    "    )\n",
    "    return predict_df\n",
    "\n",
    "predict_df = get_predict(\n",
    "    model=als, \n",
    "    user_items=train, \n",
    "    users=test_customer_num_set, \n",
    "    items=active_articles_num_set\n",
    ")\n",
    "\n",
    "map_at_k(predict_df[\"actual\"], predict_df[\"prediction\"])"
   ]
  },
  {
   "cell_type": "code",
   "execution_count": 77,
   "metadata": {
    "scrolled": false
   },
   "outputs": [
    {
     "data": {
      "application/vnd.jupyter.widget-view+json": {
       "model_id": "5061d7f612124d6b97f9671346d8d2d6",
       "version_major": 2,
       "version_minor": 0
      },
      "text/plain": [
       "HBox(children=(FloatProgress(value=0.0, max=75481.0), HTML(value='')))"
      ]
     },
     "metadata": {},
     "output_type": "display_data"
    },
    {
     "name": "stdout",
     "output_type": "stream",
     "text": [
      "\n",
      "1 1 0.002015991502218821\n"
     ]
    },
    {
     "data": {
      "application/vnd.jupyter.widget-view+json": {
       "model_id": "c5577db2fdd143c8b154150515dd8d04",
       "version_major": 2,
       "version_minor": 0
      },
      "text/plain": [
       "HBox(children=(FloatProgress(value=0.0, max=75481.0), HTML(value='')))"
      ]
     },
     "metadata": {},
     "output_type": "display_data"
    },
    {
     "name": "stdout",
     "output_type": "stream",
     "text": [
      "\n",
      "1 51 0.00472314611483887\n"
     ]
    },
    {
     "data": {
      "application/vnd.jupyter.widget-view+json": {
       "model_id": "aec910c0558147efbb2ad7c87202a7d4",
       "version_major": 2,
       "version_minor": 0
      },
      "text/plain": [
       "HBox(children=(FloatProgress(value=0.0, max=75481.0), HTML(value='')))"
      ]
     },
     "metadata": {},
     "output_type": "display_data"
    },
    {
     "name": "stdout",
     "output_type": "stream",
     "text": [
      "\n",
      "1 101 0.005146281256988261\n"
     ]
    },
    {
     "data": {
      "application/vnd.jupyter.widget-view+json": {
       "model_id": "24a282e0064843a39597fb5922ee7f63",
       "version_major": 2,
       "version_minor": 0
      },
      "text/plain": [
       "HBox(children=(FloatProgress(value=0.0, max=75481.0), HTML(value='')))"
      ]
     },
     "metadata": {},
     "output_type": "display_data"
    },
    {
     "name": "stdout",
     "output_type": "stream",
     "text": [
      "\n",
      "1 151 0.005144589163979403\n"
     ]
    },
    {
     "data": {
      "application/vnd.jupyter.widget-view+json": {
       "model_id": "af3c4b0741454084a8089591f4f51b2c",
       "version_major": 2,
       "version_minor": 0
      },
      "text/plain": [
       "HBox(children=(FloatProgress(value=0.0, max=75481.0), HTML(value='')))"
      ]
     },
     "metadata": {},
     "output_type": "display_data"
    },
    {
     "name": "stdout",
     "output_type": "stream",
     "text": [
      "\n",
      "2 1 0.002094049161060764\n"
     ]
    },
    {
     "data": {
      "application/vnd.jupyter.widget-view+json": {
       "model_id": "544b020c443241bfb485ec7525e079f4",
       "version_major": 2,
       "version_minor": 0
      },
      "text/plain": [
       "HBox(children=(FloatProgress(value=0.0, max=75481.0), HTML(value='')))"
      ]
     },
     "metadata": {},
     "output_type": "display_data"
    },
    {
     "name": "stdout",
     "output_type": "stream",
     "text": [
      "\n",
      "2 51 0.004880158214275481\n"
     ]
    },
    {
     "data": {
      "application/vnd.jupyter.widget-view+json": {
       "model_id": "6b9891aca0cc4a4199a9b63e42925624",
       "version_major": 2,
       "version_minor": 0
      },
      "text/plain": [
       "HBox(children=(FloatProgress(value=0.0, max=75481.0), HTML(value='')))"
      ]
     },
     "metadata": {},
     "output_type": "display_data"
    },
    {
     "name": "stdout",
     "output_type": "stream",
     "text": [
      "\n",
      "2 101 0.005298661575455251\n"
     ]
    },
    {
     "data": {
      "application/vnd.jupyter.widget-view+json": {
       "model_id": "4d5686ae8ca6418f9c9e5fc78769c8b7",
       "version_major": 2,
       "version_minor": 0
      },
      "text/plain": [
       "HBox(children=(FloatProgress(value=0.0, max=75481.0), HTML(value='')))"
      ]
     },
     "metadata": {},
     "output_type": "display_data"
    },
    {
     "name": "stdout",
     "output_type": "stream",
     "text": [
      "\n",
      "2 151 0.0052599145796835495\n"
     ]
    },
    {
     "data": {
      "application/vnd.jupyter.widget-view+json": {
       "model_id": "2512d404264b44ec9b4485f9bf4367c1",
       "version_major": 2,
       "version_minor": 0
      },
      "text/plain": [
       "HBox(children=(FloatProgress(value=0.0, max=75481.0), HTML(value='')))"
      ]
     },
     "metadata": {},
     "output_type": "display_data"
    },
    {
     "name": "stdout",
     "output_type": "stream",
     "text": [
      "\n",
      "3 1 0.0019400767342750724\n"
     ]
    },
    {
     "data": {
      "application/vnd.jupyter.widget-view+json": {
       "model_id": "6bdc5d3db5bb46a68cb190307d73081c",
       "version_major": 2,
       "version_minor": 0
      },
      "text/plain": [
       "HBox(children=(FloatProgress(value=0.0, max=75481.0), HTML(value='')))"
      ]
     },
     "metadata": {},
     "output_type": "display_data"
    },
    {
     "name": "stdout",
     "output_type": "stream",
     "text": [
      "\n",
      "3 51 0.003903377816726778\n"
     ]
    },
    {
     "data": {
      "application/vnd.jupyter.widget-view+json": {
       "model_id": "42117ae28c244849b12d9aef7980f0e3",
       "version_major": 2,
       "version_minor": 0
      },
      "text/plain": [
       "HBox(children=(FloatProgress(value=0.0, max=75481.0), HTML(value='')))"
      ]
     },
     "metadata": {},
     "output_type": "display_data"
    },
    {
     "name": "stdout",
     "output_type": "stream",
     "text": [
      "\n",
      "3 101 0.00422912969030216\n"
     ]
    },
    {
     "data": {
      "application/vnd.jupyter.widget-view+json": {
       "model_id": "8ecd1171b4b349008bb2a4095720331b",
       "version_major": 2,
       "version_minor": 0
      },
      "text/plain": [
       "HBox(children=(FloatProgress(value=0.0, max=75481.0), HTML(value='')))"
      ]
     },
     "metadata": {},
     "output_type": "display_data"
    },
    {
     "name": "stdout",
     "output_type": "stream",
     "text": [
      "\n",
      "3 151 0.004360488513959722\n"
     ]
    },
    {
     "data": {
      "application/vnd.jupyter.widget-view+json": {
       "model_id": "274d0116dc58405cb29b85eb0c664a7f",
       "version_major": 2,
       "version_minor": 0
      },
      "text/plain": [
       "HBox(children=(FloatProgress(value=0.0, max=75481.0), HTML(value='')))"
      ]
     },
     "metadata": {},
     "output_type": "display_data"
    },
    {
     "name": "stdout",
     "output_type": "stream",
     "text": [
      "\n",
      "4 1 0.0010752475809509242\n"
     ]
    },
    {
     "data": {
      "application/vnd.jupyter.widget-view+json": {
       "model_id": "831f4c09689746ad8f8e52862005aaed",
       "version_major": 2,
       "version_minor": 0
      },
      "text/plain": [
       "HBox(children=(FloatProgress(value=0.0, max=75481.0), HTML(value='')))"
      ]
     },
     "metadata": {},
     "output_type": "display_data"
    },
    {
     "name": "stdout",
     "output_type": "stream",
     "text": [
      "\n",
      "4 51 0.003428289956221951\n"
     ]
    },
    {
     "data": {
      "application/vnd.jupyter.widget-view+json": {
       "model_id": "995b53559bea4df08b98ce5041df1cb7",
       "version_major": 2,
       "version_minor": 0
      },
      "text/plain": [
       "HBox(children=(FloatProgress(value=0.0, max=75481.0), HTML(value='')))"
      ]
     },
     "metadata": {},
     "output_type": "display_data"
    },
    {
     "name": "stdout",
     "output_type": "stream",
     "text": [
      "\n",
      "4 101 0.0036862604470667983\n"
     ]
    },
    {
     "data": {
      "application/vnd.jupyter.widget-view+json": {
       "model_id": "0f92f25d60bd4ff3bd06a72d2d6a9684",
       "version_major": 2,
       "version_minor": 0
      },
      "text/plain": [
       "HBox(children=(FloatProgress(value=0.0, max=75481.0), HTML(value='')))"
      ]
     },
     "metadata": {},
     "output_type": "display_data"
    },
    {
     "name": "stdout",
     "output_type": "stream",
     "text": [
      "\n",
      "4 151 0.0037175046903177356\n"
     ]
    },
    {
     "data": {
      "application/vnd.jupyter.widget-view+json": {
       "model_id": "c667dee3e8c6405184e371672c71b168",
       "version_major": 2,
       "version_minor": 0
      },
      "text/plain": [
       "HBox(children=(FloatProgress(value=0.0, max=75481.0), HTML(value='')))"
      ]
     },
     "metadata": {},
     "output_type": "display_data"
    },
    {
     "name": "stdout",
     "output_type": "stream",
     "text": [
      "\n",
      "5 1 0.0010425339684997272\n"
     ]
    },
    {
     "data": {
      "application/vnd.jupyter.widget-view+json": {
       "model_id": "def1808f8f784667b03cec0fa35ae300",
       "version_major": 2,
       "version_minor": 0
      },
      "text/plain": [
       "HBox(children=(FloatProgress(value=0.0, max=75481.0), HTML(value='')))"
      ]
     },
     "metadata": {},
     "output_type": "display_data"
    },
    {
     "name": "stdout",
     "output_type": "stream",
     "text": [
      "\n",
      "5 51 0.003050622764437029\n"
     ]
    },
    {
     "data": {
      "application/vnd.jupyter.widget-view+json": {
       "model_id": "cc265620b0eb479bbc137224ca2ef429",
       "version_major": 2,
       "version_minor": 0
      },
      "text/plain": [
       "HBox(children=(FloatProgress(value=0.0, max=75481.0), HTML(value='')))"
      ]
     },
     "metadata": {},
     "output_type": "display_data"
    },
    {
     "name": "stdout",
     "output_type": "stream",
     "text": [
      "\n",
      "5 101 0.003244871680320316\n"
     ]
    },
    {
     "data": {
      "application/vnd.jupyter.widget-view+json": {
       "model_id": "0ba866ea09934d23b82c0073b129f6c5",
       "version_major": 2,
       "version_minor": 0
      },
      "text/plain": [
       "HBox(children=(FloatProgress(value=0.0, max=75481.0), HTML(value='')))"
      ]
     },
     "metadata": {},
     "output_type": "display_data"
    },
    {
     "name": "stdout",
     "output_type": "stream",
     "text": [
      "\n",
      "5 151 0.0033065602496971463\n"
     ]
    },
    {
     "data": {
      "application/vnd.jupyter.widget-view+json": {
       "model_id": "f9da47ce82cf47ccbf3ffbf4524b7e20",
       "version_major": 2,
       "version_minor": 0
      },
      "text/plain": [
       "HBox(children=(FloatProgress(value=0.0, max=75481.0), HTML(value='')))"
      ]
     },
     "metadata": {},
     "output_type": "display_data"
    },
    {
     "name": "stdout",
     "output_type": "stream",
     "text": [
      "\n",
      "6 1 0.0010866761181244295\n"
     ]
    },
    {
     "data": {
      "application/vnd.jupyter.widget-view+json": {
       "model_id": "a9a5988c35ce4712995bf2c3110bd054",
       "version_major": 2,
       "version_minor": 0
      },
      "text/plain": [
       "HBox(children=(FloatProgress(value=0.0, max=75481.0), HTML(value='')))"
      ]
     },
     "metadata": {},
     "output_type": "display_data"
    },
    {
     "name": "stdout",
     "output_type": "stream",
     "text": [
      "\n",
      "6 51 0.003014929879600957\n"
     ]
    },
    {
     "data": {
      "application/vnd.jupyter.widget-view+json": {
       "model_id": "35d1b110fed54ed5a93808226d4afe3b",
       "version_major": 2,
       "version_minor": 0
      },
      "text/plain": [
       "HBox(children=(FloatProgress(value=0.0, max=75481.0), HTML(value='')))"
      ]
     },
     "metadata": {},
     "output_type": "display_data"
    },
    {
     "name": "stdout",
     "output_type": "stream",
     "text": [
      "\n",
      "6 101 0.0030248791458301924\n"
     ]
    },
    {
     "data": {
      "application/vnd.jupyter.widget-view+json": {
       "model_id": "2b761546d1ac494f92c277e36b330a09",
       "version_major": 2,
       "version_minor": 0
      },
      "text/plain": [
       "HBox(children=(FloatProgress(value=0.0, max=75481.0), HTML(value='')))"
      ]
     },
     "metadata": {},
     "output_type": "display_data"
    },
    {
     "name": "stdout",
     "output_type": "stream",
     "text": [
      "\n",
      "6 151 0.0032169038028438813\n"
     ]
    }
   ],
   "source": [
    "month_list = []\n",
    "factors_list = []\n",
    "map_list = []\n",
    "for month_diff in range(1, 7):\n",
    "    train = get_train(\n",
    "        train_data=transactions_train, \n",
    "        data_shape=data_shape,\n",
    "        l_date=subtract_days(test_min_date, days=30 * month_diff), \n",
    "        r_date=test_min_date\n",
    "    )\n",
    "    \n",
    "    \n",
    "    for factors in range(1, 201, 50):\n",
    "        als = implicit.als.AlternatingLeastSquares(\n",
    "            factors=factors, \n",
    "            iterations=100,\n",
    "            use_gpu=True,  \n",
    "            calculate_training_loss=False, \n",
    "            use_native=False)\n",
    "        als.fit(train, show_progress=False)\n",
    "        \n",
    "        predict_df = get_predict(\n",
    "            model=als, \n",
    "            user_items=train, \n",
    "            users=test_customer_num_set, \n",
    "            items=active_articles_num_set,\n",
    "            disable_tqdm=True\n",
    "        )\n",
    "\n",
    "        map_score = map_at_k(predict_df[\"actual\"], predict_df[\"prediction\"])\n",
    "        print(month_diff, factors, map_score)\n",
    "        \n",
    "        month_list.append(month_diff)\n",
    "        factors_list.append(factors)\n",
    "        map_list.append(map_score)"
   ]
  },
  {
   "cell_type": "code",
   "execution_count": 81,
   "metadata": {},
   "outputs": [
    {
     "data": {
      "text/plain": [
       "<AxesSubplot:xlabel='factors', ylabel='map'>"
      ]
     },
     "execution_count": 81,
     "metadata": {},
     "output_type": "execute_result"
    },
    {
     "data": {
      "image/png": "[encoded data removed]",
      "text/plain": [
       "<Figure size 432x288 with 1 Axes>"
      ]
     },
     "metadata": {
      "needs_background": "light"
     },
     "output_type": "display_data"
    }
   ],
   "source": [
    "sns.lineplot(data=pd.DataFrame({\"month\": month_list, \n",
    "                              \"factors\": factors_list, \n",
    "                              \"map\": map_list}), x=\"factors\", y=\"map\", hue=\"month\")"
   ]
  },
  {
   "cell_type": "code",
   "execution_count": 97,
   "metadata": {},
   "outputs": [
    {
     "data": {
      "text/plain": [
       "(400411, 36767)"
      ]
     },
     "execution_count": 97,
     "metadata": {},
     "output_type": "execute_result"
    }
   ],
   "source": [
    "def get_train(train_data, data_shape, l_date: str = None, r_date: str = None):\n",
    "    if (l_date is not None) and (r_date is not None):\n",
    "        train_data = train_data[train_data[\"t_dat\"].between(l_date, r_date)]\n",
    "    elif l_date is not None:\n",
    "        train_data = train_data[train_data[\"t_dat\"] >= l_date]\n",
    "    elif r_date is not None:\n",
    "        train_data = train_data[train_data[\"t_dat\"] < r_date]\n",
    "    \n",
    "    articles_id2num = {id_: num for num, id_ in enumerate(train_data[\"article_id\"].unique())}\n",
    "    articles_num2id = {num: id_ for id_, num in articles_id2num.items()}\n",
    "\n",
    "    customers_id2num = {id_: num for num, id_ in enumerate(train_data[\"customer_id\"].unique())}\n",
    "    customers_num2id = {num: id_ for id_, num in customers_id2num.items()}\n",
    "    \n",
    "    train_csr = csr_matrix(\n",
    "        (\n",
    "            train_data[\"rating\"], \n",
    "            (\n",
    "                train_data[\"customer_id\"].map(customers_id2num), \n",
    "                train_data[\"article_id\"].map(articles_id2num)\n",
    "            )\n",
    "        ),\n",
    "        shape=(max(customers_num2id.keys()) + 1, max(articles_num2id.keys()) + 1),\n",
    "        dtype=np.uint8)\n",
    "    return train_csr, (articles_id2num, articles_num2id), (customers_id2num, customers_num2id)\n",
    "\n",
    "train, (articles_id2num, articles_num2id), (customers_id2num, customers_num2id) = get_train(\n",
    "    train_data=transactions_train, \n",
    "    data_shape=data_shape,\n",
    "    l_date=subtract_days(test_min_date, days=30*2), \n",
    "    r_date=test_min_date\n",
    ")\n",
    "train.shape"
   ]
  },
  {
   "cell_type": "code",
   "execution_count": 98,
   "metadata": {},
   "outputs": [
    {
     "data": {
      "application/vnd.jupyter.widget-view+json": {
       "model_id": "538bb6bdcd9a4599a87c97daa077f96a",
       "version_major": 2,
       "version_minor": 0
      },
      "text/plain": [
       "HBox(children=(FloatProgress(value=0.0), HTML(value='')))"
      ]
     },
     "metadata": {},
     "output_type": "display_data"
    },
    {
     "name": "stderr",
     "output_type": "stream",
     "text": [
      "INFO:implicit:Final training loss 0.0012\n"
     ]
    },
    {
     "name": "stdout",
     "output_type": "stream",
     "text": [
      "\n"
     ]
    }
   ],
   "source": [
    "als = implicit.als.AlternatingLeastSquares(factors=100, \n",
    "                                           iterations=100,\n",
    "                                           regularization=0.01,\n",
    "                                           use_gpu=True,  \n",
    "                                           calculate_training_loss=True, \n",
    "                                           use_native=False)\n",
    "als.fit(train, show_progress=True)"
   ]
  },
  {
   "cell_type": "code",
   "execution_count": 102,
   "metadata": {},
   "outputs": [],
   "source": [
    "active_articles_num_set = set(\n",
    "    map(lambda x: articles_id2num[x] if x in articles_id2num else None, \n",
    "        articles[articles[\"last_days_ago\"] <= 7][\"article_id\"].to_list()\n",
    "       )\n",
    ")\n",
    "test_customer_num_set = set(map(lambda x: customers_id2num[x] if x in articles_id2num else None, true_articles.index.to_list()))"
   ]
  },
  {
   "cell_type": "code",
   "execution_count": 104,
   "metadata": {},
   "outputs": [],
   "source": [
    "active_articles_num_set.remove(None)\n",
    "test_customer_num_set.remove(None)"
   ]
  },
  {
   "cell_type": "code",
   "execution_count": 107,
   "metadata": {},
   "outputs": [
    {
     "data": {
      "text/plain": [
       "18674"
      ]
     },
     "execution_count": 107,
     "metadata": {},
     "output_type": "execute_result"
    }
   ],
   "source": [
    "len(active_articles_num_set)"
   ]
  },
  {
   "cell_type": "code",
   "execution_count": 105,
   "metadata": {},
   "outputs": [
    {
     "data": {
      "application/vnd.jupyter.widget-view+json": {
       "model_id": "8e473de74ccd4c4ab1fd3285dc92a2ad",
       "version_major": 2,
       "version_minor": 0
      },
      "text/plain": [
       "HBox(children=(FloatProgress(value=1.0, bar_style='info', max=1.0), HTML(value='')))"
      ]
     },
     "metadata": {},
     "output_type": "display_data"
    },
    {
     "name": "stdout",
     "output_type": "stream",
     "text": [
      "\n"
     ]
    },
    {
     "name": "stderr",
     "output_type": "stream",
     "text": [
      "/home/rv/.local/lib/python3.8/site-packages/numpy/core/fromnumeric.py:3474: RuntimeWarning: Mean of empty slice.\n",
      "  return _methods._mean(a, axis=axis, dtype=dtype,\n",
      "/home/rv/.local/lib/python3.8/site-packages/numpy/core/_methods.py:189: RuntimeWarning: invalid value encountered in double_scalars\n",
      "  ret = ret.dtype.type(ret / rcount)\n"
     ]
    },
    {
     "data": {
      "text/plain": [
       "nan"
      ]
     },
     "execution_count": 105,
     "metadata": {},
     "output_type": "execute_result"
    }
   ],
   "source": [
    "def get_predict(model, \n",
    "                user_items, \n",
    "                users, \n",
    "                items, \n",
    "                disable_tqdm=False):\n",
    "    pred_customer_list = []\n",
    "    pred_articles_list = []\n",
    "    for customer_num in tqdm(users, disable=disable_tqdm):\n",
    "        article_list, score_list = model.recommend(\n",
    "            customer_num, \n",
    "            user_items[customer_num], \n",
    "            N=k,                                \n",
    "            items=list(items)\n",
    "        )\n",
    "        \n",
    "        pred_customer_list.append(customers_num2id[customer_num])\n",
    "        pred_articles_list.append(\" \".join(list(map(lambda x: articles_num2id[x], article_list))))\n",
    "\n",
    "    predict_df = (\n",
    "        pd.DataFrame(\n",
    "            data={\"customer_id\": pred_customer_list, \n",
    "                  \"prediction\": pred_articles_list\n",
    "                 }\n",
    "        )\n",
    "            .merge(pd.DataFrame(true_articles).reset_index(), on=\"customer_id\", how=\"inner\")\n",
    "            .rename({\"article_id\": \"actual\"}, axis=1)\n",
    "    )\n",
    "    return predict_df\n",
    "\n",
    "predict_df = get_predict(\n",
    "    model=als, \n",
    "    user_items=train, \n",
    "    users=test_customer_num_set, \n",
    "    items=active_articles_num_set\n",
    ")\n",
    "\n",
    "map_at_k(predict_df[\"actual\"], predict_df[\"prediction\"])"
   ]
  },
  {
   "cell_type": "code",
   "execution_count": 102,
   "metadata": {},
   "outputs": [],
   "source": [
    "pred_df = pred_df.astype(str).groupby([\"customer_id\"])[\"article_id\"].apply(\" \".join).reset_index()"
   ]
  },
  {
   "cell_type": "code",
   "execution_count": 109,
   "metadata": {},
   "outputs": [
    {
     "data": {
      "text/html": [
       "<div>\n",
       "<style scoped>\n",
       "    .dataframe tbody tr th:only-of-type {\n",
       "        vertical-align: middle;\n",
       "    }\n",
       "\n",
       "    .dataframe tbody tr th {\n",
       "        vertical-align: top;\n",
       "    }\n",
       "\n",
       "    .dataframe thead th {\n",
       "        text-align: right;\n",
       "    }\n",
       "</style>\n",
       "<table border=\"1\" class=\"dataframe\">\n",
       "  <thead>\n",
       "    <tr style=\"text-align: right;\">\n",
       "      <th></th>\n",
       "      <th>customer_id</th>\n",
       "      <th>prediction</th>\n",
       "    </tr>\n",
       "  </thead>\n",
       "  <tbody>\n",
       "    <tr>\n",
       "      <th>0</th>\n",
       "      <td>00000dbacae5abe5e23885899a1fa44253a17956c6d1c3...</td>\n",
       "      <td>568597006 618800001 228257001 783346001 716672...</td>\n",
       "    </tr>\n",
       "    <tr>\n",
       "      <th>1</th>\n",
       "      <td>000058a12d5b43e67d225668fa1f8d618c13dc232df0ca...</td>\n",
       "      <td>699080001 609719001 458543001 699081001 838055...</td>\n",
       "    </tr>\n",
       "    <tr>\n",
       "      <th>2</th>\n",
       "      <td>0000757967448a6cb83efb3ea7a3fb9d418ac7adf2379d...</td>\n",
       "      <td>688537011 806388002 806388003 806388001 803757...</td>\n",
       "    </tr>\n",
       "    <tr>\n",
       "      <th>3</th>\n",
       "      <td>000172a9c322560c849754ffbdfdb2180d408aa7176b94...</td>\n",
       "      <td>562245018 562245001 562245004 519583013 712587...</td>\n",
       "    </tr>\n",
       "    <tr>\n",
       "      <th>4</th>\n",
       "      <td>0001d44dbe7f6c4b35200abdb052c77a87596fe1bdcc37...</td>\n",
       "      <td>537116001 554479001 803757001 554479005 857812...</td>\n",
       "    </tr>\n",
       "    <tr>\n",
       "      <th>...</th>\n",
       "      <td>...</td>\n",
       "      <td>...</td>\n",
       "    </tr>\n",
       "    <tr>\n",
       "      <th>182316</th>\n",
       "      <td>fffd0248a95c2e49fee876ff93598e2e20839e51b9b767...</td>\n",
       "      <td>554450004 554450036 554450025 554450005 554450...</td>\n",
       "    </tr>\n",
       "    <tr>\n",
       "      <th>182317</th>\n",
       "      <td>fffd870c6324ad3bda24e4d6aeae221c199479086bfdfd...</td>\n",
       "      <td>684209001 758064001 758060001 688537001 758088...</td>\n",
       "    </tr>\n",
       "    <tr>\n",
       "      <th>182318</th>\n",
       "      <td>fffef3b6b73545df065b521e19f64bf6fe93bfd450ab20...</td>\n",
       "      <td>678942032 591334003 591334019 678942031 678942...</td>\n",
       "    </tr>\n",
       "    <tr>\n",
       "      <th>182319</th>\n",
       "      <td>ffffbbf78b6eaac697a8a5dfbfd2bfa8113ee5b403e474...</td>\n",
       "      <td>579302001 559630013 590928011 698294001 599580...</td>\n",
       "    </tr>\n",
       "    <tr>\n",
       "      <th>182320</th>\n",
       "      <td>ffffcf35913a0bee60e8741cb2b4e78b8a98ee5ff2e6a1...</td>\n",
       "      <td>564786001 759871001 636323001 573716050 399256...</td>\n",
       "    </tr>\n",
       "  </tbody>\n",
       "</table>\n",
       "<p>182321 rows × 2 columns</p>\n",
       "</div>"
      ],
      "text/plain": [
       "                                              customer_id  \\\n",
       "0       00000dbacae5abe5e23885899a1fa44253a17956c6d1c3...   \n",
       "1       000058a12d5b43e67d225668fa1f8d618c13dc232df0ca...   \n",
       "2       0000757967448a6cb83efb3ea7a3fb9d418ac7adf2379d...   \n",
       "3       000172a9c322560c849754ffbdfdb2180d408aa7176b94...   \n",
       "4       0001d44dbe7f6c4b35200abdb052c77a87596fe1bdcc37...   \n",
       "...                                                   ...   \n",
       "182316  fffd0248a95c2e49fee876ff93598e2e20839e51b9b767...   \n",
       "182317  fffd870c6324ad3bda24e4d6aeae221c199479086bfdfd...   \n",
       "182318  fffef3b6b73545df065b521e19f64bf6fe93bfd450ab20...   \n",
       "182319  ffffbbf78b6eaac697a8a5dfbfd2bfa8113ee5b403e474...   \n",
       "182320  ffffcf35913a0bee60e8741cb2b4e78b8a98ee5ff2e6a1...   \n",
       "\n",
       "                                               prediction  \n",
       "0       568597006 618800001 228257001 783346001 716672...  \n",
       "1       699080001 609719001 458543001 699081001 838055...  \n",
       "2       688537011 806388002 806388003 806388001 803757...  \n",
       "3       562245018 562245001 562245004 519583013 712587...  \n",
       "4       537116001 554479001 803757001 554479005 857812...  \n",
       "...                                                   ...  \n",
       "182316  554450004 554450036 554450025 554450005 554450...  \n",
       "182317  684209001 758064001 758060001 688537001 758088...  \n",
       "182318  678942032 591334003 591334019 678942031 678942...  \n",
       "182319  579302001 559630013 590928011 698294001 599580...  \n",
       "182320  564786001 759871001 636323001 573716050 399256...  \n",
       "\n",
       "[182321 rows x 2 columns]"
      ]
     },
     "execution_count": 109,
     "metadata": {},
     "output_type": "execute_result"
    }
   ],
   "source": [
    "simple = pd.read_csv(\"../output/2.als.csv\")\n",
    "simple"
   ]
  },
  {
   "cell_type": "code",
   "execution_count": 110,
   "metadata": {},
   "outputs": [
    {
     "data": {
      "text/html": [
       "<div>\n",
       "<style scoped>\n",
       "    .dataframe tbody tr th:only-of-type {\n",
       "        vertical-align: middle;\n",
       "    }\n",
       "\n",
       "    .dataframe tbody tr th {\n",
       "        vertical-align: top;\n",
       "    }\n",
       "\n",
       "    .dataframe thead th {\n",
       "        text-align: right;\n",
       "    }\n",
       "</style>\n",
       "<table border=\"1\" class=\"dataframe\">\n",
       "  <thead>\n",
       "    <tr style=\"text-align: right;\">\n",
       "      <th></th>\n",
       "      <th>customer_id</th>\n",
       "      <th>prediction</th>\n",
       "    </tr>\n",
       "  </thead>\n",
       "  <tbody>\n",
       "    <tr>\n",
       "      <th>0</th>\n",
       "      <td>00000dbacae5abe5e23885899a1fa44253a17956c6d1c3...</td>\n",
       "      <td>0706016001 0706016002 0372860001 0610776002 07...</td>\n",
       "    </tr>\n",
       "    <tr>\n",
       "      <th>1</th>\n",
       "      <td>0000423b00ade91418cceaf3b26c6af3dd342b51fd051e...</td>\n",
       "      <td>0706016001 0706016002 0372860001 0610776002 07...</td>\n",
       "    </tr>\n",
       "    <tr>\n",
       "      <th>2</th>\n",
       "      <td>000058a12d5b43e67d225668fa1f8d618c13dc232df0ca...</td>\n",
       "      <td>0706016001 0706016002 0372860001 0610776002 07...</td>\n",
       "    </tr>\n",
       "    <tr>\n",
       "      <th>3</th>\n",
       "      <td>00005ca1c9ed5f5146b52ac8639a40ca9d57aeff4d1bd2...</td>\n",
       "      <td>0706016001 0706016002 0372860001 0610776002 07...</td>\n",
       "    </tr>\n",
       "    <tr>\n",
       "      <th>4</th>\n",
       "      <td>00006413d8573cd20ed7128e53b7b13819fe5cfc2d801f...</td>\n",
       "      <td>0706016001 0706016002 0372860001 0610776002 07...</td>\n",
       "    </tr>\n",
       "    <tr>\n",
       "      <th>...</th>\n",
       "      <td>...</td>\n",
       "      <td>...</td>\n",
       "    </tr>\n",
       "    <tr>\n",
       "      <th>1371975</th>\n",
       "      <td>ffffbbf78b6eaac697a8a5dfbfd2bfa8113ee5b403e474...</td>\n",
       "      <td>0706016001 0706016002 0372860001 0610776002 07...</td>\n",
       "    </tr>\n",
       "    <tr>\n",
       "      <th>1371976</th>\n",
       "      <td>ffffcd5046a6143d29a04fb8c424ce494a76e5cdf4fab5...</td>\n",
       "      <td>0706016001 0706016002 0372860001 0610776002 07...</td>\n",
       "    </tr>\n",
       "    <tr>\n",
       "      <th>1371977</th>\n",
       "      <td>ffffcf35913a0bee60e8741cb2b4e78b8a98ee5ff2e6a1...</td>\n",
       "      <td>0706016001 0706016002 0372860001 0610776002 07...</td>\n",
       "    </tr>\n",
       "    <tr>\n",
       "      <th>1371978</th>\n",
       "      <td>ffffd7744cebcf3aca44ae7049d2a94b87074c3d4ffe38...</td>\n",
       "      <td>0706016001 0706016002 0372860001 0610776002 07...</td>\n",
       "    </tr>\n",
       "    <tr>\n",
       "      <th>1371979</th>\n",
       "      <td>ffffd9ac14e89946416d80e791d064701994755c3ab686...</td>\n",
       "      <td>0706016001 0706016002 0372860001 0610776002 07...</td>\n",
       "    </tr>\n",
       "  </tbody>\n",
       "</table>\n",
       "<p>1371980 rows × 2 columns</p>\n",
       "</div>"
      ],
      "text/plain": [
       "                                               customer_id  \\\n",
       "0        00000dbacae5abe5e23885899a1fa44253a17956c6d1c3...   \n",
       "1        0000423b00ade91418cceaf3b26c6af3dd342b51fd051e...   \n",
       "2        000058a12d5b43e67d225668fa1f8d618c13dc232df0ca...   \n",
       "3        00005ca1c9ed5f5146b52ac8639a40ca9d57aeff4d1bd2...   \n",
       "4        00006413d8573cd20ed7128e53b7b13819fe5cfc2d801f...   \n",
       "...                                                    ...   \n",
       "1371975  ffffbbf78b6eaac697a8a5dfbfd2bfa8113ee5b403e474...   \n",
       "1371976  ffffcd5046a6143d29a04fb8c424ce494a76e5cdf4fab5...   \n",
       "1371977  ffffcf35913a0bee60e8741cb2b4e78b8a98ee5ff2e6a1...   \n",
       "1371978  ffffd7744cebcf3aca44ae7049d2a94b87074c3d4ffe38...   \n",
       "1371979  ffffd9ac14e89946416d80e791d064701994755c3ab686...   \n",
       "\n",
       "                                                prediction  \n",
       "0        0706016001 0706016002 0372860001 0610776002 07...  \n",
       "1        0706016001 0706016002 0372860001 0610776002 07...  \n",
       "2        0706016001 0706016002 0372860001 0610776002 07...  \n",
       "3        0706016001 0706016002 0372860001 0610776002 07...  \n",
       "4        0706016001 0706016002 0372860001 0610776002 07...  \n",
       "...                                                    ...  \n",
       "1371975  0706016001 0706016002 0372860001 0610776002 07...  \n",
       "1371976  0706016001 0706016002 0372860001 0610776002 07...  \n",
       "1371977  0706016001 0706016002 0372860001 0610776002 07...  \n",
       "1371978  0706016001 0706016002 0372860001 0610776002 07...  \n",
       "1371979  0706016001 0706016002 0372860001 0610776002 07...  \n",
       "\n",
       "[1371980 rows x 2 columns]"
      ]
     },
     "execution_count": 110,
     "metadata": {},
     "output_type": "execute_result"
    }
   ],
   "source": [
    "simple = pd.read_csv(\"../input/sample_submission.csv\")\n",
    "simple"
   ]
  },
  {
   "cell_type": "code",
   "execution_count": 108,
   "metadata": {},
   "outputs": [],
   "source": [
    "pred_df.rename({\"article_id\": \"prediction\"}, axis=1).to_csv(\"../output/2.als.csv\", index=False)"
   ]
  },
  {
   "cell_type": "code",
   "execution_count": 71,
   "metadata": {},
   "outputs": [],
   "source": [
    "head_df = predict_df.sort_values(\"predict\", ascending=False).groupby(\"customer_id\").head(5)"
   ]
  },
  {
   "cell_type": "code",
   "execution_count": 75,
   "metadata": {},
   "outputs": [
    {
     "name": "stderr",
     "output_type": "stream",
     "text": [
      "100%|██████████| 760209/760209 [03:07<00:00, 4059.31it/s]\n"
     ]
    }
   ],
   "source": [
    "customer_id_list = []\n",
    "article_id_list = []\n",
    "score_list = []\n",
    "for customer_id in tqdm(transactions_test[\"customer_id\"].tolist()):\n",
    "    items, scores = als.recommend(customer_id, train[customer_id], N=12)\n",
    "    for item, score in zip(items, scores):\n",
    "        customer_id_list.append(customer_id)\n",
    "        article_id_list.append(item)\n",
    "        score_list.append(score)"
   ]
  },
  {
   "cell_type": "code",
   "execution_count": null,
   "metadata": {},
   "outputs": [],
   "source": [
    "transactions_test.customer_id"
   ]
  },
  {
   "cell_type": "code",
   "execution_count": 43,
   "metadata": {},
   "outputs": [],
   "source": [
    "test = predict_df.merge(transactions_test, on=[\"customer_id\", \"article_id\"], how=\"left\").fillna(0)"
   ]
  },
  {
   "cell_type": "code",
   "execution_count": 45,
   "metadata": {},
   "outputs": [
    {
     "data": {
      "text/plain": [
       "1.7328418179391294"
      ]
     },
     "execution_count": 45,
     "metadata": {},
     "output_type": "execute_result"
    }
   ],
   "source": [
    "map_at_k(test, test, \n",
    "         col_user=\"customer_id\", \n",
    "         col_item=\"article_id\", \n",
    "         col_prediction=\"predict\", k=5)"
   ]
  },
  {
   "cell_type": "code",
   "execution_count": 59,
   "metadata": {},
   "outputs": [
    {
     "data": {
      "text/html": [
       "<div>\n",
       "<style scoped>\n",
       "    .dataframe tbody tr th:only-of-type {\n",
       "        vertical-align: middle;\n",
       "    }\n",
       "\n",
       "    .dataframe tbody tr th {\n",
       "        vertical-align: top;\n",
       "    }\n",
       "\n",
       "    .dataframe thead th {\n",
       "        text-align: right;\n",
       "    }\n",
       "</style>\n",
       "<table border=\"1\" class=\"dataframe\">\n",
       "  <thead>\n",
       "    <tr style=\"text-align: right;\">\n",
       "      <th></th>\n",
       "      <th></th>\n",
       "      <th>customer_id</th>\n",
       "      <th>article_id</th>\n",
       "      <th>predict</th>\n",
       "      <th>t_dat</th>\n",
       "      <th>rating</th>\n",
       "    </tr>\n",
       "    <tr>\n",
       "      <th>customer_id</th>\n",
       "      <th></th>\n",
       "      <th></th>\n",
       "      <th></th>\n",
       "      <th></th>\n",
       "      <th></th>\n",
       "      <th></th>\n",
       "    </tr>\n",
       "  </thead>\n",
       "  <tbody>\n",
       "    <tr>\n",
       "      <th rowspan=\"5\" valign=\"top\">2</th>\n",
       "      <th>1300</th>\n",
       "      <td>2</td>\n",
       "      <td>51504</td>\n",
       "      <td>0.229684</td>\n",
       "      <td>0</td>\n",
       "      <td>0.0</td>\n",
       "    </tr>\n",
       "    <tr>\n",
       "      <th>1301</th>\n",
       "      <td>2</td>\n",
       "      <td>24559</td>\n",
       "      <td>0.213531</td>\n",
       "      <td>0</td>\n",
       "      <td>0.0</td>\n",
       "    </tr>\n",
       "    <tr>\n",
       "      <th>1302</th>\n",
       "      <td>2</td>\n",
       "      <td>3592</td>\n",
       "      <td>0.171508</td>\n",
       "      <td>0</td>\n",
       "      <td>0.0</td>\n",
       "    </tr>\n",
       "    <tr>\n",
       "      <th>1303</th>\n",
       "      <td>2</td>\n",
       "      <td>51505</td>\n",
       "      <td>0.110070</td>\n",
       "      <td>0</td>\n",
       "      <td>0.0</td>\n",
       "    </tr>\n",
       "    <tr>\n",
       "      <th>1304</th>\n",
       "      <td>2</td>\n",
       "      <td>89397</td>\n",
       "      <td>0.105147</td>\n",
       "      <td>0</td>\n",
       "      <td>0.0</td>\n",
       "    </tr>\n",
       "  </tbody>\n",
       "</table>\n",
       "</div>"
      ],
      "text/plain": [
       "                  customer_id  article_id   predict t_dat  rating\n",
       "customer_id                                                      \n",
       "2           1300            2       51504  0.229684     0     0.0\n",
       "            1301            2       24559  0.213531     0     0.0\n",
       "            1302            2        3592  0.171508     0     0.0\n",
       "            1303            2       51505  0.110070     0     0.0\n",
       "            1304            2       89397  0.105147     0     0.0"
      ]
     },
     "execution_count": 59,
     "metadata": {},
     "output_type": "execute_result"
    }
   ],
   "source": [
    "(\n",
    "    test[:1000000].groupby(\"customer_id\").apply(lambda x: x.sort_values(by=\"predict\", ascending=False)).head(5)\n",
    ")"
   ]
  },
  {
   "cell_type": "code",
   "execution_count": null,
   "metadata": {},
   "outputs": [],
   "source": []
  }
 ],
 "metadata": {
  "kernelspec": {
   "display_name": "Python 3",
   "language": "python",
   "name": "python3"
  },
  "language_info": {
   "codemirror_mode": {
    "name": "ipython",
    "version": 3
   },
   "file_extension": ".py",
   "mimetype": "text/x-python",
   "name": "python",
   "nbconvert_exporter": "python",
   "pygments_lexer": "ipython3",
   "version": "3.8.10"
  }
 },
 "nbformat": 4,
 "nbformat_minor": 4
}
