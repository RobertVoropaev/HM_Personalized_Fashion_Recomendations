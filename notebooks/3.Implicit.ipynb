{
 "cells": [
  {
   "cell_type": "markdown",
   "metadata": {},
   "source": [
    "# H&M Personalized Fashion Recommendations: 3. Implicit "
   ]
  },
  {
   "cell_type": "code",
   "execution_count": 1,
   "metadata": {},
   "outputs": [
    {
     "name": "stderr",
     "output_type": "stream",
     "text": [
      "INFO:root:test\n"
     ]
    }
   ],
   "source": [
    "import numpy as np\n",
    "import pandas as pd\n",
    "from datetime import datetime, timedelta\n",
    "import seaborn as sns\n",
    "\n",
    "from scipy.sparse import csr_matrix, coo_matrix\n",
    "\n",
    "import torch\n",
    "import implicit\n",
    "from implicit.evaluation import mean_average_precision_at_k\n",
    "\n",
    "from tqdm.notebook import tqdm\n",
    "\n",
    "import logging\n",
    "logging.basicConfig(level=logging.INFO)\n",
    "logging.info(\"test\")\n",
    "\n",
    "import sys\n",
    "sys.path.append(\"..\")\n",
    "from src.utils import *\n",
    "\n",
    "SEED = 1"
   ]
  },
  {
   "cell_type": "markdown",
   "metadata": {},
   "source": [
    "## 1. Download data "
   ]
  },
  {
   "cell_type": "code",
   "execution_count": 2,
   "metadata": {},
   "outputs": [],
   "source": [
    "articles = pd.read_csv(\"../input/articles_proc.csv\", dtype={\"article_id\": str})\n",
    "customers = pd.read_csv(\"../input/customers_proc.csv\")\n",
    "transactions_full = pd.read_csv(\"../input/transactions_full.csv\", \n",
    "                                dtype={\"article_id\": str}, parse_dates=[\"t_dat\"])\n",
    "transactions_train = pd.read_csv(\"../input/transactions_train.csv\", \n",
    "                                 dtype={\"article_id\": str}, parse_dates=[\"t_dat\"])\n",
    "transactions_test = pd.read_csv(\"../input/transactions_test.csv\", \n",
    "                                dtype={\"article_id\": str}, parse_dates=[\"t_dat\"])\n",
    "sample_subm = pd.read_csv(\"../input/sample_submission.csv\")"
   ]
  },
  {
   "cell_type": "markdown",
   "metadata": {},
   "source": [
    "## 2. Make dataset "
   ]
  },
  {
   "cell_type": "code",
   "execution_count": 2,
   "metadata": {},
   "outputs": [],
   "source": [
    "class DatasetMaker:\n",
    "    def __init__(self, \n",
    "                 articles, \n",
    "                 customers):        \n",
    "        self.articles_num2id = dict(enumerate(articles[\"article_id\"].unique()))\n",
    "        self.articles_id2num = {id_: num for num, id_  in self.articles_num2id.items()}\n",
    "\n",
    "        self.customers_num2id = dict(enumerate(customers[\"customer_id\"].unique()))\n",
    "        self.customers_id2num = {id_: num for num, id_ in self.customers_num2id.items()}\n",
    "        \n",
    "        self.data_shape = (customers.shape[0], articles.shape[0])\n",
    "    \n",
    "    def get_coo_matrix(self, data):\n",
    "        data_csr = coo_matrix(\n",
    "            (\n",
    "                np.ones(data.shape[0]), \n",
    "                (\n",
    "                    data[\"customer_id\"].map(self.customers_id2num), \n",
    "                    data[\"article_id\"].map(self.articles_id2num)\n",
    "                )\n",
    "            ),\n",
    "            shape=self.data_shape,\n",
    "            dtype=np.uint8\n",
    "        )\n",
    "        return data_csr\n",
    "        \n",
    "    def split_data(self, data, val_days: int = 7):\n",
    "        val_split_date = data['t_dat'].max() - pd.Timedelta(val_days)\n",
    "        \n",
    "        data_train = data[data['t_dat'] < val_split_date]\n",
    "        data_val = data[data['t_dat'] >= val_split_date]\n",
    "        return data_train, data_val\n",
    "    \n",
    "    def limit_data(self, data, min_days_ago: int = 30, max_days_ago: int = 0):\n",
    "        min_split_date = data['t_dat'].max() - pd.Timedelta(days=min_days_ago)\n",
    "        max_split_date = data['t_dat'].max() - pd.Timedelta(days=max_days_ago)\n",
    "        \n",
    "        return data[data['t_dat'].between(min_split_date, max_split_date)]"
   ]
  },
  {
   "cell_type": "markdown",
   "metadata": {},
   "source": [
    "## 3. Search best params for models"
   ]
  },
  {
   "cell_type": "code",
   "execution_count": 3,
   "metadata": {
    "scrolled": false
   },
   "outputs": [],
   "source": [
    "def find_best_params(Model = implicit.als.AlternatingLeastSquares, \n",
    "                     train_weeks_list = [1, 2, 3, 4, 6, 8, 12, 16, 20], \n",
    "                     factor_list = [3, 30, 300], \n",
    "                     iteration_list = [3, 30, 300], \n",
    "                     regularization_list = [0.01, 0.1, 1.0],\n",
    "                     random_state: int = SEED,\n",
    "                     use_gpu: bool = True,\n",
    "                     print_best: bool = True,\n",
    "                     print_all: bool = False):\n",
    "\n",
    "    best_map_score = 0\n",
    "    for train_weeks in train_weeks_list:\n",
    "        dm = DatasetMaker(articles, customers)\n",
    "        data = dm.limit_data(transactions_full, \n",
    "                             min_days_ago=7 * (1 + train_weeks), \n",
    "                             max_days_ago=0)\n",
    "        train_data, val_data = dm.split_data(data, \n",
    "                                             val_days=7)\n",
    "        train = dm.get_coo_matrix(train_data).tocsr()\n",
    "        val = dm.get_coo_matrix(val_data).tocsr()\n",
    "        for factors in factor_list:\n",
    "            for iterations in iteration_list:\n",
    "                for regularization in regularization_list:\n",
    "                    model = Model(factors=factors, \n",
    "                                  iterations=iterations, \n",
    "                                  regularization=regularization,\n",
    "                                  use_gpu=use_gpu,\n",
    "                                  num_threads=16,\n",
    "                                  random_state=random_state)\n",
    "                    \n",
    "                    params = {\"train_weeks\": train_weeks, \"factors\": factors, \n",
    "                              \"iterations\": iterations, \"regularization\": regularization, \n",
    "                              \"random_state\": random_state}\n",
    "                    try:\n",
    "                        model.fit(train, show_progress=False)\n",
    "                    except:\n",
    "                        print(\"ERROR: \", params)\n",
    "                        torch.cuda.empty_cache()\n",
    "                        del model\n",
    "                        continue\n",
    "                        \n",
    "                    map_score = mean_average_precision_at_k(model, \n",
    "                                                            train, \n",
    "                                                            val, \n",
    "                                                            K=12, \n",
    "                                                            show_progress=False, \n",
    "                                                            num_threads=16)\n",
    "\n",
    "                    \n",
    "                    if print_all:\n",
    "                        print(round(map_score, 4), params)\n",
    "                    \n",
    "                    if map_score > best_map_score:\n",
    "                        best_map_score = map_score\n",
    "                        best_params = params\n",
    "                        if print_best:\n",
    "                            print(\"### \", round(best_map_score, 4), best_params)\n",
    "                    del model\n",
    "                    \n",
    "    return best_map_score, best_params"
   ]
  },
  {
   "cell_type": "code",
   "execution_count": 10,
   "metadata": {},
   "outputs": [
    {
     "name": "stdout",
     "output_type": "stream",
     "text": [
      "##########  als\n",
      "###  0.001 {'train_weeks': 1, 'factors': 3, 'iterations': 3, 'regularization': 0.01, 'random_state': 1}\n",
      "###  0.0013 {'train_weeks': 1, 'factors': 3, 'iterations': 30, 'regularization': 0.01, 'random_state': 1}\n",
      "###  0.0013 {'train_weeks': 1, 'factors': 3, 'iterations': 300, 'regularization': 0.01, 'random_state': 1}\n",
      "###  0.0018 {'train_weeks': 1, 'factors': 30, 'iterations': 3, 'regularization': 0.01, 'random_state': 1}\n",
      "###  0.0021 {'train_weeks': 1, 'factors': 30, 'iterations': 30, 'regularization': 0.01, 'random_state': 1}\n",
      "###  0.0022 {'train_weeks': 1, 'factors': 30, 'iterations': 300, 'regularization': 0.01, 'random_state': 1}\n",
      "###  0.0025 {'train_weeks': 1, 'factors': 300, 'iterations': 3, 'regularization': 0.01, 'random_state': 1}\n",
      "###  0.0026 {'train_weeks': 2, 'factors': 30, 'iterations': 3, 'regularization': 0.01, 'random_state': 1}\n",
      "###  0.0035 {'train_weeks': 2, 'factors': 30, 'iterations': 30, 'regularization': 0.01, 'random_state': 1}\n",
      "###  0.004 {'train_weeks': 3, 'factors': 30, 'iterations': 30, 'regularization': 0.01, 'random_state': 1}\n",
      "###  0.0041 {'train_weeks': 3, 'factors': 30, 'iterations': 300, 'regularization': 0.01, 'random_state': 1}\n",
      "###  0.0041 {'train_weeks': 3, 'factors': 300, 'iterations': 30, 'regularization': 0.01, 'random_state': 1}\n",
      "###  0.0044 {'train_weeks': 4, 'factors': 30, 'iterations': 30, 'regularization': 0.01, 'random_state': 1}\n",
      "###  0.0045 {'train_weeks': 4, 'factors': 30, 'iterations': 300, 'regularization': 0.01, 'random_state': 1}\n",
      "###  0.0045 {'train_weeks': 4, 'factors': 300, 'iterations': 3, 'regularization': 0.01, 'random_state': 1}\n",
      "###  0.0051 {'train_weeks': 6, 'factors': 300, 'iterations': 3, 'regularization': 0.01, 'random_state': 1}\n",
      "###  0.0051 {'train_weeks': 6, 'factors': 300, 'iterations': 30, 'regularization': 0.01, 'random_state': 1}\n",
      "###  0.0052 {'train_weeks': 8, 'factors': 300, 'iterations': 3, 'regularization': 0.01, 'random_state': 1}\n",
      "###  0.0052 {'train_weeks': 8, 'factors': 300, 'iterations': 30, 'regularization': 0.01, 'random_state': 1}\n",
      "######### BEST:  0.005246342786712007 {'train_weeks': 8, 'factors': 300, 'iterations': 30, 'regularization': 0.01, 'random_state': 1}\n",
      "\n",
      "##########  bpr\n",
      "###  0.0004 {'train_weeks': 1, 'factors': 3, 'iterations': 3, 'regularization': 0.01, 'random_state': 1}\n",
      "###  0.0014 {'train_weeks': 1, 'factors': 30, 'iterations': 3, 'regularization': 0.01, 'random_state': 1}\n",
      "###  0.0016 {'train_weeks': 1, 'factors': 30, 'iterations': 300, 'regularization': 0.01, 'random_state': 1}\n",
      "###  0.0023 {'train_weeks': 1, 'factors': 300, 'iterations': 300, 'regularization': 0.01, 'random_state': 1}\n",
      "###  0.0029 {'train_weeks': 2, 'factors': 300, 'iterations': 300, 'regularization': 0.01, 'random_state': 1}\n",
      "###  0.0035 {'train_weeks': 3, 'factors': 300, 'iterations': 300, 'regularization': 0.01, 'random_state': 1}\n",
      "###  0.0036 {'train_weeks': 4, 'factors': 300, 'iterations': 300, 'regularization': 0.01, 'random_state': 1}\n",
      "###  0.0037 {'train_weeks': 6, 'factors': 300, 'iterations': 300, 'regularization': 0.01, 'random_state': 1}\n",
      "###  0.0037 {'train_weeks': 8, 'factors': 300, 'iterations': 300, 'regularization': 0.01, 'random_state': 1}\n",
      "######### BEST:  0.003706636292669735 {'train_weeks': 8, 'factors': 300, 'iterations': 300, 'regularization': 0.01, 'random_state': 1}\n",
      "\n",
      "##########  lmf\n",
      "###  0.0024 {'train_weeks': 1, 'factors': 3, 'iterations': 3, 'regularization': 1.0, 'random_state': 1}\n",
      "###  0.0058 {'train_weeks': 1, 'factors': 3, 'iterations': 30, 'regularization': 1.0, 'random_state': 1}\n",
      "###  0.009 {'train_weeks': 1, 'factors': 3, 'iterations': 300, 'regularization': 1.0, 'random_state': 1}\n",
      "######### BEST:  0.009025576207387526 {'train_weeks': 1, 'factors': 3, 'iterations': 300, 'regularization': 1.0, 'random_state': 1}\n",
      "\n",
      "CPU times: user 1d 5h 2s, sys: 4h 6min 41s, total: 1d 9h 6min 43s\n",
      "Wall time: 3h 6min 37s\n"
     ]
    }
   ],
   "source": [
    "%%time\n",
    "models = {\n",
    "    \"als\": {\n",
    "        \"model\": implicit.als.AlternatingLeastSquares,\n",
    "        \"params\": {\"use_gpu\": True, \"regularization_list\": [0.01]}\n",
    "    },\n",
    "    \"bpr\": {\n",
    "        \"model\": implicit.bpr.BayesianPersonalizedRanking,\n",
    "        \"params\": {\"use_gpu\": True, \"regularization_list\": [0.01]}\n",
    "    },\n",
    "    \"lmf\": {\n",
    "        \"model\": implicit.lmf.LogisticMatrixFactorization,\n",
    "        \"params\": {\"use_gpu\": False, \"regularization_list\": [1.0]}\n",
    "    }\n",
    "}\n",
    "\n",
    "find_result = {}\n",
    "for model_name, model_data in models.items():\n",
    "    print(\"########## \", model_name)\n",
    "    best_map_score, best_params = find_best_params(model_data[\"model\"], **model_data[\"params\"],\n",
    "                                                   print_best=True, print_all=False)\n",
    "    find_result[model_name] = {\"best_map_score\": best_map_score, \"best_params\": best_params}\n",
    "    print(\"######### BEST: \", best_map_score, best_params)\n",
    "    print()"
   ]
  },
  {
   "cell_type": "markdown",
   "metadata": {},
   "source": [
    "### 3. Fine tuning "
   ]
  },
  {
   "cell_type": "code",
   "execution_count": 5,
   "metadata": {},
   "outputs": [],
   "source": [
    "def predict(model, train, dm, batch_size = 100000, cold_start: bool = True):\n",
    "    # predict \n",
    "    user_list = list(range(0, dm.data_shape[0]))\n",
    "    items, scores = [], []\n",
    "    for start_user_num in tqdm(range(0, len(user_list), batch_size)):\n",
    "        user_list_curr = user_list[start_user_num: start_user_num + batch_size]\n",
    "        items_curr, scores_curr = model.recommend(\n",
    "            user_list_curr, \n",
    "            train[user_list_curr], \n",
    "            N=12\n",
    "        )\n",
    "        items.extend(items_curr.tolist())\n",
    "        scores.extend(scores_curr.tolist())\n",
    "\n",
    "    # get popular items for cold start\n",
    "    scores_sum_list = list(map(sum, scores))\n",
    "    popular_items = list(\n",
    "         map(\n",
    "            lambda x: x[0],\n",
    "            sorted(\n",
    "                enumerate(\n",
    "                    train.sum(axis=0).tolist()[0])\n",
    "                ,key=lambda x: -x[1]\n",
    "            )\n",
    "        )\n",
    "    )[:12]\n",
    "    \n",
    "    # create predict dataframe\n",
    "    customer_id_list, articles_pred_list = [], []\n",
    "    for customer_num, articles_num_list in tqdm(enumerate(items)):\n",
    "        if cold_start and (scores_sum_list[customer_num] == 0):\n",
    "            articles_num_list = popular_items\n",
    "        articles_id_list = [dm.articles_num2id[article_num] for article_num in articles_num_list]\n",
    "        articles_pred = \" \".join(articles_id_list)\n",
    "\n",
    "        customer_id_list.append(dm.customers_num2id[customer_num])\n",
    "        articles_pred_list.append(articles_pred)\n",
    "    \n",
    "    predict_df = pd.DataFrame(data={\"customer_id\": customer_id_list, \n",
    "                                    \"prediction\": articles_pred_list})\n",
    "    return predict_df"
   ]
  },
  {
   "cell_type": "markdown",
   "metadata": {},
   "source": [
    "### Als"
   ]
  },
  {
   "cell_type": "code",
   "execution_count": 5,
   "metadata": {},
   "outputs": [
    {
     "name": "stdout",
     "output_type": "stream",
     "text": [
      "###  0.0052 {'train_weeks': 7, 'factors': 150, 'iterations': 4, 'regularization': 0.01, 'random_state': 1}\n",
      "###  0.0054 {'train_weeks': 7, 'factors': 150, 'iterations': 5, 'regularization': 0.01, 'random_state': 1}\n",
      "###  0.0054 {'train_weeks': 7, 'factors': 150, 'iterations': 6, 'regularization': 0.01, 'random_state': 1}\n",
      "###  0.0055 {'train_weeks': 7, 'factors': 200, 'iterations': 4, 'regularization': 0.01, 'random_state': 1}\n",
      "###  0.0055 {'train_weeks': 7, 'factors': 200, 'iterations': 5, 'regularization': 0.01, 'random_state': 1}\n",
      "###  0.0055 {'train_weeks': 7, 'factors': 200, 'iterations': 6, 'regularization': 0.01, 'random_state': 1}\n",
      "###  0.0056 {'train_weeks': 8, 'factors': 200, 'iterations': 5, 'regularization': 0.01, 'random_state': 1}\n",
      "ERROR:  {'train_weeks': 9, 'factors': 250, 'iterations': 6, 'regularization': 0.01, 'random_state': 1}\n",
      "CPU times: user 32.4 s, sys: 992 ms, total: 33.4 s\n",
      "Wall time: 33.7 s\n"
     ]
    },
    {
     "data": {
      "text/plain": [
       "(0.0056160049381765815,\n",
       " {'train_weeks': 8,\n",
       "  'factors': 200,\n",
       "  'iterations': 5,\n",
       "  'regularization': 0.01,\n",
       "  'random_state': 1})"
      ]
     },
     "execution_count": 5,
     "metadata": {},
     "output_type": "execute_result"
    }
   ],
   "source": [
    "%%time\n",
    "find_best_params(\n",
    "    implicit.als.AlternatingLeastSquares, \n",
    "    regularization_list=[0.01], \n",
    "    train_weeks_list=[7, 8, 9],\n",
    "    factor_list=[150, 200, 250],\n",
    "    iteration_list=[4, 5, 6],\n",
    "    use_gpu=True,\n",
    "    print_best=True, print_all=False)"
   ]
  },
  {
   "cell_type": "code",
   "execution_count": 67,
   "metadata": {},
   "outputs": [
    {
     "data": {
      "application/vnd.jupyter.widget-view+json": {
       "model_id": "1efc058875be46348cf9316a7c4feb40",
       "version_major": 2,
       "version_minor": 0
      },
      "text/plain": [
       "HBox(children=(FloatProgress(value=0.0, max=5.0), HTML(value='')))"
      ]
     },
     "metadata": {},
     "output_type": "display_data"
    },
    {
     "name": "stdout",
     "output_type": "stream",
     "text": [
      "\n"
     ]
    }
   ],
   "source": [
    "train_weeks = 8\n",
    "factors = 200\n",
    "iterations = 5\n",
    "regularization = 0.01\n",
    "random_state = 1\n",
    "\n",
    "dm = DatasetMaker(articles, customers)\n",
    "data = dm.limit_data(transactions_full, \n",
    "                     min_days_ago=7 * (train_weeks), \n",
    "                     max_days_ago=0)\n",
    "train = dm.get_coo_matrix(data).tocsr()\n",
    "\n",
    "best_als = implicit.als.AlternatingLeastSquares(\n",
    "    factors=factors, \n",
    "    iterations=iterations, \n",
    "    regularization=regularization,\n",
    "    use_gpu=True,\n",
    "    num_threads=16,\n",
    "    random_state=1\n",
    ")\n",
    "\n",
    "best_als.fit(train, show_progress=True)"
   ]
  },
  {
   "cell_type": "code",
   "execution_count": 68,
   "metadata": {},
   "outputs": [
    {
     "data": {
      "application/vnd.jupyter.widget-view+json": {
       "model_id": "a89e70d6127043d5aef92b67c19e84f1",
       "version_major": 2,
       "version_minor": 0
      },
      "text/plain": [
       "HBox(children=(FloatProgress(value=0.0, max=14.0), HTML(value='')))"
      ]
     },
     "metadata": {},
     "output_type": "display_data"
    },
    {
     "name": "stdout",
     "output_type": "stream",
     "text": [
      "\n"
     ]
    },
    {
     "data": {
      "application/vnd.jupyter.widget-view+json": {
       "model_id": "a79f31910b334a8781184a3fff938b4f",
       "version_major": 2,
       "version_minor": 0
      },
      "text/plain": [
       "HBox(children=(FloatProgress(value=1.0, bar_style='info', max=1.0), HTML(value='')))"
      ]
     },
     "metadata": {},
     "output_type": "display_data"
    },
    {
     "name": "stdout",
     "output_type": "stream",
     "text": [
      "\n"
     ]
    }
   ],
   "source": [
    "als_df = predict(best_als, train, dm, cold_start=True)\n",
    "als_df.to_csv(\"../output/13.als_best_cs.csv\", index=False, header=True)"
   ]
  },
  {
   "cell_type": "markdown",
   "metadata": {},
   "source": [
    "### Bpr "
   ]
  },
  {
   "cell_type": "code",
   "execution_count": null,
   "metadata": {},
   "outputs": [],
   "source": [
    "%%time\n",
    "find_best_params(\n",
    "    implicit.bpr.BayesianPersonalizedRanking, \n",
    "    regularization_list=[0.01], \n",
    "    train_weeks_list=[8],\n",
    "    factor_list=[400, 500, 600],\n",
    "    iteration_list=[2000, 2500, 3000],\n",
    "    use_gpu=True,\n",
    "    print_best=True, print_all=False)"
   ]
  },
  {
   "cell_type": "code",
   "execution_count": 6,
   "metadata": {},
   "outputs": [
    {
     "data": {
      "application/vnd.jupyter.widget-view+json": {
       "model_id": "0b9220709d7840748136936039302f19",
       "version_major": 2,
       "version_minor": 0
      },
      "text/plain": [
       "HBox(children=(FloatProgress(value=0.0, max=2500.0), HTML(value='')))"
      ]
     },
     "metadata": {},
     "output_type": "display_data"
    },
    {
     "name": "stdout",
     "output_type": "stream",
     "text": [
      "\n"
     ]
    }
   ],
   "source": [
    "train_weeks = 8\n",
    "factors = 500\n",
    "iterations = 2500\n",
    "regularization = 0.01\n",
    "random_state = 1\n",
    "\n",
    "dm = DatasetMaker(articles, customers)\n",
    "data = dm.limit_data(transactions_full, \n",
    "                     min_days_ago=7 * train_weeks, \n",
    "                     max_days_ago=0)\n",
    "train = dm.get_coo_matrix(data).tocsr()\n",
    "\n",
    "best_bpr = implicit.bpr.BayesianPersonalizedRanking(\n",
    "    factors=factors, \n",
    "    iterations=iterations, \n",
    "    regularization=regularization,\n",
    "    use_gpu=True,\n",
    "    num_threads=16,\n",
    "    random_state=1\n",
    ")\n",
    "\n",
    "best_bpr.fit(train, show_progress=True)"
   ]
  },
  {
   "cell_type": "code",
   "execution_count": 8,
   "metadata": {},
   "outputs": [
    {
     "data": {
      "application/vnd.jupyter.widget-view+json": {
       "model_id": "409ed44217db4fdea9e3fda3f413423f",
       "version_major": 2,
       "version_minor": 0
      },
      "text/plain": [
       "HBox(children=(FloatProgress(value=0.0, max=14.0), HTML(value='')))"
      ]
     },
     "metadata": {},
     "output_type": "display_data"
    },
    {
     "name": "stdout",
     "output_type": "stream",
     "text": [
      "\n"
     ]
    },
    {
     "data": {
      "application/vnd.jupyter.widget-view+json": {
       "model_id": "e63609bf5bc64165b68636562954a97f",
       "version_major": 2,
       "version_minor": 0
      },
      "text/plain": [
       "HBox(children=(FloatProgress(value=1.0, bar_style='info', max=1.0), HTML(value='')))"
      ]
     },
     "metadata": {},
     "output_type": "display_data"
    },
    {
     "name": "stdout",
     "output_type": "stream",
     "text": [
      "\n"
     ]
    }
   ],
   "source": [
    "bpr_df = predict(best_bpr, train, dm, cold_start=True)\n",
    "bpr_df.to_csv(\"../output/14.bpr_best_cs.csv\", index=False, header=True)"
   ]
  },
  {
   "cell_type": "markdown",
   "metadata": {},
   "source": [
    "### Lmf "
   ]
  },
  {
   "cell_type": "code",
   "execution_count": null,
   "metadata": {},
   "outputs": [],
   "source": [
    "%%time\n",
    "find_best_params(\n",
    "    implicit.lmf.LogisticMatrixFactorization, \n",
    "    regularization_list=[1.0], \n",
    "    train_weeks_list=[1],\n",
    "    factor_list=[2, 3, 4],\n",
    "    iteration_list=[300, 350, 400],\n",
    "    use_gpu=False,\n",
    "    print_best=True, print_all=False)"
   ]
  },
  {
   "cell_type": "code",
   "execution_count": 9,
   "metadata": {},
   "outputs": [
    {
     "data": {
      "application/vnd.jupyter.widget-view+json": {
       "model_id": "a0a16d0484a94940b8011849dca740a8",
       "version_major": 2,
       "version_minor": 0
      },
      "text/plain": [
       "HBox(children=(FloatProgress(value=0.0, max=350.0), HTML(value='')))"
      ]
     },
     "metadata": {},
     "output_type": "display_data"
    },
    {
     "name": "stdout",
     "output_type": "stream",
     "text": [
      "\n"
     ]
    }
   ],
   "source": [
    "train_weeks = 1\n",
    "factors = 3\n",
    "iterations = 350\n",
    "regularization = 1.0\n",
    "random_state = 1\n",
    "\n",
    "dm = DatasetMaker(articles, customers)\n",
    "data = dm.limit_data(transactions_full, \n",
    "                     min_days_ago=7 * (train_weeks), \n",
    "                     max_days_ago=0)\n",
    "train = dm.get_coo_matrix(data).tocsr()\n",
    "\n",
    "best_lmf = implicit.lmf.LogisticMatrixFactorization(\n",
    "    factors=factors, \n",
    "    iterations=iterations, \n",
    "    regularization=regularization,\n",
    "    use_gpu=False,\n",
    "    num_threads=16,\n",
    "    random_state=1\n",
    ")\n",
    "\n",
    "best_lmf.fit(train, show_progress=True)"
   ]
  },
  {
   "cell_type": "code",
   "execution_count": 10,
   "metadata": {},
   "outputs": [
    {
     "data": {
      "application/vnd.jupyter.widget-view+json": {
       "model_id": "40e52d1dd7c342ff9c128bd5cf4d9fed",
       "version_major": 2,
       "version_minor": 0
      },
      "text/plain": [
       "HBox(children=(FloatProgress(value=0.0, max=14.0), HTML(value='')))"
      ]
     },
     "metadata": {},
     "output_type": "display_data"
    },
    {
     "name": "stdout",
     "output_type": "stream",
     "text": [
      "\n"
     ]
    },
    {
     "data": {
      "application/vnd.jupyter.widget-view+json": {
       "model_id": "cef918f932e5451abd3a9b48b1c4a6d2",
       "version_major": 2,
       "version_minor": 0
      },
      "text/plain": [
       "HBox(children=(FloatProgress(value=1.0, bar_style='info', max=1.0), HTML(value='')))"
      ]
     },
     "metadata": {},
     "output_type": "display_data"
    },
    {
     "name": "stdout",
     "output_type": "stream",
     "text": [
      "\n"
     ]
    }
   ],
   "source": [
    "lmf_df = predict(best_lmf, train, dm, cold_start=True)\n",
    "lmf_df.to_csv(\"../output/15.lmf_best_cs.csv\", index=False, header=True)"
   ]
  },
  {
   "cell_type": "markdown",
   "metadata": {},
   "source": [
    "## Ансамбль"
   ]
  },
  {
   "cell_type": "code",
   "execution_count": 4,
   "metadata": {},
   "outputs": [],
   "source": [
    "pop_df = pd.read_csv(\"../output/4.top_1w.csv\")\n",
    "als_df = pd.read_csv(\"../output/13.als_best_cs.csv\")\n",
    "bpr_df = pd.read_csv(\"../output/14.bpr_best_cs.csv\")\n",
    "lmf_df = pd.read_csv(\"../output/15.lmf_best_cs.csv\")"
   ]
  },
  {
   "cell_type": "code",
   "execution_count": 5,
   "metadata": {},
   "outputs": [
    {
     "data": {
      "text/html": [
       "<div>\n",
       "<style scoped>\n",
       "    .dataframe tbody tr th:only-of-type {\n",
       "        vertical-align: middle;\n",
       "    }\n",
       "\n",
       "    .dataframe tbody tr th {\n",
       "        vertical-align: top;\n",
       "    }\n",
       "\n",
       "    .dataframe thead th {\n",
       "        text-align: right;\n",
       "    }\n",
       "</style>\n",
       "<table border=\"1\" class=\"dataframe\">\n",
       "  <thead>\n",
       "    <tr style=\"text-align: right;\">\n",
       "      <th></th>\n",
       "      <th>customer_id</th>\n",
       "      <th>popular_prediction</th>\n",
       "      <th>als_prediction</th>\n",
       "      <th>bpr_prediction</th>\n",
       "      <th>lmf_prediction</th>\n",
       "    </tr>\n",
       "  </thead>\n",
       "  <tbody>\n",
       "    <tr>\n",
       "      <th>0</th>\n",
       "      <td>00000dbacae5abe5e23885899a1fa44253a17956c6d1c3...</td>\n",
       "      <td>0924243001 0924243002 0918522001 0923758001 08...</td>\n",
       "      <td>0762846031 0568601006 0568601044 0568601007 05...</td>\n",
       "      <td>0858856005 0779781015 0716670009 0810591002 05...</td>\n",
       "      <td>0924243001 0918522001 0924243002 0909370001 09...</td>\n",
       "    </tr>\n",
       "    <tr>\n",
       "      <th>1</th>\n",
       "      <td>0000423b00ade91418cceaf3b26c6af3dd342b51fd051e...</td>\n",
       "      <td>0924243001 0924243002 0918522001 0923758001 08...</td>\n",
       "      <td>0751471001 0706016001 0918292001 0448509014 09...</td>\n",
       "      <td>0890116001 0804472003 0855098001 0858082001 07...</td>\n",
       "      <td>0924243001 0918522001 0924243002 0909370001 09...</td>\n",
       "    </tr>\n",
       "    <tr>\n",
       "      <th>2</th>\n",
       "      <td>000058a12d5b43e67d225668fa1f8d618c13dc232df0ca...</td>\n",
       "      <td>0924243001 0924243002 0918522001 0923758001 08...</td>\n",
       "      <td>0805000001 0794321011 0791587001 0791587015 07...</td>\n",
       "      <td>0794321011 0224521007 0805000001 0805000007 08...</td>\n",
       "      <td>0924243001 0918522001 0866731001 0924243002 09...</td>\n",
       "    </tr>\n",
       "    <tr>\n",
       "      <th>3</th>\n",
       "      <td>00005ca1c9ed5f5146b52ac8639a40ca9d57aeff4d1bd2...</td>\n",
       "      <td>0924243001 0924243002 0918522001 0923758001 08...</td>\n",
       "      <td>0751471001 0706016001 0918292001 0448509014 09...</td>\n",
       "      <td>0890116001 0804472003 0855098001 0858082001 07...</td>\n",
       "      <td>0924243001 0918522001 0924243002 0909370001 09...</td>\n",
       "    </tr>\n",
       "    <tr>\n",
       "      <th>4</th>\n",
       "      <td>00006413d8573cd20ed7128e53b7b13819fe5cfc2d801f...</td>\n",
       "      <td>0924243001 0924243002 0918522001 0923758001 08...</td>\n",
       "      <td>0791587018 0791587001 0809961007 0791587009 07...</td>\n",
       "      <td>0791587009 0791587018 0791587001 0927530006 08...</td>\n",
       "      <td>0924243001 0918522001 0924243002 0909370001 09...</td>\n",
       "    </tr>\n",
       "    <tr>\n",
       "      <th>...</th>\n",
       "      <td>...</td>\n",
       "      <td>...</td>\n",
       "      <td>...</td>\n",
       "      <td>...</td>\n",
       "      <td>...</td>\n",
       "    </tr>\n",
       "    <tr>\n",
       "      <th>1371975</th>\n",
       "      <td>ffffbbf78b6eaac697a8a5dfbfd2bfa8113ee5b403e474...</td>\n",
       "      <td>0924243001 0924243002 0918522001 0923758001 08...</td>\n",
       "      <td>0822311001 0860797001 0887681003 0858147001 08...</td>\n",
       "      <td>0822311001 0822344009 0822344012 0791587010 07...</td>\n",
       "      <td>0924243001 0918522001 0924243002 0909370001 09...</td>\n",
       "    </tr>\n",
       "    <tr>\n",
       "      <th>1371976</th>\n",
       "      <td>ffffcd5046a6143d29a04fb8c424ce494a76e5cdf4fab5...</td>\n",
       "      <td>0924243001 0924243002 0918522001 0923758001 08...</td>\n",
       "      <td>0762846026 0889460003 0762846027 0759871002 07...</td>\n",
       "      <td>0759871011 0759871037 0759871034 0877777002 04...</td>\n",
       "      <td>0924243001 0918522001 0924243002 0909370001 09...</td>\n",
       "    </tr>\n",
       "    <tr>\n",
       "      <th>1371977</th>\n",
       "      <td>ffffcf35913a0bee60e8741cb2b4e78b8a98ee5ff2e6a1...</td>\n",
       "      <td>0924243001 0924243002 0918522001 0923758001 08...</td>\n",
       "      <td>0762846026 0762846031 0719655001 0715624010 07...</td>\n",
       "      <td>0508691005 0635346001 0762846031 0629551003 06...</td>\n",
       "      <td>0924243001 0918522001 0924243002 0909370001 09...</td>\n",
       "    </tr>\n",
       "    <tr>\n",
       "      <th>1371978</th>\n",
       "      <td>ffffd7744cebcf3aca44ae7049d2a94b87074c3d4ffe38...</td>\n",
       "      <td>0924243001 0924243002 0918522001 0923758001 08...</td>\n",
       "      <td>0751471001 0706016001 0918292001 0448509014 09...</td>\n",
       "      <td>0890116001 0804472003 0855098001 0858082001 07...</td>\n",
       "      <td>0924243001 0918522001 0924243002 0909370001 09...</td>\n",
       "    </tr>\n",
       "    <tr>\n",
       "      <th>1371979</th>\n",
       "      <td>ffffd9ac14e89946416d80e791d064701994755c3ab686...</td>\n",
       "      <td>0924243001 0924243002 0918522001 0923758001 08...</td>\n",
       "      <td>0751471001 0706016001 0918292001 0448509014 09...</td>\n",
       "      <td>0890116001 0804472003 0855098001 0858082001 07...</td>\n",
       "      <td>0924243001 0918522001 0924243002 0909370001 09...</td>\n",
       "    </tr>\n",
       "  </tbody>\n",
       "</table>\n",
       "<p>1371980 rows × 5 columns</p>\n",
       "</div>"
      ],
      "text/plain": [
       "                                               customer_id  \\\n",
       "0        00000dbacae5abe5e23885899a1fa44253a17956c6d1c3...   \n",
       "1        0000423b00ade91418cceaf3b26c6af3dd342b51fd051e...   \n",
       "2        000058a12d5b43e67d225668fa1f8d618c13dc232df0ca...   \n",
       "3        00005ca1c9ed5f5146b52ac8639a40ca9d57aeff4d1bd2...   \n",
       "4        00006413d8573cd20ed7128e53b7b13819fe5cfc2d801f...   \n",
       "...                                                    ...   \n",
       "1371975  ffffbbf78b6eaac697a8a5dfbfd2bfa8113ee5b403e474...   \n",
       "1371976  ffffcd5046a6143d29a04fb8c424ce494a76e5cdf4fab5...   \n",
       "1371977  ffffcf35913a0bee60e8741cb2b4e78b8a98ee5ff2e6a1...   \n",
       "1371978  ffffd7744cebcf3aca44ae7049d2a94b87074c3d4ffe38...   \n",
       "1371979  ffffd9ac14e89946416d80e791d064701994755c3ab686...   \n",
       "\n",
       "                                        popular_prediction  \\\n",
       "0        0924243001 0924243002 0918522001 0923758001 08...   \n",
       "1        0924243001 0924243002 0918522001 0923758001 08...   \n",
       "2        0924243001 0924243002 0918522001 0923758001 08...   \n",
       "3        0924243001 0924243002 0918522001 0923758001 08...   \n",
       "4        0924243001 0924243002 0918522001 0923758001 08...   \n",
       "...                                                    ...   \n",
       "1371975  0924243001 0924243002 0918522001 0923758001 08...   \n",
       "1371976  0924243001 0924243002 0918522001 0923758001 08...   \n",
       "1371977  0924243001 0924243002 0918522001 0923758001 08...   \n",
       "1371978  0924243001 0924243002 0918522001 0923758001 08...   \n",
       "1371979  0924243001 0924243002 0918522001 0923758001 08...   \n",
       "\n",
       "                                            als_prediction  \\\n",
       "0        0762846031 0568601006 0568601044 0568601007 05...   \n",
       "1        0751471001 0706016001 0918292001 0448509014 09...   \n",
       "2        0805000001 0794321011 0791587001 0791587015 07...   \n",
       "3        0751471001 0706016001 0918292001 0448509014 09...   \n",
       "4        0791587018 0791587001 0809961007 0791587009 07...   \n",
       "...                                                    ...   \n",
       "1371975  0822311001 0860797001 0887681003 0858147001 08...   \n",
       "1371976  0762846026 0889460003 0762846027 0759871002 07...   \n",
       "1371977  0762846026 0762846031 0719655001 0715624010 07...   \n",
       "1371978  0751471001 0706016001 0918292001 0448509014 09...   \n",
       "1371979  0751471001 0706016001 0918292001 0448509014 09...   \n",
       "\n",
       "                                            bpr_prediction  \\\n",
       "0        0858856005 0779781015 0716670009 0810591002 05...   \n",
       "1        0890116001 0804472003 0855098001 0858082001 07...   \n",
       "2        0794321011 0224521007 0805000001 0805000007 08...   \n",
       "3        0890116001 0804472003 0855098001 0858082001 07...   \n",
       "4        0791587009 0791587018 0791587001 0927530006 08...   \n",
       "...                                                    ...   \n",
       "1371975  0822311001 0822344009 0822344012 0791587010 07...   \n",
       "1371976  0759871011 0759871037 0759871034 0877777002 04...   \n",
       "1371977  0508691005 0635346001 0762846031 0629551003 06...   \n",
       "1371978  0890116001 0804472003 0855098001 0858082001 07...   \n",
       "1371979  0890116001 0804472003 0855098001 0858082001 07...   \n",
       "\n",
       "                                            lmf_prediction  \n",
       "0        0924243001 0918522001 0924243002 0909370001 09...  \n",
       "1        0924243001 0918522001 0924243002 0909370001 09...  \n",
       "2        0924243001 0918522001 0866731001 0924243002 09...  \n",
       "3        0924243001 0918522001 0924243002 0909370001 09...  \n",
       "4        0924243001 0918522001 0924243002 0909370001 09...  \n",
       "...                                                    ...  \n",
       "1371975  0924243001 0918522001 0924243002 0909370001 09...  \n",
       "1371976  0924243001 0918522001 0924243002 0909370001 09...  \n",
       "1371977  0924243001 0918522001 0924243002 0909370001 09...  \n",
       "1371978  0924243001 0918522001 0924243002 0909370001 09...  \n",
       "1371979  0924243001 0918522001 0924243002 0909370001 09...  \n",
       "\n",
       "[1371980 rows x 5 columns]"
      ]
     },
     "execution_count": 5,
     "metadata": {},
     "output_type": "execute_result"
    }
   ],
   "source": [
    "sub = (\n",
    "    pop_df.rename({\"prediction\": \"popular_prediction\"}, axis=1)\n",
    "        .merge(als_df.rename({\"prediction\": \"als_prediction\"}, axis=1), on=\"customer_id\", how=\"inner\")\n",
    "        .merge(bpr_df.rename({\"prediction\": \"bpr_prediction\"}, axis=1), on=\"customer_id\", how=\"inner\")\n",
    "        .merge(lmf_df.rename({\"prediction\": \"lmf_prediction\"}, axis=1), on=\"customer_id\", how=\"inner\")\n",
    ")\n",
    "sub"
   ]
  },
  {
   "cell_type": "code",
   "execution_count": 6,
   "metadata": {},
   "outputs": [],
   "source": [
    "from collections import Counter\n",
    "\n",
    "def merge_predictins(sub, weight: dict = None):\n",
    "    all_counter = None\n",
    "    sub = sub.set_index(\"customer_id\")\n",
    "    for col in tqdm(sub.columns):\n",
    "        model_counter = sub[col].str.split(\" \").apply(Counter)\n",
    "        model_name = col.replace(\"_prediction\", \"\")\n",
    "\n",
    "        def mult_counter(counter, w):\n",
    "            counter = counter.copy()\n",
    "            for key in counter.keys():\n",
    "                counter[key] *= w\n",
    "            return counter\n",
    "        \n",
    "        if weight is None:\n",
    "            w = 1\n",
    "        else:\n",
    "            w = weight[model_name]\n",
    "        model_counter = model_counter.apply(lambda x: mult_counter(x, w))\n",
    "\n",
    "        all_counter = all_counter + model_counter if all_counter is not None else model_counter\n",
    "    top_list = all_counter.apply(lambda x: list(dict(sorted(x.items(), key=lambda x: -x[1])).keys())[:12])\n",
    "    top_str = top_list.apply(lambda x: \" \".join(x))\n",
    "    sub_merged = top_str.reset_index()\n",
    "    sub_merged.columns = ['customer_id', \"prediction\"]\n",
    "    return sub_merged"
   ]
  },
  {
   "cell_type": "code",
   "execution_count": 7,
   "metadata": {},
   "outputs": [
    {
     "data": {
      "application/vnd.jupyter.widget-view+json": {
       "model_id": "2e14192d24554d51a1327ddd604aeb68",
       "version_major": 2,
       "version_minor": 0
      },
      "text/plain": [
       "HBox(children=(FloatProgress(value=0.0, max=4.0), HTML(value='')))"
      ]
     },
     "metadata": {},
     "output_type": "display_data"
    },
    {
     "name": "stdout",
     "output_type": "stream",
     "text": [
      "\n"
     ]
    }
   ],
   "source": [
    "sub_merged = merge_predictins(sub, weight = {\"popular\": 0.0071, \"als\": 0.0072, \"bpr\": 0.0051, \"lmf\": 0.0069})\n",
    "sub_merged.to_csv(\"../output/16.pop_als_bpr_lmf_cs_weighed.csv\", index=False, header=True)"
   ]
  },
  {
   "cell_type": "code",
   "execution_count": 42,
   "metadata": {},
   "outputs": [
    {
     "data": {
      "application/vnd.jupyter.widget-view+json": {
       "model_id": "6de60a0e097a424d9171ad421b293431",
       "version_major": 2,
       "version_minor": 0
      },
      "text/plain": [
       "HBox(children=(FloatProgress(value=0.0, max=4.0), HTML(value='')))"
      ]
     },
     "metadata": {},
     "output_type": "display_data"
    },
    {
     "name": "stdout",
     "output_type": "stream",
     "text": [
      "\n"
     ]
    }
   ],
   "source": [
    "sub_merged = merge_predictins(sub, weight = {\"popular\": 1, \"als\": 1, \"bpr\": 1, \"lmf\": 1})\n",
    "sub_merged.to_csv(\"../output/12.pop_als_bpr_lmf.csv\", index=False, header=True)"
   ]
  }
 ],
 "metadata": {
  "kernelspec": {
   "display_name": "Python 3",
   "language": "python",
   "name": "python3"
  },
  "language_info": {
   "codemirror_mode": {
    "name": "ipython",
    "version": 3
   },
   "file_extension": ".py",
   "mimetype": "text/x-python",
   "name": "python",
   "nbconvert_exporter": "python",
   "pygments_lexer": "ipython3",
   "version": "3.8.10"
  }
 },
 "nbformat": 4,
 "nbformat_minor": 4
}
