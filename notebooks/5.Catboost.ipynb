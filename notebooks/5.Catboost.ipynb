{
 "cells": [
  {
   "cell_type": "code",
   "execution_count": 4,
   "metadata": {},
   "outputs": [
    {
     "name": "stdout",
     "output_type": "stream",
     "text": [
      "INFO: Pandarallel will run on 8 workers.\n",
      "INFO: Pandarallel will use standard multiprocessing data transfer (pipe) to transfer data between the main process and workers.\n"
     ]
    }
   ],
   "source": [
    "from math import sqrt\n",
    "import pandas as pd\n",
    "import numpy as np\n",
    "\n",
    "from pathlib import Path\n",
    "from collections import defaultdict\n",
    "\n",
    "from tqdm import tqdm\n",
    "from pandarallel import pandarallel\n",
    "\n",
    "from scipy.sparse import csr_matrix, coo_matrix\n",
    "import implicit\n",
    "\n",
    "import sys\n",
    "sys.path.append(\"..\")\n",
    "from src.utils import *\n",
    "from src.dataset import *\n",
    "from src.trending import *\n",
    "\n",
    "pd.set_option('display.max_colwidth', 255)\n",
    "tqdm.pandas()\n",
    "pandarallel.initialize(progress_bar=True, nb_workers=8, use_memory_fs=False)"
   ]
  },
  {
   "cell_type": "code",
   "execution_count": 5,
   "metadata": {},
   "outputs": [],
   "source": [
    "SEED = 1\n",
    "N = 12\n",
    "TEST_ON = 1\n",
    "\n",
    "min_w1_count_for_actual_article = 10\n",
    "similar_count_for_article = 10\n",
    "purchase_value_limit = 3000\n",
    "\n",
    "cv_iteration = 0"
   ]
  },
  {
   "cell_type": "code",
   "execution_count": 6,
   "metadata": {},
   "outputs": [
    {
     "name": "stdout",
     "output_type": "stream",
     "text": [
      "Dataset created\n"
     ]
    }
   ],
   "source": [
    "dataset = Dataset(skip_days=7 * cv_iteration, test_days=7 * TEST_ON)\n",
    "train, test = dataset.get_train_and_test()\n",
    "articles = dataset.get_articles()\n",
    "customers = dataset.get_customers()\n",
    "print(\"Dataset created\")"
   ]
  },
  {
   "cell_type": "code",
   "execution_count": 7,
   "metadata": {},
   "outputs": [
    {
     "data": {
      "application/vnd.jupyter.widget-view+json": {
       "model_id": "3d84d3caac3841e497e0000fcd3f35c6",
       "version_major": 2,
       "version_minor": 0
      },
      "text/plain": [
       "VBox(children=(HBox(children=(IntProgress(value=0, description='0.00%', max=3943502), Label(value='0 / 3943502…"
      ]
     },
     "metadata": {},
     "output_type": "display_data"
    },
    {
     "name": "stderr",
     "output_type": "stream",
     "text": [
      "/home/rv/projects/HM_Personalized_Fashion_Recomendations/notebooks/../src/trending.py:25: SettingWithCopyWarning: \n",
      "A value is trying to be set on a copy of a slice from a DataFrame.\n",
      "Try using .loc[row_indexer,col_indexer] = value instead\n",
      "\n",
      "See the caveats in the documentation: https://pandas.pydata.org/pandas-docs/stable/user_guide/indexing.html#returning-a-view-versus-a-copy\n",
      "  df['ldbw'] = df['t_dat'].parallel_apply(lambda d: last_ts - (last_ts - d).floor('7D'))\n"
     ]
    },
    {
     "data": {
      "application/vnd.jupyter.widget-view+json": {
       "model_id": "e61689e69d284da59992df457aa91420",
       "version_major": 2,
       "version_minor": 0
      },
      "text/plain": [
       "VBox(children=(HBox(children=(IntProgress(value=0, description='0.00%', max=3943502), Label(value='0 / 3943502…"
      ]
     },
     "metadata": {},
     "output_type": "display_data"
    },
    {
     "name": "stderr",
     "output_type": "stream",
     "text": [
      "100%|██████████| 27101148/27101148 [00:14<00:00, 1838901.56it/s]"
     ]
    },
    {
     "name": "stdout",
     "output_type": "stream",
     "text": [
      "Get purchase dict\n"
     ]
    },
    {
     "name": "stderr",
     "output_type": "stream",
     "text": [
      "\n"
     ]
    }
   ],
   "source": [
    "train = add_quotient(train=train)\n",
    "purchase_dict = get_purchase_dict(df=train)\n",
    "print(\"Get purchase dict\")"
   ]
  },
  {
   "cell_type": "code",
   "execution_count": 9,
   "metadata": {},
   "outputs": [
    {
     "name": "stderr",
     "output_type": "stream",
     "text": [
      "100%|██████████| 5/5 [00:02<00:00,  2.06it/s]"
     ]
    },
    {
     "name": "stdout",
     "output_type": "stream",
     "text": [
      "Get popular dict\n"
     ]
    },
    {
     "name": "stderr",
     "output_type": "stream",
     "text": [
      "\n"
     ]
    }
   ],
   "source": [
    "group_popular_dict = get_group_popular_dict(df=train, customers=customers)\n",
    "print(\"Get popular dict\")"
   ]
  },
  {
   "cell_type": "code",
   "execution_count": 13,
   "metadata": {},
   "outputs": [
    {
     "data": {
      "application/vnd.jupyter.widget-view+json": {
       "model_id": "df8c8502f2dc4002ad233d23b85716fd",
       "version_major": 2,
       "version_minor": 0
      },
      "text/plain": [
       "  0%|          | 0/5 [00:00<?, ?it/s]"
      ]
     },
     "metadata": {},
     "output_type": "display_data"
    },
    {
     "name": "stderr",
     "output_type": "stream",
     "text": [
      "100%|██████████| 105542/105542 [00:42<00:00, 2474.97it/s]\n"
     ]
    },
    {
     "name": "stdout",
     "output_type": "stream",
     "text": [
      "Get similar articles\n"
     ]
    }
   ],
   "source": [
    "similar_article_dict = get_similar_items(\n",
    "    train=train, \n",
    "    articles=articles, \n",
    "    customers=customers,\n",
    "    min_w1_count_for_actual_article = min_w1_count_for_actual_article, \n",
    "    similar_num_for_article = similar_count_for_article\n",
    ")\n",
    "print(\"Get similar articles\")"
   ]
  },
  {
   "cell_type": "code",
   "execution_count": 28,
   "metadata": {},
   "outputs": [],
   "source": [
    "with open(\"../input/purchase_dict_v1.pickle\", \"wb\") as f:\n",
    "    pickle.dump(purchase_dict, f)\n",
    "    \n",
    "with open(\"../input/similar_article_dict_v1.pickle\", \"wb\") as f:\n",
    "    pickle.dump(similar_article_dict, f)\n",
    "    \n",
    "with open(\"../input/group_popular_dict_v1.pickle\", \"wb\") as f:\n",
    "    pickle.dump(group_popular_dict, f)"
   ]
  },
  {
   "cell_type": "code",
   "execution_count": 14,
   "metadata": {},
   "outputs": [
    {
     "name": "stdout",
     "output_type": "stream",
     "text": [
      "Get pairs\n"
     ]
    }
   ],
   "source": [
    "pairs = np.load('../input/pairs_cudf.npy', allow_pickle=True).item()\n",
    "print(\"Get pairs\")"
   ]
  },
  {
   "cell_type": "code",
   "execution_count": 29,
   "metadata": {},
   "outputs": [],
   "source": [
    "with open(\"../input/purchase_dict_v1.pickle\", \"rb\") as f:\n",
    "    purchase_dict = pickle.load(f)\n",
    "    \n",
    "with open(\"../input/similar_article_dict_v1.pickle\", \"rb\") as f:\n",
    "    purchase_dict = pickle.load(f)\n",
    "    \n",
    "with open(\"../input/group_popular_dict_v1.pickle\", \"rb\") as f:\n",
    "    purchase_dict = pickle.load(f)"
   ]
  },
  {
   "cell_type": "code",
   "execution_count": 24,
   "metadata": {},
   "outputs": [
    {
     "data": {
      "application/vnd.jupyter.widget-view+json": {
       "model_id": "c0ca9422c2ff4b748441e4eb61f7d91c",
       "version_major": 2,
       "version_minor": 0
      },
      "text/plain": [
       "VBox(children=(HBox(children=(IntProgress(value=0, description='0.00%', max=171498), Label(value='0 / 171498')…"
      ]
     },
     "metadata": {},
     "output_type": "display_data"
    },
    {
     "name": "stdout",
     "output_type": "stream",
     "text": [
      "Predict done\n"
     ]
    }
   ],
   "source": [
    "test_sub = get_prediction(\n",
    "    customers=customers, \n",
    "    purchase_dict=purchase_dict, \n",
    "    pairs=pairs, \n",
    "    similar_article_dict=similar_article_dict, \n",
    "    group_popular_dict=group_popular_dict, \n",
    "    purchase_value_limit=purchase_value_limit)\n",
    "print(\"Predict done\")"
   ]
  },
  {
   "cell_type": "code",
   "execution_count": 26,
   "metadata": {},
   "outputs": [],
   "source": [
    "test_sub[[\"customer_id\", \"prediction\"]].to_csv('../output/2.trending_test_7.csv', index=False)"
   ]
  },
  {
   "cell_type": "code",
   "execution_count": 25,
   "metadata": {},
   "outputs": [
    {
     "name": "stdout",
     "output_type": "stream",
     "text": [
      "MAP:  0.025589942958553172\n"
     ]
    }
   ],
   "source": [
    "true = get_true_articles(test).reset_index()\n",
    "sub = test_sub.merge(true, on=\"customer_id\", how=\"inner\")\n",
    "sub[\"ap\"] = sub.apply(avg_precision_at_k, axis=1)\n",
    "map_score = sub[\"ap\"].mean()\n",
    "print(\"MAP: \", map_score)"
   ]
  },
  {
   "cell_type": "code",
   "execution_count": 17,
   "metadata": {},
   "outputs": [],
   "source": [
    "sub[\"prediction_list\"] = sub[\"prediction\"].str.split(\" \")\n",
    "sub = (\n",
    "    sub.explode(\"prediction_list\")\n",
    "        .rename({\"prediction_list\": \"article_id\"}, axis=1)\n",
    "        [[\"customer_id\", \"article_id\", \"true\"]]\n",
    ")"
   ]
  },
  {
   "cell_type": "code",
   "execution_count": 23,
   "metadata": {},
   "outputs": [],
   "source": [
    "def get_target(line):\n",
    "    return int(line[\"article_id\"] in line[\"true\"])\n",
    "\n",
    "sub[\"target\"] = sub[[\"article_id\", \"true\"]].apply(get_target, axis=1)"
   ]
  },
  {
   "cell_type": "code",
   "execution_count": 26,
   "metadata": {},
   "outputs": [],
   "source": [
    "del sub[\"true\"]"
   ]
  },
  {
   "cell_type": "code",
   "execution_count": 31,
   "metadata": {},
   "outputs": [
    {
     "data": {
      "text/html": [
       "<div>\n",
       "<style scoped>\n",
       "    .dataframe tbody tr th:only-of-type {\n",
       "        vertical-align: middle;\n",
       "    }\n",
       "\n",
       "    .dataframe tbody tr th {\n",
       "        vertical-align: top;\n",
       "    }\n",
       "\n",
       "    .dataframe thead th {\n",
       "        text-align: right;\n",
       "    }\n",
       "</style>\n",
       "<table border=\"1\" class=\"dataframe\">\n",
       "  <thead>\n",
       "    <tr style=\"text-align: right;\">\n",
       "      <th></th>\n",
       "      <th>customer_id</th>\n",
       "      <th>article_id</th>\n",
       "      <th>target</th>\n",
       "    </tr>\n",
       "  </thead>\n",
       "  <tbody>\n",
       "    <tr>\n",
       "      <th>0</th>\n",
       "      <td>00039306476aaf41a07fed942884f16b30abfa83a2a8bea972019098d6406793</td>\n",
       "      <td>0111586001</td>\n",
       "      <td>0</td>\n",
       "    </tr>\n",
       "    <tr>\n",
       "      <th>0</th>\n",
       "      <td>00039306476aaf41a07fed942884f16b30abfa83a2a8bea972019098d6406793</td>\n",
       "      <td>0816083001</td>\n",
       "      <td>0</td>\n",
       "    </tr>\n",
       "    <tr>\n",
       "      <th>0</th>\n",
       "      <td>00039306476aaf41a07fed942884f16b30abfa83a2a8bea972019098d6406793</td>\n",
       "      <td>0916468001</td>\n",
       "      <td>0</td>\n",
       "    </tr>\n",
       "    <tr>\n",
       "      <th>0</th>\n",
       "      <td>00039306476aaf41a07fed942884f16b30abfa83a2a8bea972019098d6406793</td>\n",
       "      <td>0754751001</td>\n",
       "      <td>0</td>\n",
       "    </tr>\n",
       "    <tr>\n",
       "      <th>0</th>\n",
       "      <td>00039306476aaf41a07fed942884f16b30abfa83a2a8bea972019098d6406793</td>\n",
       "      <td>0158340001</td>\n",
       "      <td>0</td>\n",
       "    </tr>\n",
       "    <tr>\n",
       "      <th>...</th>\n",
       "      <td>...</td>\n",
       "      <td>...</td>\n",
       "      <td>...</td>\n",
       "    </tr>\n",
       "    <tr>\n",
       "      <th>68983</th>\n",
       "      <td>fffef3b6b73545df065b521e19f64bf6fe93bfd450ab20e02ce5d1e58a8f700b</td>\n",
       "      <td>0867948008</td>\n",
       "      <td>0</td>\n",
       "    </tr>\n",
       "    <tr>\n",
       "      <th>68983</th>\n",
       "      <td>fffef3b6b73545df065b521e19f64bf6fe93bfd450ab20e02ce5d1e58a8f700b</td>\n",
       "      <td>0895610005</td>\n",
       "      <td>0</td>\n",
       "    </tr>\n",
       "    <tr>\n",
       "      <th>68983</th>\n",
       "      <td>fffef3b6b73545df065b521e19f64bf6fe93bfd450ab20e02ce5d1e58a8f700b</td>\n",
       "      <td>0865076006</td>\n",
       "      <td>0</td>\n",
       "    </tr>\n",
       "    <tr>\n",
       "      <th>68983</th>\n",
       "      <td>fffef3b6b73545df065b521e19f64bf6fe93bfd450ab20e02ce5d1e58a8f700b</td>\n",
       "      <td>0707269007</td>\n",
       "      <td>0</td>\n",
       "    </tr>\n",
       "    <tr>\n",
       "      <th>68983</th>\n",
       "      <td>fffef3b6b73545df065b521e19f64bf6fe93bfd450ab20e02ce5d1e58a8f700b</td>\n",
       "      <td>0932243002</td>\n",
       "      <td>0</td>\n",
       "    </tr>\n",
       "  </tbody>\n",
       "</table>\n",
       "<p>827808 rows × 3 columns</p>\n",
       "</div>"
      ],
      "text/plain": [
       "                                                            customer_id  \\\n",
       "0      00039306476aaf41a07fed942884f16b30abfa83a2a8bea972019098d6406793   \n",
       "0      00039306476aaf41a07fed942884f16b30abfa83a2a8bea972019098d6406793   \n",
       "0      00039306476aaf41a07fed942884f16b30abfa83a2a8bea972019098d6406793   \n",
       "0      00039306476aaf41a07fed942884f16b30abfa83a2a8bea972019098d6406793   \n",
       "0      00039306476aaf41a07fed942884f16b30abfa83a2a8bea972019098d6406793   \n",
       "...                                                                 ...   \n",
       "68983  fffef3b6b73545df065b521e19f64bf6fe93bfd450ab20e02ce5d1e58a8f700b   \n",
       "68983  fffef3b6b73545df065b521e19f64bf6fe93bfd450ab20e02ce5d1e58a8f700b   \n",
       "68983  fffef3b6b73545df065b521e19f64bf6fe93bfd450ab20e02ce5d1e58a8f700b   \n",
       "68983  fffef3b6b73545df065b521e19f64bf6fe93bfd450ab20e02ce5d1e58a8f700b   \n",
       "68983  fffef3b6b73545df065b521e19f64bf6fe93bfd450ab20e02ce5d1e58a8f700b   \n",
       "\n",
       "       article_id  target  \n",
       "0      0111586001       0  \n",
       "0      0816083001       0  \n",
       "0      0916468001       0  \n",
       "0      0754751001       0  \n",
       "0      0158340001       0  \n",
       "...           ...     ...  \n",
       "68983  0867948008       0  \n",
       "68983  0895610005       0  \n",
       "68983  0865076006       0  \n",
       "68983  0707269007       0  \n",
       "68983  0932243002       0  \n",
       "\n",
       "[827808 rows x 3 columns]"
      ]
     },
     "execution_count": 31,
     "metadata": {},
     "output_type": "execute_result"
    }
   ],
   "source": [
    "sub"
   ]
  },
  {
   "cell_type": "code",
   "execution_count": 36,
   "metadata": {},
   "outputs": [
    {
     "data": {
      "text/html": [
       "<div>\n",
       "<style scoped>\n",
       "    .dataframe tbody tr th:only-of-type {\n",
       "        vertical-align: middle;\n",
       "    }\n",
       "\n",
       "    .dataframe tbody tr th {\n",
       "        vertical-align: top;\n",
       "    }\n",
       "\n",
       "    .dataframe thead th {\n",
       "        text-align: right;\n",
       "    }\n",
       "</style>\n",
       "<table border=\"1\" class=\"dataframe\">\n",
       "  <thead>\n",
       "    <tr style=\"text-align: right;\">\n",
       "      <th></th>\n",
       "      <th>customer_id</th>\n",
       "      <th>article_id</th>\n",
       "      <th>target</th>\n",
       "      <th>FN</th>\n",
       "      <th>Active</th>\n",
       "      <th>club_member_status</th>\n",
       "      <th>fashion_news_frequency</th>\n",
       "      <th>age</th>\n",
       "      <th>postal_code</th>\n",
       "      <th>age_group</th>\n",
       "      <th>...</th>\n",
       "      <th>price_max_article</th>\n",
       "      <th>price_mean_article</th>\n",
       "      <th>price_std_article</th>\n",
       "      <th>sales_channel_1_flg_sum_article</th>\n",
       "      <th>sales_channel_2_flg_sum_article</th>\n",
       "      <th>sales_sum_article</th>\n",
       "      <th>sales_channel_1_ratio_article</th>\n",
       "      <th>last_days_ago_article</th>\n",
       "      <th>first_days_ago_article</th>\n",
       "      <th>mean_count_on_customer</th>\n",
       "    </tr>\n",
       "  </thead>\n",
       "  <tbody>\n",
       "    <tr>\n",
       "      <th>0</th>\n",
       "      <td>00039306476aaf41a07fed942884f16b30abfa83a2a8bea972019098d6406793</td>\n",
       "      <td>0111586001</td>\n",
       "      <td>0</td>\n",
       "      <td>0.0</td>\n",
       "      <td>0.0</td>\n",
       "      <td>ACTIVE</td>\n",
       "      <td>NONE</td>\n",
       "      <td>27.0</td>\n",
       "      <td>Other</td>\n",
       "      <td>22-29</td>\n",
       "      <td>...</td>\n",
       "      <td>0.016983</td>\n",
       "      <td>0.012034</td>\n",
       "      <td>0.002472</td>\n",
       "      <td>13150.0</td>\n",
       "      <td>992.0</td>\n",
       "      <td>14142.0</td>\n",
       "      <td>0.929854</td>\n",
       "      <td>0.0</td>\n",
       "      <td>726.0</td>\n",
       "      <td>1.794898</td>\n",
       "    </tr>\n",
       "    <tr>\n",
       "      <th>1</th>\n",
       "      <td>0015f37f752a41a75c3be6f3f92deedc4c87d039f1758ec41f54f8c7f4729793</td>\n",
       "      <td>0111586001</td>\n",
       "      <td>0</td>\n",
       "      <td>0.0</td>\n",
       "      <td>0.0</td>\n",
       "      <td>ACTIVE</td>\n",
       "      <td>NONE</td>\n",
       "      <td>26.0</td>\n",
       "      <td>Other</td>\n",
       "      <td>22-29</td>\n",
       "      <td>...</td>\n",
       "      <td>0.016983</td>\n",
       "      <td>0.012034</td>\n",
       "      <td>0.002472</td>\n",
       "      <td>13150.0</td>\n",
       "      <td>992.0</td>\n",
       "      <td>14142.0</td>\n",
       "      <td>0.929854</td>\n",
       "      <td>0.0</td>\n",
       "      <td>726.0</td>\n",
       "      <td>1.794898</td>\n",
       "    </tr>\n",
       "    <tr>\n",
       "      <th>2</th>\n",
       "      <td>0064008cf954059e6f7801b03d1ed892b3d1d5a17ebd776300e4af3b5cad6c48</td>\n",
       "      <td>0111586001</td>\n",
       "      <td>0</td>\n",
       "      <td>0.0</td>\n",
       "      <td>0.0</td>\n",
       "      <td>ACTIVE</td>\n",
       "      <td>NONE</td>\n",
       "      <td>23.0</td>\n",
       "      <td>Other</td>\n",
       "      <td>22-29</td>\n",
       "      <td>...</td>\n",
       "      <td>0.016983</td>\n",
       "      <td>0.012034</td>\n",
       "      <td>0.002472</td>\n",
       "      <td>13150.0</td>\n",
       "      <td>992.0</td>\n",
       "      <td>14142.0</td>\n",
       "      <td>0.929854</td>\n",
       "      <td>0.0</td>\n",
       "      <td>726.0</td>\n",
       "      <td>1.794898</td>\n",
       "    </tr>\n",
       "    <tr>\n",
       "      <th>3</th>\n",
       "      <td>01283598b576c36586143e9d6c0d41101c46840b140c398bfc074529ade9a86f</td>\n",
       "      <td>0111586001</td>\n",
       "      <td>0</td>\n",
       "      <td>0.0</td>\n",
       "      <td>0.0</td>\n",
       "      <td>ACTIVE</td>\n",
       "      <td>None</td>\n",
       "      <td>19.0</td>\n",
       "      <td>Other</td>\n",
       "      <td>16-21</td>\n",
       "      <td>...</td>\n",
       "      <td>0.016983</td>\n",
       "      <td>0.012034</td>\n",
       "      <td>0.002472</td>\n",
       "      <td>13150.0</td>\n",
       "      <td>992.0</td>\n",
       "      <td>14142.0</td>\n",
       "      <td>0.929854</td>\n",
       "      <td>0.0</td>\n",
       "      <td>726.0</td>\n",
       "      <td>1.794898</td>\n",
       "    </tr>\n",
       "    <tr>\n",
       "      <th>4</th>\n",
       "      <td>0156132aa76b9c3efd6191ced3f038defe167b98add8c70317decd697b39e78f</td>\n",
       "      <td>0111586001</td>\n",
       "      <td>0</td>\n",
       "      <td>0.0</td>\n",
       "      <td>0.0</td>\n",
       "      <td>ACTIVE</td>\n",
       "      <td>NONE</td>\n",
       "      <td>35.0</td>\n",
       "      <td>Other</td>\n",
       "      <td>30-44</td>\n",
       "      <td>...</td>\n",
       "      <td>0.016983</td>\n",
       "      <td>0.012034</td>\n",
       "      <td>0.002472</td>\n",
       "      <td>13150.0</td>\n",
       "      <td>992.0</td>\n",
       "      <td>14142.0</td>\n",
       "      <td>0.929854</td>\n",
       "      <td>0.0</td>\n",
       "      <td>726.0</td>\n",
       "      <td>1.794898</td>\n",
       "    </tr>\n",
       "    <tr>\n",
       "      <th>...</th>\n",
       "      <td>...</td>\n",
       "      <td>...</td>\n",
       "      <td>...</td>\n",
       "      <td>...</td>\n",
       "      <td>...</td>\n",
       "      <td>...</td>\n",
       "      <td>...</td>\n",
       "      <td>...</td>\n",
       "      <td>...</td>\n",
       "      <td>...</td>\n",
       "      <td>...</td>\n",
       "      <td>...</td>\n",
       "      <td>...</td>\n",
       "      <td>...</td>\n",
       "      <td>...</td>\n",
       "      <td>...</td>\n",
       "      <td>...</td>\n",
       "      <td>...</td>\n",
       "      <td>...</td>\n",
       "      <td>...</td>\n",
       "      <td>...</td>\n",
       "    </tr>\n",
       "    <tr>\n",
       "      <th>827803</th>\n",
       "      <td>ffd988e8d1123f4ffde60525bd255d6a710ebe3aecd12190f64726cef150829e</td>\n",
       "      <td>0860301003</td>\n",
       "      <td>0</td>\n",
       "      <td>0.0</td>\n",
       "      <td>0.0</td>\n",
       "      <td>ACTIVE</td>\n",
       "      <td>NONE</td>\n",
       "      <td>33.0</td>\n",
       "      <td>Other</td>\n",
       "      <td>30-44</td>\n",
       "      <td>...</td>\n",
       "      <td>0.030492</td>\n",
       "      <td>0.014887</td>\n",
       "      <td>0.005980</td>\n",
       "      <td>0.0</td>\n",
       "      <td>12.0</td>\n",
       "      <td>12.0</td>\n",
       "      <td>0.000000</td>\n",
       "      <td>2.0</td>\n",
       "      <td>87.0</td>\n",
       "      <td>1.000000</td>\n",
       "    </tr>\n",
       "    <tr>\n",
       "      <th>827804</th>\n",
       "      <td>ffd988e8d1123f4ffde60525bd255d6a710ebe3aecd12190f64726cef150829e</td>\n",
       "      <td>0699082006</td>\n",
       "      <td>0</td>\n",
       "      <td>0.0</td>\n",
       "      <td>0.0</td>\n",
       "      <td>ACTIVE</td>\n",
       "      <td>NONE</td>\n",
       "      <td>33.0</td>\n",
       "      <td>Other</td>\n",
       "      <td>30-44</td>\n",
       "      <td>...</td>\n",
       "      <td>0.025407</td>\n",
       "      <td>0.024170</td>\n",
       "      <td>0.003037</td>\n",
       "      <td>74.0</td>\n",
       "      <td>2499.0</td>\n",
       "      <td>2573.0</td>\n",
       "      <td>0.028760</td>\n",
       "      <td>11.0</td>\n",
       "      <td>601.0</td>\n",
       "      <td>1.318135</td>\n",
       "    </tr>\n",
       "    <tr>\n",
       "      <th>827805</th>\n",
       "      <td>ffe1791c9c6e3df9aafeebc77cf2cf03dd0123ac76ef90fb37c7b7c3fe6442e7</td>\n",
       "      <td>0853740002</td>\n",
       "      <td>1</td>\n",
       "      <td>0.0</td>\n",
       "      <td>0.0</td>\n",
       "      <td>ACTIVE</td>\n",
       "      <td>NONE</td>\n",
       "      <td>45.0</td>\n",
       "      <td>Other</td>\n",
       "      <td>45-54</td>\n",
       "      <td>...</td>\n",
       "      <td>0.033881</td>\n",
       "      <td>0.033449</td>\n",
       "      <td>0.000980</td>\n",
       "      <td>2.0</td>\n",
       "      <td>17.0</td>\n",
       "      <td>19.0</td>\n",
       "      <td>0.105263</td>\n",
       "      <td>0.0</td>\n",
       "      <td>27.0</td>\n",
       "      <td>1.000000</td>\n",
       "    </tr>\n",
       "    <tr>\n",
       "      <th>827806</th>\n",
       "      <td>ffee12091eb3aa2337defe250d7f6b23dbbf9d496fdd7c39a351d16056432189</td>\n",
       "      <td>0875898003</td>\n",
       "      <td>0</td>\n",
       "      <td>1.0</td>\n",
       "      <td>1.0</td>\n",
       "      <td>ACTIVE</td>\n",
       "      <td>Regularly</td>\n",
       "      <td>52.0</td>\n",
       "      <td>Other</td>\n",
       "      <td>45-54</td>\n",
       "      <td>...</td>\n",
       "      <td>0.016932</td>\n",
       "      <td>0.015915</td>\n",
       "      <td>0.001637</td>\n",
       "      <td>0.0</td>\n",
       "      <td>10.0</td>\n",
       "      <td>10.0</td>\n",
       "      <td>0.000000</td>\n",
       "      <td>3.0</td>\n",
       "      <td>21.0</td>\n",
       "      <td>1.111111</td>\n",
       "    </tr>\n",
       "    <tr>\n",
       "      <th>827807</th>\n",
       "      <td>ffef8aec5cf011fa1393b40337a5993ce0b7b81af6b3228600897e4fad2eaa90</td>\n",
       "      <td>0865092001</td>\n",
       "      <td>0</td>\n",
       "      <td>0.0</td>\n",
       "      <td>0.0</td>\n",
       "      <td>ACTIVE</td>\n",
       "      <td>NONE</td>\n",
       "      <td>36.0</td>\n",
       "      <td>Other</td>\n",
       "      <td>30-44</td>\n",
       "      <td>...</td>\n",
       "      <td>0.076254</td>\n",
       "      <td>0.039404</td>\n",
       "      <td>0.015197</td>\n",
       "      <td>5.0</td>\n",
       "      <td>105.0</td>\n",
       "      <td>110.0</td>\n",
       "      <td>0.045455</td>\n",
       "      <td>5.0</td>\n",
       "      <td>130.0</td>\n",
       "      <td>1.250000</td>\n",
       "    </tr>\n",
       "  </tbody>\n",
       "</table>\n",
       "<p>827808 rows × 55 columns</p>\n",
       "</div>"
      ],
      "text/plain": [
       "                                                             customer_id  \\\n",
       "0       00039306476aaf41a07fed942884f16b30abfa83a2a8bea972019098d6406793   \n",
       "1       0015f37f752a41a75c3be6f3f92deedc4c87d039f1758ec41f54f8c7f4729793   \n",
       "2       0064008cf954059e6f7801b03d1ed892b3d1d5a17ebd776300e4af3b5cad6c48   \n",
       "3       01283598b576c36586143e9d6c0d41101c46840b140c398bfc074529ade9a86f   \n",
       "4       0156132aa76b9c3efd6191ced3f038defe167b98add8c70317decd697b39e78f   \n",
       "...                                                                  ...   \n",
       "827803  ffd988e8d1123f4ffde60525bd255d6a710ebe3aecd12190f64726cef150829e   \n",
       "827804  ffd988e8d1123f4ffde60525bd255d6a710ebe3aecd12190f64726cef150829e   \n",
       "827805  ffe1791c9c6e3df9aafeebc77cf2cf03dd0123ac76ef90fb37c7b7c3fe6442e7   \n",
       "827806  ffee12091eb3aa2337defe250d7f6b23dbbf9d496fdd7c39a351d16056432189   \n",
       "827807  ffef8aec5cf011fa1393b40337a5993ce0b7b81af6b3228600897e4fad2eaa90   \n",
       "\n",
       "        article_id  target   FN  Active club_member_status  \\\n",
       "0       0111586001       0  0.0     0.0             ACTIVE   \n",
       "1       0111586001       0  0.0     0.0             ACTIVE   \n",
       "2       0111586001       0  0.0     0.0             ACTIVE   \n",
       "3       0111586001       0  0.0     0.0             ACTIVE   \n",
       "4       0111586001       0  0.0     0.0             ACTIVE   \n",
       "...            ...     ...  ...     ...                ...   \n",
       "827803  0860301003       0  0.0     0.0             ACTIVE   \n",
       "827804  0699082006       0  0.0     0.0             ACTIVE   \n",
       "827805  0853740002       1  0.0     0.0             ACTIVE   \n",
       "827806  0875898003       0  1.0     1.0             ACTIVE   \n",
       "827807  0865092001       0  0.0     0.0             ACTIVE   \n",
       "\n",
       "       fashion_news_frequency   age postal_code age_group  ...  \\\n",
       "0                        NONE  27.0       Other     22-29  ...   \n",
       "1                        NONE  26.0       Other     22-29  ...   \n",
       "2                        NONE  23.0       Other     22-29  ...   \n",
       "3                        None  19.0       Other     16-21  ...   \n",
       "4                        NONE  35.0       Other     30-44  ...   \n",
       "...                       ...   ...         ...       ...  ...   \n",
       "827803                   NONE  33.0       Other     30-44  ...   \n",
       "827804                   NONE  33.0       Other     30-44  ...   \n",
       "827805                   NONE  45.0       Other     45-54  ...   \n",
       "827806              Regularly  52.0       Other     45-54  ...   \n",
       "827807                   NONE  36.0       Other     30-44  ...   \n",
       "\n",
       "        price_max_article  price_mean_article  price_std_article  \\\n",
       "0                0.016983            0.012034           0.002472   \n",
       "1                0.016983            0.012034           0.002472   \n",
       "2                0.016983            0.012034           0.002472   \n",
       "3                0.016983            0.012034           0.002472   \n",
       "4                0.016983            0.012034           0.002472   \n",
       "...                   ...                 ...                ...   \n",
       "827803           0.030492            0.014887           0.005980   \n",
       "827804           0.025407            0.024170           0.003037   \n",
       "827805           0.033881            0.033449           0.000980   \n",
       "827806           0.016932            0.015915           0.001637   \n",
       "827807           0.076254            0.039404           0.015197   \n",
       "\n",
       "        sales_channel_1_flg_sum_article  sales_channel_2_flg_sum_article  \\\n",
       "0                               13150.0                            992.0   \n",
       "1                               13150.0                            992.0   \n",
       "2                               13150.0                            992.0   \n",
       "3                               13150.0                            992.0   \n",
       "4                               13150.0                            992.0   \n",
       "...                                 ...                              ...   \n",
       "827803                              0.0                             12.0   \n",
       "827804                             74.0                           2499.0   \n",
       "827805                              2.0                             17.0   \n",
       "827806                              0.0                             10.0   \n",
       "827807                              5.0                            105.0   \n",
       "\n",
       "        sales_sum_article  sales_channel_1_ratio_article  \\\n",
       "0                 14142.0                       0.929854   \n",
       "1                 14142.0                       0.929854   \n",
       "2                 14142.0                       0.929854   \n",
       "3                 14142.0                       0.929854   \n",
       "4                 14142.0                       0.929854   \n",
       "...                   ...                            ...   \n",
       "827803               12.0                       0.000000   \n",
       "827804             2573.0                       0.028760   \n",
       "827805               19.0                       0.105263   \n",
       "827806               10.0                       0.000000   \n",
       "827807              110.0                       0.045455   \n",
       "\n",
       "        last_days_ago_article  first_days_ago_article  mean_count_on_customer  \n",
       "0                         0.0                   726.0                1.794898  \n",
       "1                         0.0                   726.0                1.794898  \n",
       "2                         0.0                   726.0                1.794898  \n",
       "3                         0.0                   726.0                1.794898  \n",
       "4                         0.0                   726.0                1.794898  \n",
       "...                       ...                     ...                     ...  \n",
       "827803                    2.0                    87.0                1.000000  \n",
       "827804                   11.0                   601.0                1.318135  \n",
       "827805                    0.0                    27.0                1.000000  \n",
       "827806                    3.0                    21.0                1.111111  \n",
       "827807                    5.0                   130.0                1.250000  \n",
       "\n",
       "[827808 rows x 55 columns]"
      ]
     },
     "execution_count": 36,
     "metadata": {},
     "output_type": "execute_result"
    }
   ],
   "source": [
    "train_data = (\n",
    "    sub.merge(customers, on=\"customer_id\")\n",
    "        .merge(articles, on=\"article_id\", suffixes=(\"_customer\", \"_article\"))\n",
    ")\n",
    "train_data"
   ]
  },
  {
   "cell_type": "code",
   "execution_count": 65,
   "metadata": {},
   "outputs": [],
   "source": [
    "groups = train_data[[\"customer_id\", \"article_id\"]].apply(lambda x: \"_\".join(x), axis=1)\n",
    "X = train_data.drop([\"target\", \"customer_id\", \"article_id\"], axis=1)\n",
    "y = train_data[\"target\"]"
   ]
  },
  {
   "cell_type": "code",
   "execution_count": 43,
   "metadata": {},
   "outputs": [
    {
     "data": {
      "text/plain": [
       "['club_member_status',\n",
       " 'fashion_news_frequency',\n",
       " 'postal_code',\n",
       " 'age_group',\n",
       " 'common_group',\n",
       " 'sex',\n",
       " 'price_group',\n",
       " 'prediction',\n",
       " 'product_type_name',\n",
       " 'product_group_name',\n",
       " 'graphical_appearance_name',\n",
       " 'colour_group_name',\n",
       " 'perceived_colour_value_name',\n",
       " 'perceived_colour_master_name',\n",
       " 'index_name',\n",
       " 'index_group_name',\n",
       " 'garment_group_name',\n",
       " 'detail_desc',\n",
       " 'product_code_name',\n",
       " 'department_no_name',\n",
       " 'section_no_name']"
      ]
     },
     "execution_count": 43,
     "metadata": {},
     "output_type": "execute_result"
    }
   ],
   "source": [
    "cat_features = [name for name, dtype in zip(X_train.dtypes.index,\n",
    "                                            X_train.dtypes.to_list()) \n",
    "                if dtype == \"object\"]\n",
    "cat_features"
   ]
  },
  {
   "cell_type": "code",
   "execution_count": 66,
   "metadata": {},
   "outputs": [],
   "source": [
    "from sklearn.model_selection import train_test_split"
   ]
  },
  {
   "cell_type": "code",
   "execution_count": 67,
   "metadata": {},
   "outputs": [],
   "source": [
    "X_train, X_test, y_train, y_test = train_test_split(X, y, test_size=0.2)"
   ]
  },
  {
   "cell_type": "code",
   "execution_count": 70,
   "metadata": {},
   "outputs": [
    {
     "name": "stderr",
     "output_type": "stream",
     "text": [
      "Custom logger is already specified. Specify more than one logger at same time is not thread safe."
     ]
    },
    {
     "name": "stdout",
     "output_type": "stream",
     "text": [
      "Learning rate set to 0.026014\n",
      "0:\tlearn: 0.5571409\ttest: 0.5495629\tbest: 0.5495629 (0)\ttotal: 43ms\tremaining: 2m 8s\n",
      "100:\tlearn: 0.7230175\ttest: 0.7256847\tbest: 0.7256847 (100)\ttotal: 5.18s\tremaining: 2m 28s\n",
      "200:\tlearn: 0.7368787\ttest: 0.7428179\tbest: 0.7428179 (200)\ttotal: 10.6s\tremaining: 2m 28s\n",
      "300:\tlearn: 0.7461511\ttest: 0.7499255\tbest: 0.7499255 (300)\ttotal: 16s\tremaining: 2m 23s\n",
      "400:\tlearn: 0.7517797\ttest: 0.7539111\tbest: 0.7539111 (400)\ttotal: 21.3s\tremaining: 2m 17s\n",
      "500:\tlearn: 0.7556519\ttest: 0.7565326\tbest: 0.7565326 (500)\ttotal: 26.4s\tremaining: 2m 11s\n",
      "600:\tlearn: 0.7597088\ttest: 0.7591854\tbest: 0.7591854 (600)\ttotal: 31.9s\tremaining: 2m 7s\n",
      "700:\tlearn: 0.7636332\ttest: 0.7611772\tbest: 0.7611772 (700)\ttotal: 37.2s\tremaining: 2m 2s\n",
      "800:\tlearn: 0.7660454\ttest: 0.7627499\tbest: 0.7627542 (798)\ttotal: 42.7s\tremaining: 1m 57s\n",
      "900:\tlearn: 0.7684370\ttest: 0.7635413\tbest: 0.7635413 (900)\ttotal: 48.2s\tremaining: 1m 52s\n",
      "1000:\tlearn: 0.7707857\ttest: 0.7648104\tbest: 0.7648104 (1000)\ttotal: 53.7s\tremaining: 1m 47s\n",
      "1100:\tlearn: 0.7734849\ttest: 0.7663586\tbest: 0.7663586 (1100)\ttotal: 59.2s\tremaining: 1m 42s\n",
      "1200:\tlearn: 0.7756986\ttest: 0.7676190\tbest: 0.7676190 (1200)\ttotal: 1m 4s\tremaining: 1m 36s\n",
      "1300:\tlearn: 0.7774569\ttest: 0.7683794\tbest: 0.7683794 (1300)\ttotal: 1m 10s\tremaining: 1m 31s\n",
      "1400:\tlearn: 0.7792854\ttest: 0.7690829\tbest: 0.7691399 (1397)\ttotal: 1m 15s\tremaining: 1m 26s\n",
      "1500:\tlearn: 0.7809096\ttest: 0.7697615\tbest: 0.7697684 (1498)\ttotal: 1m 21s\tremaining: 1m 20s\n",
      "1600:\tlearn: 0.7823971\ttest: 0.7704657\tbest: 0.7704657 (1600)\ttotal: 1m 26s\tremaining: 1m 15s\n",
      "1700:\tlearn: 0.7840907\ttest: 0.7712090\tbest: 0.7712120 (1699)\ttotal: 1m 32s\tremaining: 1m 10s\n",
      "1800:\tlearn: 0.7857094\ttest: 0.7719898\tbest: 0.7719898 (1800)\ttotal: 1m 37s\tremaining: 1m 4s\n",
      "1900:\tlearn: 0.7872460\ttest: 0.7723021\tbest: 0.7723021 (1900)\ttotal: 1m 43s\tremaining: 59.6s\n",
      "2000:\tlearn: 0.7887290\ttest: 0.7726673\tbest: 0.7726879 (1996)\ttotal: 1m 48s\tremaining: 54.3s\n",
      "2100:\tlearn: 0.7901232\ttest: 0.7732027\tbest: 0.7732047 (2099)\ttotal: 1m 54s\tremaining: 48.9s\n",
      "2200:\tlearn: 0.7914574\ttest: 0.7735548\tbest: 0.7735903 (2193)\ttotal: 1m 59s\tremaining: 43.5s\n",
      "2300:\tlearn: 0.7927226\ttest: 0.7739984\tbest: 0.7739984 (2300)\ttotal: 2m 5s\tremaining: 38.1s\n",
      "2400:\tlearn: 0.7941959\ttest: 0.7745102\tbest: 0.7745179 (2397)\ttotal: 2m 10s\tremaining: 32.7s\n",
      "2500:\tlearn: 0.7954412\ttest: 0.7749268\tbest: 0.7749268 (2500)\ttotal: 2m 16s\tremaining: 27.2s\n",
      "2600:\tlearn: 0.7967472\ttest: 0.7752392\tbest: 0.7752621 (2597)\ttotal: 2m 22s\tremaining: 21.8s\n",
      "2700:\tlearn: 0.7981093\ttest: 0.7755639\tbest: 0.7755728 (2693)\ttotal: 2m 27s\tremaining: 16.3s\n",
      "2800:\tlearn: 0.7991804\ttest: 0.7757780\tbest: 0.7758226 (2781)\ttotal: 2m 33s\tremaining: 10.9s\n",
      "2900:\tlearn: 0.8003038\ttest: 0.7760077\tbest: 0.7760477 (2896)\ttotal: 2m 38s\tremaining: 5.42s\n",
      "2999:\tlearn: 0.8015148\ttest: 0.7763663\tbest: 0.7763707 (2998)\ttotal: 2m 43s\tremaining: 0us\n",
      "bestTest = 0.7763707042\n",
      "bestIteration = 2998\n",
      "Shrink model to first 2999 iterations.\n"
     ]
    },
    {
     "data": {
      "text/plain": [
       "<catboost.core.CatBoostClassifier at 0x7f906db93250>"
      ]
     },
     "execution_count": 70,
     "metadata": {},
     "output_type": "execute_result"
    }
   ],
   "source": [
    "SEED = 1\n",
    "params = {\n",
    "    'iterations': 3000,\n",
    "#     'learning_rate': 0.01,\n",
    "#     \"l2_leaf_reg\": 3, \n",
    "#     \"random_strength\": 1,\n",
    "#     \"bagging_temperature\": 1,\n",
    "#     \"max_depth\": 12,\n",
    "#     \"one_hot_max_size\": 2, \n",
    "#     \"rsm\": 1,\n",
    "#     \"boosting_type\": \"Ordered\",\n",
    "#     \"leaf_estimation_method\": \"Newton\",\n",
    "    \"early_stopping_rounds\": 100,\n",
    "    'loss_function': \"Logloss\",\n",
    "    'custom_metric': [\"AUC\", \"Logloss\", \"Accuracy\", \"Precision\", \"Recall\"],\n",
    "    'use_best_model': True,\n",
    "    \"eval_metric\": \"AUC\",\n",
    "    \"random_seed\": SEED,\n",
    "    'task_type': 'GPU'\n",
    "    }\n",
    "\n",
    "clf = catboost.CatBoostClassifier(**params, \n",
    "                         cat_features=cat_features, \n",
    "                         verbose=100)\n",
    "\n",
    "clf.fit(X_train, y_train, \n",
    "        eval_set=(X_test, y_test))"
   ]
  },
  {
   "cell_type": "code",
   "execution_count": null,
   "metadata": {},
   "outputs": [],
   "source": []
  }
 ],
 "metadata": {
  "kernelspec": {
   "display_name": "Python 3",
   "language": "python",
   "name": "python3"
  },
  "language_info": {
   "codemirror_mode": {
    "name": "ipython",
    "version": 3
   },
   "file_extension": ".py",
   "mimetype": "text/x-python",
   "name": "python",
   "nbconvert_exporter": "python",
   "pygments_lexer": "ipython3",
   "version": "3.8.10"
  }
 },
 "nbformat": 4,
 "nbformat_minor": 4
}
